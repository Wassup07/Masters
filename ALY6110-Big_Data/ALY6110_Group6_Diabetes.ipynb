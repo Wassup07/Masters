{
  "nbformat": 4,
  "nbformat_minor": 0,
  "metadata": {
    "colab": {
      "name": "Group6_Diabetes.ipynb",
      "provenance": [],
      "collapsed_sections": []
    },
    "kernelspec": {
      "name": "python3",
      "display_name": "Python 3"
    },
    "language_info": {
      "name": "python"
    }
  },
  "cells": [
    {
      "cell_type": "code",
      "execution_count": 1,
      "metadata": {
        "colab": {
          "base_uri": "https://localhost:8080/"
        },
        "id": "fvvhKQK9Cm64",
        "outputId": "495b9cb5-ec83-4291-9d72-b55f5045979f"
      },
      "outputs": [
        {
          "output_type": "stream",
          "name": "stdout",
          "text": [
            "Collecting pyspark\n",
            "  Downloading pyspark-3.2.1.tar.gz (281.4 MB)\n",
            "\u001b[K     |████████████████████████████████| 281.4 MB 26 kB/s \n",
            "\u001b[?25hCollecting py4j==0.10.9.3\n",
            "  Downloading py4j-0.10.9.3-py2.py3-none-any.whl (198 kB)\n",
            "\u001b[K     |████████████████████████████████| 198 kB 56.7 MB/s \n",
            "\u001b[?25hBuilding wheels for collected packages: pyspark\n",
            "  Building wheel for pyspark (setup.py) ... \u001b[?25l\u001b[?25hdone\n",
            "  Created wheel for pyspark: filename=pyspark-3.2.1-py2.py3-none-any.whl size=281853642 sha256=8080a25815cafb80fdf1d9133114854d09ba6d138eb4cf29db8d41458f379250\n",
            "  Stored in directory: /root/.cache/pip/wheels/9f/f5/07/7cd8017084dce4e93e84e92efd1e1d5334db05f2e83bcef74f\n",
            "Successfully built pyspark\n",
            "Installing collected packages: py4j, pyspark\n",
            "Successfully installed py4j-0.10.9.3 pyspark-3.2.1\n"
          ]
        }
      ],
      "source": [
        "!pip install pyspark"
      ]
    },
    {
      "cell_type": "code",
      "source": [
        "import numpy as np\n",
        "import pandas as pd\n",
        "import pyspark\n",
        "from pyspark import SparkContext, SparkConf\n",
        "from pyspark.sql import SparkSession\n",
        "import pyspark.sql.functions as f\n",
        "import matplotlib                  # 2D Plotting Library\n",
        "import matplotlib.pyplot as plt\n",
        "import seaborn as sns              # Python Data Visualization Library based on matplotlib\n",
        "plt.style.use('fivethirtyeight')\n",
        "%matplotlib inline\n",
        "# ML Libraries\n",
        "import sklearn\n",
        "from sklearn import preprocessing\n",
        "from sklearn import metrics\n",
        "from sklearn.metrics import r2_score, mean_absolute_error\n",
        "from sklearn.preprocessing import LabelEncoder,OneHotEncoder\n",
        "from sklearn.model_selection import train_test_split\n",
        "from sklearn.metrics import accuracy_score\n",
        "from sklearn.linear_model import SGDClassifier\n",
        "from sklearn.neighbors import KNeighborsClassifier \n",
        "from sklearn.tree import DecisionTreeClassifier\n",
        "from sklearn.ensemble import RandomForestClassifier,  GradientBoostingClassifier\n",
        "from sklearn.ensemble import AdaBoostClassifier\n",
        "from sklearn.naive_bayes import GaussianNB\n",
        "from sklearn.svm import LinearSVC\n",
        "from sklearn.linear_model import LogisticRegression"
      ],
      "metadata": {
        "id": "i_9wufZwaysM"
      },
      "execution_count": 2,
      "outputs": []
    },
    {
      "cell_type": "code",
      "source": [
        "conf = pyspark.SparkConf()\n",
        "conf.setAppName('mySparkApp')\n",
        "conf.setMaster('local')\n",
        "sc = pyspark.SparkContext(conf=conf)\n",
        "spark = SparkSession(sc)"
      ],
      "metadata": {
        "id": "n4xGShCna3Zz"
      },
      "execution_count": 3,
      "outputs": []
    },
    {
      "cell_type": "code",
      "source": [
        "!wget -q http://archive.ics.uci.edu/ml/machine-learning-databases/00296/dataset_diabetes.zip"
      ],
      "metadata": {
        "id": "jMWxPaPna5Ao"
      },
      "execution_count": 4,
      "outputs": []
    },
    {
      "cell_type": "code",
      "source": [
        "!unzip dataset_diabetes.zip"
      ],
      "metadata": {
        "id": "mm-E7wWYci7i",
        "colab": {
          "base_uri": "https://localhost:8080/"
        },
        "outputId": "0d89b0aa-f8bc-4ccc-dcf0-30607b2356bf"
      },
      "execution_count": 5,
      "outputs": [
        {
          "output_type": "stream",
          "name": "stdout",
          "text": [
            "Archive:  dataset_diabetes.zip\n",
            "  inflating: dataset_diabetes/diabetic_data.csv  \n",
            "  inflating: dataset_diabetes/IDs_mapping.csv  \n"
          ]
        }
      ]
    },
    {
      "cell_type": "code",
      "source": [
        "diabetes_df = spark.read.option('header','true').csv('/content/dataset_diabetes/diabetic_data.csv',inferSchema=True)"
      ],
      "metadata": {
        "id": "ZYAYJgSmOtXg"
      },
      "execution_count": 6,
      "outputs": []
    },
    {
      "cell_type": "code",
      "source": [
        "diabetes_df.show()"
      ],
      "metadata": {
        "id": "cTpArsw2O2bo",
        "colab": {
          "base_uri": "https://localhost:8080/"
        },
        "outputId": "4a9fd9d1-ad78-4bdb-fa38-1101bc5dc972"
      },
      "execution_count": 7,
      "outputs": [
        {
          "output_type": "stream",
          "name": "stdout",
          "text": [
            "+------------+-----------+---------------+------+--------+------+-----------------+------------------------+-------------------+----------------+----------+--------------------+------------------+--------------+---------------+-----------------+----------------+----------------+------+------+------+----------------+-------------+---------+---------+-----------+-----------+--------------+-----------+-------------+---------+---------+-----------+------------+-------------+--------+--------+------------+----------+-------+-----------+-------+-------------------+-------------------+------------------------+-----------------------+----------------------+------+-----------+----------+\n",
            "|encounter_id|patient_nbr|           race|gender|     age|weight|admission_type_id|discharge_disposition_id|admission_source_id|time_in_hospital|payer_code|   medical_specialty|num_lab_procedures|num_procedures|num_medications|number_outpatient|number_emergency|number_inpatient|diag_1|diag_2|diag_3|number_diagnoses|max_glu_serum|A1Cresult|metformin|repaglinide|nateglinide|chlorpropamide|glimepiride|acetohexamide|glipizide|glyburide|tolbutamide|pioglitazone|rosiglitazone|acarbose|miglitol|troglitazone|tolazamide|examide|citoglipton|insulin|glyburide-metformin|glipizide-metformin|glimepiride-pioglitazone|metformin-rosiglitazone|metformin-pioglitazone|change|diabetesMed|readmitted|\n",
            "+------------+-----------+---------------+------+--------+------+-----------------+------------------------+-------------------+----------------+----------+--------------------+------------------+--------------+---------------+-----------------+----------------+----------------+------+------+------+----------------+-------------+---------+---------+-----------+-----------+--------------+-----------+-------------+---------+---------+-----------+------------+-------------+--------+--------+------------+----------+-------+-----------+-------+-------------------+-------------------+------------------------+-----------------------+----------------------+------+-----------+----------+\n",
            "|     2278392|    8222157|      Caucasian|Female|  [0-10)|     ?|                6|                      25|                  1|               1|         ?|Pediatrics-Endocr...|                41|             0|              1|                0|               0|               0|250.83|     ?|     ?|               1|         None|     None|       No|         No|         No|            No|         No|           No|       No|       No|         No|          No|           No|      No|      No|          No|        No|     No|         No|     No|                 No|                 No|                      No|                     No|                    No|    No|         No|        NO|\n",
            "|      149190|   55629189|      Caucasian|Female| [10-20)|     ?|                1|                       1|                  7|               3|         ?|                   ?|                59|             0|             18|                0|               0|               0|   276|250.01|   255|               9|         None|     None|       No|         No|         No|            No|         No|           No|       No|       No|         No|          No|           No|      No|      No|          No|        No|     No|         No|     Up|                 No|                 No|                      No|                     No|                    No|    Ch|        Yes|       >30|\n",
            "|       64410|   86047875|AfricanAmerican|Female| [20-30)|     ?|                1|                       1|                  7|               2|         ?|                   ?|                11|             5|             13|                2|               0|               1|   648|   250|   V27|               6|         None|     None|       No|         No|         No|            No|         No|           No|   Steady|       No|         No|          No|           No|      No|      No|          No|        No|     No|         No|     No|                 No|                 No|                      No|                     No|                    No|    No|        Yes|        NO|\n",
            "|      500364|   82442376|      Caucasian|  Male| [30-40)|     ?|                1|                       1|                  7|               2|         ?|                   ?|                44|             1|             16|                0|               0|               0|     8|250.43|   403|               7|         None|     None|       No|         No|         No|            No|         No|           No|       No|       No|         No|          No|           No|      No|      No|          No|        No|     No|         No|     Up|                 No|                 No|                      No|                     No|                    No|    Ch|        Yes|        NO|\n",
            "|       16680|   42519267|      Caucasian|  Male| [40-50)|     ?|                1|                       1|                  7|               1|         ?|                   ?|                51|             0|              8|                0|               0|               0|   197|   157|   250|               5|         None|     None|       No|         No|         No|            No|         No|           No|   Steady|       No|         No|          No|           No|      No|      No|          No|        No|     No|         No| Steady|                 No|                 No|                      No|                     No|                    No|    Ch|        Yes|        NO|\n",
            "|       35754|   82637451|      Caucasian|  Male| [50-60)|     ?|                2|                       1|                  2|               3|         ?|                   ?|                31|             6|             16|                0|               0|               0|   414|   411|   250|               9|         None|     None|       No|         No|         No|            No|         No|           No|       No|       No|         No|          No|           No|      No|      No|          No|        No|     No|         No| Steady|                 No|                 No|                      No|                     No|                    No|    No|        Yes|       >30|\n",
            "|       55842|   84259809|      Caucasian|  Male| [60-70)|     ?|                3|                       1|                  2|               4|         ?|                   ?|                70|             1|             21|                0|               0|               0|   414|   411|   V45|               7|         None|     None|   Steady|         No|         No|            No|     Steady|           No|       No|       No|         No|          No|           No|      No|      No|          No|        No|     No|         No| Steady|                 No|                 No|                      No|                     No|                    No|    Ch|        Yes|        NO|\n",
            "|       63768|  114882984|      Caucasian|  Male| [70-80)|     ?|                1|                       1|                  7|               5|         ?|                   ?|                73|             0|             12|                0|               0|               0|   428|   492|   250|               8|         None|     None|       No|         No|         No|            No|         No|           No|       No|   Steady|         No|          No|           No|      No|      No|          No|        No|     No|         No|     No|                 No|                 No|                      No|                     No|                    No|    No|        Yes|       >30|\n",
            "|       12522|   48330783|      Caucasian|Female| [80-90)|     ?|                2|                       1|                  4|              13|         ?|                   ?|                68|             2|             28|                0|               0|               0|   398|   427|    38|               8|         None|     None|       No|         No|         No|            No|         No|           No|   Steady|       No|         No|          No|           No|      No|      No|          No|        No|     No|         No| Steady|                 No|                 No|                      No|                     No|                    No|    Ch|        Yes|        NO|\n",
            "|       15738|   63555939|      Caucasian|Female|[90-100)|     ?|                3|                       3|                  4|              12|         ?|    InternalMedicine|                33|             3|             18|                0|               0|               0|   434|   198|   486|               8|         None|     None|       No|         No|         No|            No|         No|           No|       No|       No|         No|          No|       Steady|      No|      No|          No|        No|     No|         No| Steady|                 No|                 No|                      No|                     No|                    No|    Ch|        Yes|        NO|\n",
            "|       28236|   89869032|AfricanAmerican|Female| [40-50)|     ?|                1|                       1|                  7|               9|         ?|                   ?|                47|             2|             17|                0|               0|               0| 250.7|   403|   996|               9|         None|     None|       No|         No|         No|            No|         No|           No|       No|       No|         No|          No|           No|      No|      No|          No|        No|     No|         No| Steady|                 No|                 No|                      No|                     No|                    No|    No|        Yes|       >30|\n",
            "|       36900|   77391171|AfricanAmerican|  Male| [60-70)|     ?|                2|                       1|                  4|               7|         ?|                   ?|                62|             0|             11|                0|               0|               0|   157|   288|   197|               7|         None|     None|       No|         No|         No|            No|         No|           No|       No|       Up|         No|          No|           No|      No|      No|          No|        No|     No|         No| Steady|                 No|                 No|                      No|                     No|                    No|    Ch|        Yes|       <30|\n",
            "|       40926|   85504905|      Caucasian|Female| [40-50)|     ?|                1|                       3|                  7|               7|         ?|Family/GeneralPra...|                60|             0|             15|                0|               1|               0|   428|250.43| 250.6|               8|         None|     None|   Steady|         Up|         No|            No|         No|           No|       No|       No|         No|          No|           No|      No|      No|          No|        No|     No|         No|   Down|                 No|                 No|                      No|                     No|                    No|    Ch|        Yes|       <30|\n",
            "|       42570|   77586282|      Caucasian|  Male| [80-90)|     ?|                1|                       6|                  7|              10|         ?|Family/GeneralPra...|                55|             1|             31|                0|               0|               0|   428|   411|   427|               8|         None|     None|       No|         No|         No|            No|         No|           No|       No|       No|         No|          No|           No|      No|      No|          No|        No|     No|         No| Steady|                 No|                 No|                      No|                     No|                    No|    No|        Yes|        NO|\n",
            "|       62256|   49726791|AfricanAmerican|Female| [60-70)|     ?|                3|                       1|                  2|               1|         ?|                   ?|                49|             5|              2|                0|               0|               0|   518|   998|   627|               8|         None|     None|       No|         No|         No|            No|         No|           No|       No|       No|         No|          No|           No|      No|      No|          No|        No|     No|         No| Steady|                 No|                 No|                      No|                     No|                    No|    No|        Yes|       >30|\n",
            "|       73578|   86328819|AfricanAmerican|  Male| [60-70)|     ?|                1|                       3|                  7|              12|         ?|                   ?|                75|             5|             13|                0|               0|               0|   999|   507|   996|               9|         None|     None|       No|         No|         No|            No|         No|           No|       No|       No|         No|          No|           No|      No|      No|          No|        No|     No|         No|     Up|                 No|                 No|                      No|                     No|                    No|    Ch|        Yes|        NO|\n",
            "|       77076|   92519352|AfricanAmerican|  Male| [50-60)|     ?|                1|                       1|                  7|               4|         ?|                   ?|                45|             4|             17|                0|               0|               0|   410|   411|   414|               8|         None|     None|       No|         No|         No|            No|         No|           No|   Steady|       No|         No|          No|           No|      No|      No|          No|        No|     No|         No| Steady|                 No|                 No|                      No|                     No|                    No|    Ch|        Yes|       <30|\n",
            "|       84222|  108662661|      Caucasian|Female| [50-60)|     ?|                1|                       1|                  7|               3|         ?|          Cardiology|                29|             0|             11|                0|               0|               0|   682|   174|   250|               3|         None|     None|       No|         No|         No|            No|         No|           No|       No|   Steady|         No|          No|           No|      No|      No|          No|        No|     No|         No|     No|                 No|                 No|                      No|                     No|                    No|    No|        Yes|        NO|\n",
            "|       89682|  107389323|AfricanAmerican|  Male| [70-80)|     ?|                1|                       1|                  7|               5|         ?|                   ?|                35|             5|             23|                0|               0|               0|   402|   425|   416|               9|         None|     None|       No|         No|         No|            No|         No|           No|       No|       No|         No|          No|           No|      No|      No|          No|        No|     No|         No| Steady|                 No|                 No|                      No|                     No|                    No|    No|        Yes|       >30|\n",
            "|      148530|   69422211|              ?|  Male| [70-80)|     ?|                3|                       6|                  2|               6|         ?|                   ?|                42|             2|             23|                0|               0|               0|   737|   427|   714|               8|         None|     None|       No|         No|         No|            No|         No|           No|       No|     Down|         No|          No|           No|      No|      No|          No|        No|     No|         No| Steady|                 No|                 No|                      No|                     No|                    No|    Ch|        Yes|        NO|\n",
            "+------------+-----------+---------------+------+--------+------+-----------------+------------------------+-------------------+----------------+----------+--------------------+------------------+--------------+---------------+-----------------+----------------+----------------+------+------+------+----------------+-------------+---------+---------+-----------+-----------+--------------+-----------+-------------+---------+---------+-----------+------------+-------------+--------+--------+------------+----------+-------+-----------+-------+-------------------+-------------------+------------------------+-----------------------+----------------------+------+-----------+----------+\n",
            "only showing top 20 rows\n",
            "\n"
          ]
        }
      ]
    },
    {
      "cell_type": "code",
      "source": [
        "diabetes_df.printSchema()"
      ],
      "metadata": {
        "id": "TFzRxUTxO4hI",
        "colab": {
          "base_uri": "https://localhost:8080/"
        },
        "outputId": "af19557c-d59a-4d9b-d651-4f5c2945f0a6"
      },
      "execution_count": 8,
      "outputs": [
        {
          "output_type": "stream",
          "name": "stdout",
          "text": [
            "root\n",
            " |-- encounter_id: integer (nullable = true)\n",
            " |-- patient_nbr: integer (nullable = true)\n",
            " |-- race: string (nullable = true)\n",
            " |-- gender: string (nullable = true)\n",
            " |-- age: string (nullable = true)\n",
            " |-- weight: string (nullable = true)\n",
            " |-- admission_type_id: integer (nullable = true)\n",
            " |-- discharge_disposition_id: integer (nullable = true)\n",
            " |-- admission_source_id: integer (nullable = true)\n",
            " |-- time_in_hospital: integer (nullable = true)\n",
            " |-- payer_code: string (nullable = true)\n",
            " |-- medical_specialty: string (nullable = true)\n",
            " |-- num_lab_procedures: integer (nullable = true)\n",
            " |-- num_procedures: integer (nullable = true)\n",
            " |-- num_medications: integer (nullable = true)\n",
            " |-- number_outpatient: integer (nullable = true)\n",
            " |-- number_emergency: integer (nullable = true)\n",
            " |-- number_inpatient: integer (nullable = true)\n",
            " |-- diag_1: string (nullable = true)\n",
            " |-- diag_2: string (nullable = true)\n",
            " |-- diag_3: string (nullable = true)\n",
            " |-- number_diagnoses: integer (nullable = true)\n",
            " |-- max_glu_serum: string (nullable = true)\n",
            " |-- A1Cresult: string (nullable = true)\n",
            " |-- metformin: string (nullable = true)\n",
            " |-- repaglinide: string (nullable = true)\n",
            " |-- nateglinide: string (nullable = true)\n",
            " |-- chlorpropamide: string (nullable = true)\n",
            " |-- glimepiride: string (nullable = true)\n",
            " |-- acetohexamide: string (nullable = true)\n",
            " |-- glipizide: string (nullable = true)\n",
            " |-- glyburide: string (nullable = true)\n",
            " |-- tolbutamide: string (nullable = true)\n",
            " |-- pioglitazone: string (nullable = true)\n",
            " |-- rosiglitazone: string (nullable = true)\n",
            " |-- acarbose: string (nullable = true)\n",
            " |-- miglitol: string (nullable = true)\n",
            " |-- troglitazone: string (nullable = true)\n",
            " |-- tolazamide: string (nullable = true)\n",
            " |-- examide: string (nullable = true)\n",
            " |-- citoglipton: string (nullable = true)\n",
            " |-- insulin: string (nullable = true)\n",
            " |-- glyburide-metformin: string (nullable = true)\n",
            " |-- glipizide-metformin: string (nullable = true)\n",
            " |-- glimepiride-pioglitazone: string (nullable = true)\n",
            " |-- metformin-rosiglitazone: string (nullable = true)\n",
            " |-- metformin-pioglitazone: string (nullable = true)\n",
            " |-- change: string (nullable = true)\n",
            " |-- diabetesMed: string (nullable = true)\n",
            " |-- readmitted: string (nullable = true)\n",
            "\n"
          ]
        }
      ]
    },
    {
      "cell_type": "code",
      "source": [
        "expr = [f.countDistinct(c).alias(c) for c in diabetes_df.columns]\n",
        "countdf =  diabetes_df.select(*expr)"
      ],
      "metadata": {
        "id": "KShfrEUBv3P_"
      },
      "execution_count": 9,
      "outputs": []
    },
    {
      "cell_type": "code",
      "source": [
        "countdf.show()"
      ],
      "metadata": {
        "colab": {
          "base_uri": "https://localhost:8080/"
        },
        "id": "5eVDV3kowTB2",
        "outputId": "24fa1fa1-5872-400f-c2f2-4ca1615eac1c"
      },
      "execution_count": 10,
      "outputs": [
        {
          "output_type": "stream",
          "name": "stdout",
          "text": [
            "+------------+-----------+----+------+---+------+-----------------+------------------------+-------------------+----------------+----------+-----------------+------------------+--------------+---------------+-----------------+----------------+----------------+------+------+------+----------------+-------------+---------+---------+-----------+-----------+--------------+-----------+-------------+---------+---------+-----------+------------+-------------+--------+--------+------------+----------+-------+-----------+-------+-------------------+-------------------+------------------------+-----------------------+----------------------+------+-----------+----------+\n",
            "|encounter_id|patient_nbr|race|gender|age|weight|admission_type_id|discharge_disposition_id|admission_source_id|time_in_hospital|payer_code|medical_specialty|num_lab_procedures|num_procedures|num_medications|number_outpatient|number_emergency|number_inpatient|diag_1|diag_2|diag_3|number_diagnoses|max_glu_serum|A1Cresult|metformin|repaglinide|nateglinide|chlorpropamide|glimepiride|acetohexamide|glipizide|glyburide|tolbutamide|pioglitazone|rosiglitazone|acarbose|miglitol|troglitazone|tolazamide|examide|citoglipton|insulin|glyburide-metformin|glipizide-metformin|glimepiride-pioglitazone|metformin-rosiglitazone|metformin-pioglitazone|change|diabetesMed|readmitted|\n",
            "+------------+-----------+----+------+---+------+-----------------+------------------------+-------------------+----------------+----------+-----------------+------------------+--------------+---------------+-----------------+----------------+----------------+------+------+------+----------------+-------------+---------+---------+-----------+-----------+--------------+-----------+-------------+---------+---------+-----------+------------+-------------+--------+--------+------------+----------+-------+-----------+-------+-------------------+-------------------+------------------------+-----------------------+----------------------+------+-----------+----------+\n",
            "|      101766|      71518|   6|     3| 10|    10|                8|                      26|                 17|              14|        18|               73|               118|             7|             75|               39|              33|              21|   717|   749|   790|              16|            4|        4|        4|          4|          4|             4|          4|            2|        4|        4|          2|           4|            4|       4|       4|           2|         3|      1|          1|      4|                  4|                  2|                       2|                      2|                     2|     2|          2|         3|\n",
            "+------------+-----------+----+------+---+------+-----------------+------------------------+-------------------+----------------+----------+-----------------+------------------+--------------+---------------+-----------------+----------------+----------------+------+------+------+----------------+-------------+---------+---------+-----------+-----------+--------------+-----------+-------------+---------+---------+-----------+------------+-------------+--------+--------+------------+----------+-------+-----------+-------+-------------------+-------------------+------------------------+-----------------------+----------------------+------+-----------+----------+\n",
            "\n"
          ]
        }
      ]
    },
    {
      "cell_type": "code",
      "source": [
        "diabetes_df = diabetes_df.drop('weight','payer_code','medical_specialty')"
      ],
      "metadata": {
        "id": "dqwHRjOE6E9V"
      },
      "execution_count": 11,
      "outputs": []
    },
    {
      "cell_type": "code",
      "source": [
        "meds = diabetes_df.columns[21:-3]"
      ],
      "metadata": {
        "id": "B6Sanikc75RO"
      },
      "execution_count": 12,
      "outputs": []
    },
    {
      "cell_type": "code",
      "source": [
        "for i in meds:\n",
        "    percent_No = (diabetes_df.filter(diabetes_df[i] == \"No\").groupby().count().first()[0]/diabetes_df.groupby().count().first()[0])*100\n",
        "    if percent_No > 99.0:\n",
        "        print(i, percent_No)\n",
        "        diabetes_df = diabetes_df.drop(i)"
      ],
      "metadata": {
        "colab": {
          "base_uri": "https://localhost:8080/"
        },
        "id": "Qra_2ct76V96",
        "outputId": "97ba0daf-6ee4-40ab-a860-f58ca71fd764"
      },
      "execution_count": 13,
      "outputs": [
        {
          "output_type": "stream",
          "name": "stdout",
          "text": [
            "nateglinide 99.30919953619087\n",
            "chlorpropamide 99.91549240414284\n",
            "acetohexamide 99.99901735353654\n",
            "tolbutamide 99.97739913134053\n",
            "acarbose 99.69734488925575\n",
            "miglitol 99.9626594343887\n",
            "troglitazone 99.99705206060963\n",
            "tolazamide 99.96167678792524\n",
            "examide 100.0\n",
            "citoglipton 100.0\n",
            "glyburide-metformin 99.3062515968005\n",
            "glipizide-metformin 99.98722559597508\n",
            "glimepiride-pioglitazone 99.99901735353654\n",
            "metformin-rosiglitazone 99.99803470707309\n",
            "metformin-pioglitazone 99.99901735353654\n"
          ]
        }
      ]
    },
    {
      "cell_type": "code",
      "source": [
        "diabetes_df.printSchema()"
      ],
      "metadata": {
        "colab": {
          "base_uri": "https://localhost:8080/"
        },
        "id": "kTrKKKXwAWTD",
        "outputId": "3f561ec4-3f02-4131-d67c-81a79f4da82d"
      },
      "execution_count": 14,
      "outputs": [
        {
          "output_type": "stream",
          "name": "stdout",
          "text": [
            "root\n",
            " |-- encounter_id: integer (nullable = true)\n",
            " |-- patient_nbr: integer (nullable = true)\n",
            " |-- race: string (nullable = true)\n",
            " |-- gender: string (nullable = true)\n",
            " |-- age: string (nullable = true)\n",
            " |-- admission_type_id: integer (nullable = true)\n",
            " |-- discharge_disposition_id: integer (nullable = true)\n",
            " |-- admission_source_id: integer (nullable = true)\n",
            " |-- time_in_hospital: integer (nullable = true)\n",
            " |-- num_lab_procedures: integer (nullable = true)\n",
            " |-- num_procedures: integer (nullable = true)\n",
            " |-- num_medications: integer (nullable = true)\n",
            " |-- number_outpatient: integer (nullable = true)\n",
            " |-- number_emergency: integer (nullable = true)\n",
            " |-- number_inpatient: integer (nullable = true)\n",
            " |-- diag_1: string (nullable = true)\n",
            " |-- diag_2: string (nullable = true)\n",
            " |-- diag_3: string (nullable = true)\n",
            " |-- number_diagnoses: integer (nullable = true)\n",
            " |-- max_glu_serum: string (nullable = true)\n",
            " |-- A1Cresult: string (nullable = true)\n",
            " |-- metformin: string (nullable = true)\n",
            " |-- repaglinide: string (nullable = true)\n",
            " |-- glimepiride: string (nullable = true)\n",
            " |-- glipizide: string (nullable = true)\n",
            " |-- glyburide: string (nullable = true)\n",
            " |-- pioglitazone: string (nullable = true)\n",
            " |-- rosiglitazone: string (nullable = true)\n",
            " |-- insulin: string (nullable = true)\n",
            " |-- change: string (nullable = true)\n",
            " |-- diabetesMed: string (nullable = true)\n",
            " |-- readmitted: string (nullable = true)\n",
            "\n"
          ]
        }
      ]
    },
    {
      "cell_type": "code",
      "source": [
        "#diabetes_df.agg(f.count_distinct(i for i in diabetes_df.columns).alias('c')).collect()\n",
        "for i in diabetes_df.columns:\n",
        "    count_unqiue = diabetes_df.agg(f.count_distinct(i).alias('c')).collect()[0][0]\n",
        "    print(i, count_unqiue)#.first()[0])\n",
        "    if count_unqiue < 20:\n",
        "        print(diabetes_df.select(i).distinct().collect())"
      ],
      "metadata": {
        "colab": {
          "base_uri": "https://localhost:8080/"
        },
        "id": "l3eDrXipGuVG",
        "outputId": "13ccc136-b350-4d06-b006-39300ca7ece5"
      },
      "execution_count": 15,
      "outputs": [
        {
          "output_type": "stream",
          "name": "stdout",
          "text": [
            "encounter_id 101766\n",
            "patient_nbr 71518\n",
            "race 6\n",
            "[Row(race='Caucasian'), Row(race='Other'), Row(race='AfricanAmerican'), Row(race='Hispanic'), Row(race='Asian'), Row(race='?')]\n",
            "gender 3\n",
            "[Row(gender='Female'), Row(gender='Unknown/Invalid'), Row(gender='Male')]\n",
            "age 10\n",
            "[Row(age='[70-80)'), Row(age='[90-100)'), Row(age='[40-50)'), Row(age='[10-20)'), Row(age='[20-30)'), Row(age='[30-40)'), Row(age='[0-10)'), Row(age='[80-90)'), Row(age='[50-60)'), Row(age='[60-70)')]\n",
            "admission_type_id 8\n",
            "[Row(admission_type_id=1), Row(admission_type_id=6), Row(admission_type_id=3), Row(admission_type_id=5), Row(admission_type_id=4), Row(admission_type_id=8), Row(admission_type_id=7), Row(admission_type_id=2)]\n",
            "discharge_disposition_id 26\n",
            "admission_source_id 17\n",
            "[Row(admission_source_id=22), Row(admission_source_id=1), Row(admission_source_id=13), Row(admission_source_id=6), Row(admission_source_id=3), Row(admission_source_id=20), Row(admission_source_id=5), Row(admission_source_id=17), Row(admission_source_id=9), Row(admission_source_id=4), Row(admission_source_id=8), Row(admission_source_id=7), Row(admission_source_id=10), Row(admission_source_id=25), Row(admission_source_id=11), Row(admission_source_id=14), Row(admission_source_id=2)]\n",
            "time_in_hospital 14\n",
            "[Row(time_in_hospital=12), Row(time_in_hospital=1), Row(time_in_hospital=13), Row(time_in_hospital=6), Row(time_in_hospital=3), Row(time_in_hospital=5), Row(time_in_hospital=9), Row(time_in_hospital=4), Row(time_in_hospital=8), Row(time_in_hospital=7), Row(time_in_hospital=10), Row(time_in_hospital=11), Row(time_in_hospital=14), Row(time_in_hospital=2)]\n",
            "num_lab_procedures 118\n",
            "num_procedures 7\n",
            "[Row(num_procedures=1), Row(num_procedures=6), Row(num_procedures=3), Row(num_procedures=5), Row(num_procedures=4), Row(num_procedures=2), Row(num_procedures=0)]\n",
            "num_medications 75\n",
            "number_outpatient 39\n",
            "number_emergency 33\n",
            "number_inpatient 21\n",
            "diag_1 717\n",
            "diag_2 749\n",
            "diag_3 790\n",
            "number_diagnoses 16\n",
            "[Row(number_diagnoses=12), Row(number_diagnoses=1), Row(number_diagnoses=13), Row(number_diagnoses=6), Row(number_diagnoses=16), Row(number_diagnoses=3), Row(number_diagnoses=5), Row(number_diagnoses=15), Row(number_diagnoses=9), Row(number_diagnoses=4), Row(number_diagnoses=8), Row(number_diagnoses=7), Row(number_diagnoses=10), Row(number_diagnoses=11), Row(number_diagnoses=14), Row(number_diagnoses=2)]\n",
            "max_glu_serum 4\n",
            "[Row(max_glu_serum='None'), Row(max_glu_serum='>300'), Row(max_glu_serum='Norm'), Row(max_glu_serum='>200')]\n",
            "A1Cresult 4\n",
            "[Row(A1Cresult='None'), Row(A1Cresult='>8'), Row(A1Cresult='Norm'), Row(A1Cresult='>7')]\n",
            "metformin 4\n",
            "[Row(metformin='Steady'), Row(metformin='Up'), Row(metformin='No'), Row(metformin='Down')]\n",
            "repaglinide 4\n",
            "[Row(repaglinide='Steady'), Row(repaglinide='Up'), Row(repaglinide='No'), Row(repaglinide='Down')]\n",
            "glimepiride 4\n",
            "[Row(glimepiride='Steady'), Row(glimepiride='Up'), Row(glimepiride='No'), Row(glimepiride='Down')]\n",
            "glipizide 4\n",
            "[Row(glipizide='Steady'), Row(glipizide='Up'), Row(glipizide='No'), Row(glipizide='Down')]\n",
            "glyburide 4\n",
            "[Row(glyburide='Steady'), Row(glyburide='Up'), Row(glyburide='No'), Row(glyburide='Down')]\n",
            "pioglitazone 4\n",
            "[Row(pioglitazone='Steady'), Row(pioglitazone='Up'), Row(pioglitazone='No'), Row(pioglitazone='Down')]\n",
            "rosiglitazone 4\n",
            "[Row(rosiglitazone='Steady'), Row(rosiglitazone='Up'), Row(rosiglitazone='No'), Row(rosiglitazone='Down')]\n",
            "insulin 4\n",
            "[Row(insulin='Steady'), Row(insulin='Up'), Row(insulin='No'), Row(insulin='Down')]\n",
            "change 2\n",
            "[Row(change='Ch'), Row(change='No')]\n",
            "diabetesMed 2\n",
            "[Row(diabetesMed='No'), Row(diabetesMed='Yes')]\n",
            "readmitted 3\n",
            "[Row(readmitted='>30'), Row(readmitted='NO'), Row(readmitted='<30')]\n"
          ]
        }
      ]
    },
    {
      "cell_type": "code",
      "source": [
        "diabetes_df_2 = diabetes_df\n",
        "from pyspark.sql.functions import when\n",
        "from pyspark.sql.types import FloatType\n",
        "\n",
        "diabetes_df_2 = diabetes_df_2.withColumn(\"race\", \\\n",
        "              when(diabetes_df_2[\"race\"] == '?', None).otherwise(diabetes_df_2['race']))\n",
        "diabetes_df_2 = diabetes_df_2.withColumn(\"diag_1\", \\\n",
        "              when(diabetes_df_2[\"diag_1\"] == '?', None).otherwise(diabetes_df_2['diag_1']))\n",
        "diabetes_df_2 = diabetes_df_2.withColumn(\"diag_2\", \\\n",
        "              when(diabetes_df_2[\"diag_2\"] == '?', None).otherwise(diabetes_df_2['diag_2']))\n",
        "diabetes_df_2 = diabetes_df_2.withColumn(\"diag_3\", \\\n",
        "              when(diabetes_df_2[\"diag_3\"] == '?', None).otherwise(diabetes_df_2['diag_3']))\n",
        "diabetes_df_2 = diabetes_df_2.withColumn(\"diag_1\",diabetes_df_2[\"diag_1\"].cast(FloatType()))\n",
        "diabetes_df_2 = diabetes_df_2.withColumn(\"diag_2\",diabetes_df_2[\"diag_2\"].cast(FloatType()))\n",
        "diabetes_df_2 = diabetes_df_2.withColumn(\"diag_3\",diabetes_df_2[\"diag_3\"].cast(FloatType()))\n",
        "diabetes_df_2.show()"
      ],
      "metadata": {
        "colab": {
          "base_uri": "https://localhost:8080/"
        },
        "id": "OAO10AURu9Fk",
        "outputId": "6300e2dd-c507-4ac9-d867-9b75b580c746"
      },
      "execution_count": 16,
      "outputs": [
        {
          "output_type": "stream",
          "name": "stdout",
          "text": [
            "+------------+-----------+---------------+------+--------+-----------------+------------------------+-------------------+----------------+------------------+--------------+---------------+-----------------+----------------+----------------+------+------+------+----------------+-------------+---------+---------+-----------+-----------+---------+---------+------------+-------------+-------+------+-----------+----------+\n",
            "|encounter_id|patient_nbr|           race|gender|     age|admission_type_id|discharge_disposition_id|admission_source_id|time_in_hospital|num_lab_procedures|num_procedures|num_medications|number_outpatient|number_emergency|number_inpatient|diag_1|diag_2|diag_3|number_diagnoses|max_glu_serum|A1Cresult|metformin|repaglinide|glimepiride|glipizide|glyburide|pioglitazone|rosiglitazone|insulin|change|diabetesMed|readmitted|\n",
            "+------------+-----------+---------------+------+--------+-----------------+------------------------+-------------------+----------------+------------------+--------------+---------------+-----------------+----------------+----------------+------+------+------+----------------+-------------+---------+---------+-----------+-----------+---------+---------+------------+-------------+-------+------+-----------+----------+\n",
            "|     2278392|    8222157|      Caucasian|Female|  [0-10)|                6|                      25|                  1|               1|                41|             0|              1|                0|               0|               0|250.83|  null|  null|               1|         None|     None|       No|         No|         No|       No|       No|          No|           No|     No|    No|         No|        NO|\n",
            "|      149190|   55629189|      Caucasian|Female| [10-20)|                1|                       1|                  7|               3|                59|             0|             18|                0|               0|               0| 276.0|250.01| 255.0|               9|         None|     None|       No|         No|         No|       No|       No|          No|           No|     Up|    Ch|        Yes|       >30|\n",
            "|       64410|   86047875|AfricanAmerican|Female| [20-30)|                1|                       1|                  7|               2|                11|             5|             13|                2|               0|               1| 648.0| 250.0|  null|               6|         None|     None|       No|         No|         No|   Steady|       No|          No|           No|     No|    No|        Yes|        NO|\n",
            "|      500364|   82442376|      Caucasian|  Male| [30-40)|                1|                       1|                  7|               2|                44|             1|             16|                0|               0|               0|   8.0|250.43| 403.0|               7|         None|     None|       No|         No|         No|       No|       No|          No|           No|     Up|    Ch|        Yes|        NO|\n",
            "|       16680|   42519267|      Caucasian|  Male| [40-50)|                1|                       1|                  7|               1|                51|             0|              8|                0|               0|               0| 197.0| 157.0| 250.0|               5|         None|     None|       No|         No|         No|   Steady|       No|          No|           No| Steady|    Ch|        Yes|        NO|\n",
            "|       35754|   82637451|      Caucasian|  Male| [50-60)|                2|                       1|                  2|               3|                31|             6|             16|                0|               0|               0| 414.0| 411.0| 250.0|               9|         None|     None|       No|         No|         No|       No|       No|          No|           No| Steady|    No|        Yes|       >30|\n",
            "|       55842|   84259809|      Caucasian|  Male| [60-70)|                3|                       1|                  2|               4|                70|             1|             21|                0|               0|               0| 414.0| 411.0|  null|               7|         None|     None|   Steady|         No|     Steady|       No|       No|          No|           No| Steady|    Ch|        Yes|        NO|\n",
            "|       63768|  114882984|      Caucasian|  Male| [70-80)|                1|                       1|                  7|               5|                73|             0|             12|                0|               0|               0| 428.0| 492.0| 250.0|               8|         None|     None|       No|         No|         No|       No|   Steady|          No|           No|     No|    No|        Yes|       >30|\n",
            "|       12522|   48330783|      Caucasian|Female| [80-90)|                2|                       1|                  4|              13|                68|             2|             28|                0|               0|               0| 398.0| 427.0|  38.0|               8|         None|     None|       No|         No|         No|   Steady|       No|          No|           No| Steady|    Ch|        Yes|        NO|\n",
            "|       15738|   63555939|      Caucasian|Female|[90-100)|                3|                       3|                  4|              12|                33|             3|             18|                0|               0|               0| 434.0| 198.0| 486.0|               8|         None|     None|       No|         No|         No|       No|       No|          No|       Steady| Steady|    Ch|        Yes|        NO|\n",
            "|       28236|   89869032|AfricanAmerican|Female| [40-50)|                1|                       1|                  7|               9|                47|             2|             17|                0|               0|               0| 250.7| 403.0| 996.0|               9|         None|     None|       No|         No|         No|       No|       No|          No|           No| Steady|    No|        Yes|       >30|\n",
            "|       36900|   77391171|AfricanAmerican|  Male| [60-70)|                2|                       1|                  4|               7|                62|             0|             11|                0|               0|               0| 157.0| 288.0| 197.0|               7|         None|     None|       No|         No|         No|       No|       Up|          No|           No| Steady|    Ch|        Yes|       <30|\n",
            "|       40926|   85504905|      Caucasian|Female| [40-50)|                1|                       3|                  7|               7|                60|             0|             15|                0|               1|               0| 428.0|250.43| 250.6|               8|         None|     None|   Steady|         Up|         No|       No|       No|          No|           No|   Down|    Ch|        Yes|       <30|\n",
            "|       42570|   77586282|      Caucasian|  Male| [80-90)|                1|                       6|                  7|              10|                55|             1|             31|                0|               0|               0| 428.0| 411.0| 427.0|               8|         None|     None|       No|         No|         No|       No|       No|          No|           No| Steady|    No|        Yes|        NO|\n",
            "|       62256|   49726791|AfricanAmerican|Female| [60-70)|                3|                       1|                  2|               1|                49|             5|              2|                0|               0|               0| 518.0| 998.0| 627.0|               8|         None|     None|       No|         No|         No|       No|       No|          No|           No| Steady|    No|        Yes|       >30|\n",
            "|       73578|   86328819|AfricanAmerican|  Male| [60-70)|                1|                       3|                  7|              12|                75|             5|             13|                0|               0|               0| 999.0| 507.0| 996.0|               9|         None|     None|       No|         No|         No|       No|       No|          No|           No|     Up|    Ch|        Yes|        NO|\n",
            "|       77076|   92519352|AfricanAmerican|  Male| [50-60)|                1|                       1|                  7|               4|                45|             4|             17|                0|               0|               0| 410.0| 411.0| 414.0|               8|         None|     None|       No|         No|         No|   Steady|       No|          No|           No| Steady|    Ch|        Yes|       <30|\n",
            "|       84222|  108662661|      Caucasian|Female| [50-60)|                1|                       1|                  7|               3|                29|             0|             11|                0|               0|               0| 682.0| 174.0| 250.0|               3|         None|     None|       No|         No|         No|       No|   Steady|          No|           No|     No|    No|        Yes|        NO|\n",
            "|       89682|  107389323|AfricanAmerican|  Male| [70-80)|                1|                       1|                  7|               5|                35|             5|             23|                0|               0|               0| 402.0| 425.0| 416.0|               9|         None|     None|       No|         No|         No|       No|       No|          No|           No| Steady|    No|        Yes|       >30|\n",
            "|      148530|   69422211|           null|  Male| [70-80)|                3|                       6|                  2|               6|                42|             2|             23|                0|               0|               0| 737.0| 427.0| 714.0|               8|         None|     None|       No|         No|         No|       No|     Down|          No|           No| Steady|    Ch|        Yes|        NO|\n",
            "+------------+-----------+---------------+------+--------+-----------------+------------------------+-------------------+----------------+------------------+--------------+---------------+-----------------+----------------+----------------+------+------+------+----------------+-------------+---------+---------+-----------+-----------+---------+---------+------------+-------------+-------+------+-----------+----------+\n",
            "only showing top 20 rows\n",
            "\n"
          ]
        }
      ]
    },
    {
      "cell_type": "code",
      "source": [
        "# for i in diabetes_df_2.columns:\n",
        "#     count_unqiue = diabetes_df_2.agg(f.count_distinct(i).alias('c')).collect()[0][0]\n",
        "#     print(i, count_unqiue)#.first()[0])\n",
        "#     if count_unqiue < 20:\n",
        "#         print(diabetes_df_2.select(i).distinct().collect())\n",
        "diabetes_df_2.printSchema()"
      ],
      "metadata": {
        "colab": {
          "base_uri": "https://localhost:8080/"
        },
        "id": "ERuavyhNrC8L",
        "outputId": "8f11b86a-da80-4ab6-a330-e26dfede4adf"
      },
      "execution_count": 17,
      "outputs": [
        {
          "output_type": "stream",
          "name": "stdout",
          "text": [
            "root\n",
            " |-- encounter_id: integer (nullable = true)\n",
            " |-- patient_nbr: integer (nullable = true)\n",
            " |-- race: string (nullable = true)\n",
            " |-- gender: string (nullable = true)\n",
            " |-- age: string (nullable = true)\n",
            " |-- admission_type_id: integer (nullable = true)\n",
            " |-- discharge_disposition_id: integer (nullable = true)\n",
            " |-- admission_source_id: integer (nullable = true)\n",
            " |-- time_in_hospital: integer (nullable = true)\n",
            " |-- num_lab_procedures: integer (nullable = true)\n",
            " |-- num_procedures: integer (nullable = true)\n",
            " |-- num_medications: integer (nullable = true)\n",
            " |-- number_outpatient: integer (nullable = true)\n",
            " |-- number_emergency: integer (nullable = true)\n",
            " |-- number_inpatient: integer (nullable = true)\n",
            " |-- diag_1: float (nullable = true)\n",
            " |-- diag_2: float (nullable = true)\n",
            " |-- diag_3: float (nullable = true)\n",
            " |-- number_diagnoses: integer (nullable = true)\n",
            " |-- max_glu_serum: string (nullable = true)\n",
            " |-- A1Cresult: string (nullable = true)\n",
            " |-- metformin: string (nullable = true)\n",
            " |-- repaglinide: string (nullable = true)\n",
            " |-- glimepiride: string (nullable = true)\n",
            " |-- glipizide: string (nullable = true)\n",
            " |-- glyburide: string (nullable = true)\n",
            " |-- pioglitazone: string (nullable = true)\n",
            " |-- rosiglitazone: string (nullable = true)\n",
            " |-- insulin: string (nullable = true)\n",
            " |-- change: string (nullable = true)\n",
            " |-- diabetesMed: string (nullable = true)\n",
            " |-- readmitted: string (nullable = true)\n",
            "\n"
          ]
        }
      ]
    },
    {
      "cell_type": "code",
      "source": [
        "diabetes_df_2.select([f.count(when(f.isnan(c) | f.col(c).isNull(), c)).alias(c) for c in diabetes_df_2.columns]\n",
        "   ).show()\n"
      ],
      "metadata": {
        "colab": {
          "base_uri": "https://localhost:8080/"
        },
        "id": "LbVQM4PnyaKX",
        "outputId": "c8f0d1fe-0247-4747-be10-322c69bb1b79"
      },
      "execution_count": 18,
      "outputs": [
        {
          "output_type": "stream",
          "name": "stdout",
          "text": [
            "+------------+-----------+----+------+---+-----------------+------------------------+-------------------+----------------+------------------+--------------+---------------+-----------------+----------------+----------------+------+------+------+----------------+-------------+---------+---------+-----------+-----------+---------+---------+------------+-------------+-------+------+-----------+----------+\n",
            "|encounter_id|patient_nbr|race|gender|age|admission_type_id|discharge_disposition_id|admission_source_id|time_in_hospital|num_lab_procedures|num_procedures|num_medications|number_outpatient|number_emergency|number_inpatient|diag_1|diag_2|diag_3|number_diagnoses|max_glu_serum|A1Cresult|metformin|repaglinide|glimepiride|glipizide|glyburide|pioglitazone|rosiglitazone|insulin|change|diabetesMed|readmitted|\n",
            "+------------+-----------+----+------+---+-----------------+------------------------+-------------------+----------------+------------------+--------------+---------------+-----------------+----------------+----------------+------+------+------+----------------+-------------+---------+---------+-----------+-----------+---------+---------+------------+-------------+-------+------+-----------+----------+\n",
            "|           0|          0|2273|     0|  0|                0|                       0|                  0|               0|                 0|             0|              0|                0|               0|               0|  1666|  2894|  6481|               0|            0|        0|        0|          0|          0|        0|        0|           0|            0|      0|     0|          0|         0|\n",
            "+------------+-----------+----+------+---+-----------------+------------------------+-------------------+----------------+------------------+--------------+---------------+-----------------+----------------+----------------+------+------+------+----------------+-------------+---------+---------+-----------+-----------+---------+---------+------------+-------------+-------+------+-----------+----------+\n",
            "\n"
          ]
        }
      ]
    },
    {
      "cell_type": "code",
      "source": [
        "diabetes_pd_df = diabetes_df_2.toPandas()"
      ],
      "metadata": {
        "id": "3RUgbSjbcxiA"
      },
      "execution_count": 19,
      "outputs": []
    },
    {
      "cell_type": "code",
      "source": [
        "diabetes_pd_df['readmitted'].unique()"
      ],
      "metadata": {
        "colab": {
          "base_uri": "https://localhost:8080/"
        },
        "id": "V6t4qDn5CZzY",
        "outputId": "1dc95935-da6f-4d93-c861-8b37e3aded90"
      },
      "execution_count": 20,
      "outputs": [
        {
          "output_type": "execute_result",
          "data": {
            "text/plain": [
              "array(['NO', '>30', '<30'], dtype=object)"
            ]
          },
          "metadata": {},
          "execution_count": 20
        }
      ]
    },
    {
      "cell_type": "code",
      "source": [
        "diabetes_pd_df['readmitted'] = diabetes_pd_df['readmitted'].replace({'>30':'YES', '<30':'YES'})"
      ],
      "metadata": {
        "id": "iIOTAz4QB25c"
      },
      "execution_count": 21,
      "outputs": []
    },
    {
      "cell_type": "code",
      "source": [
        "from sklearn.preprocessing import LabelEncoder\n",
        "labelencoder = LabelEncoder() \n",
        "for i in diabetes_pd_df.columns:\n",
        "    if diabetes_pd_df[i].dtype == 'object':\n",
        "        diabetes_pd_df[i] = labelencoder.fit_transform(diabetes_pd_df[i])\n",
        "        print(i, diabetes_pd_df[i].dtype) "
      ],
      "metadata": {
        "colab": {
          "base_uri": "https://localhost:8080/"
        },
        "id": "b0g3aQcT_2Nd",
        "outputId": "36e9eb68-bbf5-4d43-d4e5-49dd55cd1892"
      },
      "execution_count": 22,
      "outputs": [
        {
          "output_type": "stream",
          "name": "stdout",
          "text": [
            "race int64\n",
            "gender int64\n",
            "age int64\n",
            "max_glu_serum int64\n",
            "A1Cresult int64\n",
            "metformin int64\n",
            "repaglinide int64\n",
            "glimepiride int64\n",
            "glipizide int64\n",
            "glyburide int64\n",
            "pioglitazone int64\n",
            "rosiglitazone int64\n",
            "insulin int64\n",
            "change int64\n",
            "diabetesMed int64\n",
            "readmitted int64\n"
          ]
        }
      ]
    },
    {
      "cell_type": "code",
      "source": [
        "diabetes_pd_df.info()"
      ],
      "metadata": {
        "colab": {
          "base_uri": "https://localhost:8080/"
        },
        "id": "bq4MeBsE_NYS",
        "outputId": "bb606a04-ad9f-44a5-8ea4-0a1cd78db278"
      },
      "execution_count": 23,
      "outputs": [
        {
          "output_type": "stream",
          "name": "stdout",
          "text": [
            "<class 'pandas.core.frame.DataFrame'>\n",
            "RangeIndex: 101766 entries, 0 to 101765\n",
            "Data columns (total 32 columns):\n",
            " #   Column                    Non-Null Count   Dtype  \n",
            "---  ------                    --------------   -----  \n",
            " 0   encounter_id              101766 non-null  int32  \n",
            " 1   patient_nbr               101766 non-null  int32  \n",
            " 2   race                      101766 non-null  int64  \n",
            " 3   gender                    101766 non-null  int64  \n",
            " 4   age                       101766 non-null  int64  \n",
            " 5   admission_type_id         101766 non-null  int32  \n",
            " 6   discharge_disposition_id  101766 non-null  int32  \n",
            " 7   admission_source_id       101766 non-null  int32  \n",
            " 8   time_in_hospital          101766 non-null  int32  \n",
            " 9   num_lab_procedures        101766 non-null  int32  \n",
            " 10  num_procedures            101766 non-null  int32  \n",
            " 11  num_medications           101766 non-null  int32  \n",
            " 12  number_outpatient         101766 non-null  int32  \n",
            " 13  number_emergency          101766 non-null  int32  \n",
            " 14  number_inpatient          101766 non-null  int32  \n",
            " 15  diag_1                    100100 non-null  float32\n",
            " 16  diag_2                    98872 non-null   float32\n",
            " 17  diag_3                    95285 non-null   float32\n",
            " 18  number_diagnoses          101766 non-null  int32  \n",
            " 19  max_glu_serum             101766 non-null  int64  \n",
            " 20  A1Cresult                 101766 non-null  int64  \n",
            " 21  metformin                 101766 non-null  int64  \n",
            " 22  repaglinide               101766 non-null  int64  \n",
            " 23  glimepiride               101766 non-null  int64  \n",
            " 24  glipizide                 101766 non-null  int64  \n",
            " 25  glyburide                 101766 non-null  int64  \n",
            " 26  pioglitazone              101766 non-null  int64  \n",
            " 27  rosiglitazone             101766 non-null  int64  \n",
            " 28  insulin                   101766 non-null  int64  \n",
            " 29  change                    101766 non-null  int64  \n",
            " 30  diabetesMed               101766 non-null  int64  \n",
            " 31  readmitted                101766 non-null  int64  \n",
            "dtypes: float32(3), int32(13), int64(16)\n",
            "memory usage: 18.6 MB\n"
          ]
        }
      ]
    },
    {
      "cell_type": "code",
      "source": [
        "diabetes_pd_df = diabetes_pd_df.dropna(subset = [\"diag_1\",\"diag_2\"])"
      ],
      "metadata": {
        "id": "A6oCOSRHA6yI"
      },
      "execution_count": 24,
      "outputs": []
    },
    {
      "cell_type": "code",
      "source": [
        "diabetes_pd_df[\"diag_diff\"] = ((diabetes_pd_df[\"diag_2\"] - diabetes_pd_df[\"diag_1\"])/diabetes_pd_df[\"diag_1\"])*100"
      ],
      "metadata": {
        "colab": {
          "base_uri": "https://localhost:8080/"
        },
        "id": "nmFgwBTKDK5J",
        "outputId": "da951e0c-35e8-4c18-9834-8d054b33de01"
      },
      "execution_count": 25,
      "outputs": [
        {
          "output_type": "stream",
          "name": "stderr",
          "text": [
            "/usr/local/lib/python3.7/dist-packages/ipykernel_launcher.py:1: SettingWithCopyWarning: \n",
            "A value is trying to be set on a copy of a slice from a DataFrame.\n",
            "Try using .loc[row_indexer,col_indexer] = value instead\n",
            "\n",
            "See the caveats in the documentation: https://pandas.pydata.org/pandas-docs/stable/user_guide/indexing.html#returning-a-view-versus-a-copy\n",
            "  \"\"\"Entry point for launching an IPython kernel.\n"
          ]
        }
      ]
    },
    {
      "cell_type": "code",
      "source": [
        "diabetes_pd_df.info()"
      ],
      "metadata": {
        "colab": {
          "base_uri": "https://localhost:8080/"
        },
        "id": "yPkWzCX9GMcL",
        "outputId": "a94f0a55-86c4-4d29-9726-bd5a213f92ae"
      },
      "execution_count": 26,
      "outputs": [
        {
          "output_type": "stream",
          "name": "stdout",
          "text": [
            "<class 'pandas.core.frame.DataFrame'>\n",
            "Int64Index: 97429 entries, 1 to 101765\n",
            "Data columns (total 33 columns):\n",
            " #   Column                    Non-Null Count  Dtype  \n",
            "---  ------                    --------------  -----  \n",
            " 0   encounter_id              97429 non-null  int32  \n",
            " 1   patient_nbr               97429 non-null  int32  \n",
            " 2   race                      97429 non-null  int64  \n",
            " 3   gender                    97429 non-null  int64  \n",
            " 4   age                       97429 non-null  int64  \n",
            " 5   admission_type_id         97429 non-null  int32  \n",
            " 6   discharge_disposition_id  97429 non-null  int32  \n",
            " 7   admission_source_id       97429 non-null  int32  \n",
            " 8   time_in_hospital          97429 non-null  int32  \n",
            " 9   num_lab_procedures        97429 non-null  int32  \n",
            " 10  num_procedures            97429 non-null  int32  \n",
            " 11  num_medications           97429 non-null  int32  \n",
            " 12  number_outpatient         97429 non-null  int32  \n",
            " 13  number_emergency          97429 non-null  int32  \n",
            " 14  number_inpatient          97429 non-null  int32  \n",
            " 15  diag_1                    97429 non-null  float32\n",
            " 16  diag_2                    97429 non-null  float32\n",
            " 17  diag_3                    91844 non-null  float32\n",
            " 18  number_diagnoses          97429 non-null  int32  \n",
            " 19  max_glu_serum             97429 non-null  int64  \n",
            " 20  A1Cresult                 97429 non-null  int64  \n",
            " 21  metformin                 97429 non-null  int64  \n",
            " 22  repaglinide               97429 non-null  int64  \n",
            " 23  glimepiride               97429 non-null  int64  \n",
            " 24  glipizide                 97429 non-null  int64  \n",
            " 25  glyburide                 97429 non-null  int64  \n",
            " 26  pioglitazone              97429 non-null  int64  \n",
            " 27  rosiglitazone             97429 non-null  int64  \n",
            " 28  insulin                   97429 non-null  int64  \n",
            " 29  change                    97429 non-null  int64  \n",
            " 30  diabetesMed               97429 non-null  int64  \n",
            " 31  readmitted                97429 non-null  int64  \n",
            " 32  diag_diff                 97429 non-null  float32\n",
            "dtypes: float32(4), int32(13), int64(16)\n",
            "memory usage: 19.0 MB\n"
          ]
        }
      ]
    },
    {
      "cell_type": "code",
      "source": [
        "matrix = diabetes_pd_df.corr()\n",
        "print(matrix)"
      ],
      "metadata": {
        "colab": {
          "base_uri": "https://localhost:8080/"
        },
        "id": "ora7z-BKtfCV",
        "outputId": "8822110b-2ad9-4b16-ec21-7ef805c7d1ab"
      },
      "execution_count": 27,
      "outputs": [
        {
          "output_type": "stream",
          "name": "stdout",
          "text": [
            "                          encounter_id  patient_nbr  ...  readmitted  diag_diff\n",
            "encounter_id                  1.000000     0.513795  ...   -0.037029   0.035221\n",
            "patient_nbr                   0.513795     1.000000  ...    0.074081   0.017519\n",
            "race                          0.089589     0.109076  ...   -0.020913   0.010141\n",
            "gender                        0.006736     0.008349  ...   -0.017274  -0.001550\n",
            "age                           0.071295     0.070741  ...    0.027882   0.020703\n",
            "admission_type_id            -0.159222    -0.012839  ...   -0.007168  -0.027188\n",
            "discharge_disposition_id     -0.132088    -0.136570  ...   -0.015717   0.001641\n",
            "admission_source_id          -0.113446    -0.032136  ...    0.039795   0.012143\n",
            "time_in_hospital             -0.061031    -0.025382  ...    0.050692   0.044181\n",
            "num_lab_procedures           -0.024404     0.018696  ...    0.039151   0.042229\n",
            "num_procedures               -0.015270    -0.019286  ...   -0.046295  -0.027182\n",
            "num_medications               0.074673     0.018635  ...    0.044714   0.006374\n",
            "number_outpatient             0.104691     0.104159  ...    0.081639   0.005521\n",
            "number_emergency              0.083343     0.063027  ...    0.102970   0.002659\n",
            "number_inpatient              0.033113     0.013068  ...    0.215989   0.018213\n",
            "diag_1                        0.003233     0.012274  ...   -0.015688  -0.329369\n",
            "diag_2                        0.073132     0.041648  ...    0.006481   0.141664\n",
            "diag_3                        0.051005     0.031654  ...    0.024033   0.021641\n",
            "number_diagnoses              0.266464     0.226780  ...    0.111738   0.049072\n",
            "max_glu_serum                 0.032713     0.012083  ...   -0.012833  -0.006246\n",
            "A1Cresult                     0.015491     0.021037  ...   -0.001580   0.001041\n",
            "metformin                     0.028670     0.010856  ...   -0.027021  -0.021689\n",
            "repaglinide                   0.023124     0.051314  ...    0.019726  -0.003195\n",
            "glimepiride                   0.027860     0.021500  ...    0.002303  -0.008087\n",
            "glipizide                    -0.013037     0.002985  ...    0.014081  -0.009532\n",
            "glyburide                    -0.061149    -0.042944  ...   -0.003379  -0.012835\n",
            "pioglitazone                  0.041660     0.035774  ...    0.010818  -0.006934\n",
            "rosiglitazone                -0.049047    -0.006721  ...    0.013168  -0.005461\n",
            "insulin                       0.050572    -0.000371  ...    0.002379   0.002861\n",
            "change                       -0.095214    -0.054549  ...   -0.046254   0.005156\n",
            "diabetesMed                   0.052476     0.017753  ...    0.062310  -0.013467\n",
            "readmitted                   -0.037029     0.074081  ...    1.000000   0.003292\n",
            "diag_diff                     0.035221     0.017519  ...    0.003292   1.000000\n",
            "\n",
            "[33 rows x 33 columns]\n"
          ]
        }
      ]
    },
    {
      "cell_type": "code",
      "source": [
        "sns.heatmap(matrix, annot=False)\n",
        "plt.show()"
      ],
      "metadata": {
        "colab": {
          "base_uri": "https://localhost:8080/",
          "height": 378
        },
        "id": "ljPJ4VE0tl4z",
        "outputId": "6911c196-1779-4d4c-ceb0-f07e0e1a5869"
      },
      "execution_count": 28,
      "outputs": [
        {
          "output_type": "display_data",
          "data": {
            "image/png": "[encoded data removed]",
            "text/plain": [
              "<Figure size 432x288 with 2 Axes>"
            ]
          },
          "metadata": {
            "needs_background": "light"
          }
        }
      ]
    },
    {
      "cell_type": "code",
      "source": [
        "drop_col = [\"encounter_id\",\"patient_nbr\",\"diag_1\",\"diag_2\",\"diag_3\",\"readmitted\"]"
      ],
      "metadata": {
        "id": "U92bha2sEC-O"
      },
      "execution_count": 59,
      "outputs": []
    },
    {
      "cell_type": "code",
      "source": [
        "accuracy = []"
      ],
      "metadata": {
        "id": "-64zKV9UWp8-"
      },
      "execution_count": 60,
      "outputs": []
    },
    {
      "cell_type": "code",
      "source": [
        "X = diabetes_pd_df.drop(columns = drop_col)\n",
        "y = diabetes_pd_df.readmitted"
      ],
      "metadata": {
        "id": "bUnoEynGKDBA"
      },
      "execution_count": 61,
      "outputs": []
    },
    {
      "cell_type": "code",
      "source": [
        "min_max_scaler = preprocessing.MinMaxScaler()\n",
        "X = pd.DataFrame(min_max_scaler.fit_transform(X))"
      ],
      "metadata": {
        "id": "eyrYGCI0LI84"
      },
      "execution_count": 62,
      "outputs": []
    },
    {
      "cell_type": "code",
      "source": [
        "X_train, X_test, y_train, y_test = train_test_split(X, y, train_size=0.8, random_state=123)"
      ],
      "metadata": {
        "id": "XirOG1eGjjTF"
      },
      "execution_count": 63,
      "outputs": []
    },
    {
      "cell_type": "code",
      "source": [
        "ran_for = RandomForestClassifier(random_state=123)\n",
        "\n",
        "ran_for.fit(X_train, y_train)\n",
        "\n",
        "preds = ran_for.predict(X_test)\n",
        "\n",
        "print(accuracy_score(y_test, preds))\n",
        "accuracy.append(accuracy_score(y_test, preds))"
      ],
      "metadata": {
        "colab": {
          "base_uri": "https://localhost:8080/"
        },
        "id": "ShheeEwsOEx-",
        "outputId": "d248f741-6023-473b-ffcc-37785fc0fd42"
      },
      "execution_count": 64,
      "outputs": [
        {
          "output_type": "stream",
          "name": "stdout",
          "text": [
            "0.6332751719183003\n"
          ]
        }
      ]
    },
    {
      "cell_type": "code",
      "source": [
        "grad_boost = GradientBoostingClassifier(random_state=123)\n",
        "\n",
        "grad_boost.fit(X_train, y_train)\n",
        "\n",
        "preds = grad_boost.predict(X_test)\n",
        "\n",
        "print(accuracy_score(y_test, preds))\n",
        "accuracy.append(accuracy_score(y_test, preds))"
      ],
      "metadata": {
        "colab": {
          "base_uri": "https://localhost:8080/"
        },
        "id": "55cIB4K_OE54",
        "outputId": "e541065b-30e3-4dd7-c3e3-0314bdd893b7"
      },
      "execution_count": 65,
      "outputs": [
        {
          "output_type": "stream",
          "name": "stdout",
          "text": [
            "0.6400492661397926\n"
          ]
        }
      ]
    },
    {
      "cell_type": "code",
      "source": [
        "ada_boost = AdaBoostClassifier(random_state=123)\n",
        "\n",
        "ada_boost.fit(X_train, y_train)\n",
        "\n",
        "preds = ada_boost.predict(X_test)\n",
        "\n",
        "print(accuracy_score(y_test, preds))\n",
        "accuracy.append(accuracy_score(y_test, preds))"
      ],
      "metadata": {
        "colab": {
          "base_uri": "https://localhost:8080/"
        },
        "id": "IUmwQjhAOE8k",
        "outputId": "b0c3ebbd-b239-4be7-d558-07d843fcbb24"
      },
      "execution_count": 66,
      "outputs": [
        {
          "output_type": "stream",
          "name": "stdout",
          "text": [
            "0.6372267268808375\n"
          ]
        }
      ]
    },
    {
      "cell_type": "code",
      "source": [
        "svc = LinearSVC(random_state=123)\n",
        "\n",
        "svc.fit(X_train, y_train)\n",
        "\n",
        "preds = svc.predict(X_test)\n",
        "\n",
        "print(accuracy_score(y_test, preds))\n",
        "accuracy.append(accuracy_score(y_test, preds))"
      ],
      "metadata": {
        "colab": {
          "base_uri": "https://localhost:8080/"
        },
        "id": "a39tDSDjSEXH",
        "outputId": "8d053282-6023-4655-ec89-ae4206f67bfa"
      },
      "execution_count": 67,
      "outputs": [
        {
          "output_type": "stream",
          "name": "stdout",
          "text": [
            "0.618803243354203\n"
          ]
        }
      ]
    },
    {
      "cell_type": "code",
      "source": [
        "from numpy.lib.function_base import average\n",
        "average(accuracy)"
      ],
      "metadata": {
        "colab": {
          "base_uri": "https://localhost:8080/"
        },
        "id": "SRZ1Q2ITWjki",
        "outputId": "8916dbe9-73b1-4c93-c8e9-2cac4eacef80"
      },
      "execution_count": 68,
      "outputs": [
        {
          "output_type": "execute_result",
          "data": {
            "text/plain": [
              "0.6323386020732833"
            ]
          },
          "metadata": {},
          "execution_count": 68
        }
      ]
    }
  ]
}
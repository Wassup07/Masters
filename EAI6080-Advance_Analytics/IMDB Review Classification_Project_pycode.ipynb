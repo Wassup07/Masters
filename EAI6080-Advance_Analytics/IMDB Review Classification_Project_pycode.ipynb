{
 "cells": [
  {
   "cell_type": "code",
   "execution_count": null,
   "metadata": {
    "id": "3FMC1TwVuq3d"
   },
   "outputs": [],
   "source": [
    "##LSTM"
   ]
  },
  {
   "cell_type": "code",
   "execution_count": null,
   "metadata": {
    "id": "6-GgEAp3rcAZ"
   },
   "outputs": [],
   "source": [
    "!pip install fastai==1.0.61\n",
    "!pip install ipdb"
   ]
  },
  {
   "cell_type": "code",
   "execution_count": null,
   "metadata": {
    "id": "8zuCFeHSutbj"
   },
   "outputs": [],
   "source": [
    "import math\n",
    "import torch\n",
    "import torch.nn as nn"
   ]
  },
  {
   "cell_type": "code",
   "execution_count": null,
   "metadata": {
    "id": "VI27oOFwWXQz"
   },
   "outputs": [],
   "source": [
    "class NLSTM(nn.Module):\n",
    "  def __init__(self, input_size, hidden_size):\n",
    "\n",
    "    super().__init__()\n",
    "    self.input_size = input_size\n",
    "    self.hidden_size = hidden_size\n",
    "\n",
    "    #forget gate\n",
    "\n",
    "    self.U_f = nn.Parameter(torch.Tensor(input_size, hidden_size))\n",
    "    self.V_f = nn.Parameter(torch.Tensor(hidden_size, hidden_size))\n",
    "    self.b_f = nn.Parameter(torch.Tensor(hidden_size))\n",
    "\n",
    "    #input gate\n",
    "\n",
    "    self.U_i = nn.Parameter(torch.Tensor(input_size, hidden_size))\n",
    "    self.V_i = nn.Parameter(torch.Tensor(hidden_size, hidden_size))\n",
    "    self.b_i = nn.Parameter(torch.Tensor(hidden_size))\n",
    "\n",
    "    #Ct+ gate\n",
    "\n",
    "    self.U_c = nn.Parameter(torch.Tensor(input_size, hidden_size))\n",
    "    self.V_c = nn.Parameter(torch.Tensor(hidden_size, hidden_size))\n",
    "    self.b_c = nn.Parameter(torch.Tensor(hidden_size))\n",
    "\n",
    "    #output gate\n",
    "\n",
    "    self.U_o = nn.Parameter(torch.Tensor(input_size, hidden_size))\n",
    "    self.V_o = nn.Parameter(torch.Tensor(hidden_size, hidden_size))\n",
    "    self.b_o = nn.Parameter(torch.Tensor(hidden_size))\n",
    "\n",
    "    self.init_weights()\n",
    "  \n",
    "  def init_weights(self):\n",
    "\n",
    "    stdev = 1/math.sqrt(self.hidden_size)\n",
    "    for i in self.parameters():\n",
    "      i.data.uniform_(-stdev, stdev)\n",
    "  \n",
    "  def forward(self, x, init_states = None):\n",
    "\n",
    "    # x - batch_size*seq_length(length of the sentence)*feature_length(length of embedding)\n",
    "    # init states is an array\n",
    "\n",
    "    bs, seq_length, emb_size = x.size()\n",
    "\n",
    "    if not init_states:\n",
    "      c_t, h_t = torch.zeros(bs, self.hidden_size), torch.zeros(bs, self.hidden_size)\n",
    "    \n",
    "    else:\n",
    "      c_t, h_t = init_states\n",
    "\n",
    "    hidden_seqs = []\n",
    "    for t in range(seq_length):\n",
    "\n",
    "      x_t = x[:, t, :]\n",
    "\n",
    "      f_t = torch.sigmoid(x_t@self.U_f + h_t@self.V_f + self.b_f)\n",
    "      i_t = torch.sigmoid(x_t@self.U_i + h_t@self.V_i + self.b_i)\n",
    "      g_t = torch.tanh(x_t@self.U_c + h_t@self.V_c + self.b_c)\n",
    "      o_t = torch.sigmoid(x_t@self.U_o + h_t@self.V_o + self.b_o)\n",
    "\n",
    "      c_t = f_t*c_t + i_t*g_t\n",
    "      h_t = o_t * torch.tanh(c_t)\n",
    "      hidden_seqs.append(h_t)\n",
    "    \n",
    "    return hidden_seqs, [c_t, h_t]      "
   ]
  },
  {
   "cell_type": "code",
   "execution_count": null,
   "metadata": {
    "id": "2i6iqLhUnaf3"
   },
   "outputs": [],
   "source": [
    "from fastai import *\n",
    "from fastai.text import *\n",
    "import numpy as np\n",
    "from ipdb import set_trace as st\n",
    "import pandas as pd\n",
    "import matplotlib.pyplot as plt"
   ]
  },
  {
   "cell_type": "code",
   "execution_count": null,
   "metadata": {
    "colab": {
     "base_uri": "https://localhost:8080/"
    },
    "id": "K1oxtSHQBMBK",
    "outputId": "04a02eaf-c0aa-4cfb-8aaf-0d9a64437654"
   },
   "outputs": [
    {
     "name": "stderr",
     "output_type": "stream",
     "text": [
      "[nltk_data] Downloading package stopwords to /root/nltk_data...\n",
      "[nltk_data]   Unzipping corpora/stopwords.zip.\n",
      "[nltk_data] Downloading package punkt to /root/nltk_data...\n",
      "[nltk_data]   Unzipping tokenizers/punkt.zip.\n",
      "[nltk_data] Downloading package wordnet to /root/nltk_data...\n",
      "[nltk_data] Downloading package omw-1.4 to /root/nltk_data...\n"
     ]
    },
    {
     "data": {
      "text/plain": [
       "True"
      ]
     },
     "execution_count": 5,
     "metadata": {},
     "output_type": "execute_result"
    }
   ],
   "source": [
    "import nltk\n",
    "# nltk.download('all-nltk')\n",
    "nltk.download('stopwords')\n",
    "nltk.download('punkt')\n",
    "nltk.download('wordnet')\n",
    "nltk.download('omw-1.4')"
   ]
  },
  {
   "cell_type": "code",
   "execution_count": null,
   "metadata": {
    "id": "AbMeTWR4Bhsv"
   },
   "outputs": [],
   "source": [
    "from nltk.tokenize import word_tokenize\n",
    "from nltk.stem import PorterStemmer\n",
    "from nltk.stem import WordNetLemmatizer\n",
    "from nltk import word_tokenize,pos_tag\n",
    "from nltk.corpus import stopwords"
   ]
  },
  {
   "cell_type": "code",
   "execution_count": null,
   "metadata": {
    "id": "Mk634Y5lFKSq"
   },
   "outputs": [],
   "source": [
    "english_stop_words = stopwords.words('english')"
   ]
  },
  {
   "cell_type": "code",
   "execution_count": null,
   "metadata": {
    "id": "LMpzxneNFS24"
   },
   "outputs": [],
   "source": [
    "include_stop_words = ['but','if','or','until','while','against','between','before','after','above','below','up','down','over','under','between','again','further','when','where','why','how','all','any', 'both', 'each', 'few', 'more', 'most', 'other', 'some', 'such', 'no', 'nor', 'not', 'only', 'own', 'same', 'so', 'than', 'too', 'very','don', \"don't\", 'should', \"should've\", 'now','ain', 'aren', \"aren't\", 'couldn', \"couldn't\", 'didn', \"didn't\", 'doesn', \"doesn't\", 'hadn', \"hadn't\", 'hasn', \"hasn't\", 'haven', \"haven't\", 'isn', \"isn't\", 'ma', 'mightn', \"mightn't\", 'mustn', \"mustn't\", 'needn', \"needn't\", 'shan', \"shan't\", 'shouldn', \"shouldn't\", 'wasn', \"wasn't\", 'weren', \"weren't\", 'won', \"won't\", 'wouldn', \"wouldn't\", 'just','out','through']"
   ]
  },
  {
   "cell_type": "code",
   "execution_count": null,
   "metadata": {
    "id": "O1JX_ad-GOxp"
   },
   "outputs": [],
   "source": [
    "domain_specific_stop_words = list(set(english_stop_words) - set(include_stop_words))"
   ]
  },
  {
   "cell_type": "code",
   "execution_count": null,
   "metadata": {
    "id": "f_w6Akq5wMZX"
   },
   "outputs": [],
   "source": [
    "pos_reviews = []\n",
    "neg_reviews = []\n",
    "\n",
    "mp = untar_data(URLs.IMDB)\n",
    "\n",
    "from string import punctuation\n",
    "import re\n",
    "\n",
    "def get_all_reviews(path_obj):\n",
    "  arr = []\n",
    "  CLEANR = re.compile('<.*?>') \n",
    "  for i in path_obj.ls():\n",
    "    with open(i, 'r') as f:\n",
    "      x = f.read().lower()\n",
    "      x = re.sub(CLEANR, '', x)\n",
    "      arr.append(''.join([c for c in x if c not in punctuation]))\n",
    "  return arr\n",
    "\n",
    "def get_all_reviews_with_punc(path_obj):\n",
    "  arr = []\n",
    "  CLEANR = re.compile('<.*?>') \n",
    "  for i in path_obj.ls():\n",
    "    with open(i, 'r') as f:\n",
    "      x = f.read()#.lower()\n",
    "      x = re.sub(CLEANR, '', x)\n",
    "      # arr.append(''.join([c for c in x if c not in punctuation]))\n",
    "      arr.append(x)\n",
    "  return arr\n",
    "\n",
    "# use get all reviews with punc if we are using nltk pre processing stuff\n",
    "\n",
    "pos_reviews = get_all_reviews(mp/'train/pos')\n",
    "neg_reviews = get_all_reviews(mp/'train/neg')\n",
    "combined = pos_reviews + neg_reviews"
   ]
  },
  {
   "cell_type": "code",
   "execution_count": null,
   "metadata": {
    "colab": {
     "base_uri": "https://localhost:8080/"
    },
    "id": "q4iwgeTl8_rS",
    "outputId": "ac44aad4-afb1-4507-ae4d-9f2add4eb80b"
   },
   "outputs": [
    {
     "data": {
      "text/plain": [
       "['and my children love it now granted i can watch it now and realize the animation wasnt that great and that the plot is trite hey if every villian introduced themselves by saying i ammmmm daaaarrrkk heeeeaaarrt i think they might be laughed at but for young children it is a moral story with catchy musicmusic so catchy mind you that i still had the words memorized after not seeing this film in twenty years i would definitely suggest this one for younger children',\n",
       " 'a charming funny film that gets a solid grade all around i saw a screener of this film recently at work it was so nice to see this film in contrast with all the crappy horror movies i see every day so much so that i figured id write in not sure if this film is going to theaters but i hope it does its a nice film to see with friends its a charmer and has some funny jokes the acting was terrific especially howard hessman and larry dorf the directing was pretty good not a film that needed to be overdirected what really makes this film stand out i think is the writing it was like neil simon seinfeldish and the banter between characters is smart and has a nice rhythm as an aspiring screenwriter i notice those things im a dork anyway a really cute film that i recommend',\n",
       " 'so whats the reason is there some sort of vendetta against this awesome show or somebody involved therein why would the best show ive seen in years be canceled im addicted i saw this show on randomly last fall and immediately loved it and watched it every week then it went away and i tried to tivo it but it wasnt being aired so i forgot about it for awhile until i found the episodes on abcs website now i want more i agree with everybody else  with the rest of the junk on tv today it was refreshing to see something as wellrounded and developed as this i watch boston legal for my eccentriccomedic fix and house for my intellectualmysteryjackass fix my wife loves greys anatomy for its realism and i do lovehate the show but it could not be farther from real for me way too much drama everything that can go wrong does but for once theres a drama thats really real real people real problems sure there are some extremes like a former gangster turned good girl running from the mob etc but these people especially in nyc are really out there and i relate to each and every one of them i cant seem to get enough i just hope that abc will get their heads out of their beancounting butts and continue this show get some respect for having a quality drama out there this could be one of the best shows of all time if somebody will just let it']"
      ]
     },
     "execution_count": 9,
     "metadata": {},
     "output_type": "execute_result"
    }
   ],
   "source": [
    "combined[:3]"
   ]
  },
  {
   "cell_type": "code",
   "execution_count": null,
   "metadata": {
    "id": "wKphka68B-Pb"
   },
   "outputs": [],
   "source": [
    "# Data Preprocessing pipeline \n",
    "# Define a class and have one main method to process all the data and return a new updates string\n",
    "\n",
    "# step 1 - tokenize words using word tokenizer\n",
    "# step 2 - Lemmatize using wordnet lemmatizer\n",
    "# step 3 - Pos Tagging\n",
    "# step 4 - Replacing all named entities with NE\n",
    "# setp 5 - Replacing all the punctuations\n",
    "# step 6 - Convert to lower case\n",
    "\n",
    "class DataPreProcessing:\n",
    "  def __init__(self, data_array):\n",
    "    self.data_array = data_array\n",
    "    self.wnl = WordNetLemmatizer()\n",
    "    self.stop_words = domain_specific_stop_words\n",
    "  \n",
    "  def tokenize(self, text):\n",
    "    return word_tokenize(text)\n",
    "  \n",
    "  def lemmatize_text_list(self, words):\n",
    "    return [self.wnl.lemmatize(w) for w in words]\n",
    "  \n",
    "  def pos_tag_words(self, words):\n",
    "    # st()\n",
    "    return pos_tag(words)\n",
    " \n",
    "  def replace_in_sentence(self, word_tags, replace_tag = 'NNP', replace_by = 'NE'):\n",
    "\n",
    "    for i in range (len(word_tags)):\n",
    "      # i is a tuple\n",
    "      th = word_tags[i]\n",
    "\n",
    "      if th[1] == replace_tag:\n",
    "        th = list(th)\n",
    "        th[0] = replace_by\n",
    "        word_tags[i] = tuple(th) \n",
    "    \n",
    "    return word_tags\n",
    "  \n",
    "  def remove_punctuation(self, tagged_words):\n",
    "    return [c for c in tagged_words if c[0] not in punctuation]\n",
    "  \n",
    "  def replace_names_remove_punct_lower(self, tagged_words, replace_tag = 'NNP', replace_by = 'NE'):\n",
    "    new = []\n",
    "    for i in tagged_words:\n",
    "      i = list(i)\n",
    "\n",
    "      if i[0] in punctuation:\n",
    "        continue\n",
    "\n",
    "      i[0] = i[0].lower()\n",
    "      if i[1] == replace_tag:\n",
    "        i[0] = replace_by\n",
    "\n",
    "      new.append(i[0])\n",
    "    return new\n",
    "      \n",
    "      \n",
    "  def forward_sentence(self, text):\n",
    "    tagged = self.pos_tag_words(self.lemmatize_text_list(self.tokenize(text)))\n",
    "    c2 = self.replace_names_remove_punct_lower(tagged)\n",
    "    return c2\n",
    "  \n",
    "  def forward_all(self):\n",
    "    return [self.forward_sentence(i) for i in self.data_array]\n",
    "\n",
    "  def remove_stop_words(self, text):\n",
    "    return ' '.join([word for word in text.split() if word not in self.stop_words])\n",
    "\n",
    "dp = DataPreProcessing(combined)"
   ]
  },
  {
   "cell_type": "code",
   "execution_count": null,
   "metadata": {
    "colab": {
     "base_uri": "https://localhost:8080/"
    },
    "id": "i80i_2Gh-ETn",
    "outputId": "d082ad45-9401-4711-f43e-33ce93adbe1e"
   },
   "outputs": [
    {
     "name": "stderr",
     "output_type": "stream",
     "text": [
      "[nltk_data] Downloading package averaged_perceptron_tagger to\n",
      "[nltk_data]     /root/nltk_data...\n",
      "[nltk_data]   Unzipping taggers/averaged_perceptron_tagger.zip.\n"
     ]
    },
    {
     "data": {
      "text/plain": [
       "True"
      ]
     },
     "execution_count": 34,
     "metadata": {},
     "output_type": "execute_result"
    }
   ],
   "source": [
    "nltk.download('averaged_perceptron_tagger')"
   ]
  },
  {
   "cell_type": "code",
   "execution_count": null,
   "metadata": {
    "id": "GRLbLa7_h9EL"
   },
   "outputs": [],
   "source": [
    "processed_combined = dp.forward_all()"
   ]
  },
  {
   "cell_type": "code",
   "execution_count": null,
   "metadata": {
    "colab": {
     "base_uri": "https://localhost:8080/"
    },
    "id": "k3IuK0HljPBj",
    "outputId": "fe0d7176-77b6-4fd9-ecd8-c908cce7cae9"
   },
   "outputs": [
    {
     "data": {
      "text/plain": [
       "25000"
      ]
     },
     "execution_count": 36,
     "metadata": {},
     "output_type": "execute_result"
    }
   ],
   "source": [
    "len(processed_combined)"
   ]
  },
  {
   "cell_type": "code",
   "execution_count": null,
   "metadata": {
    "id": "ReYMVpEhjXty"
   },
   "outputs": [],
   "source": [
    "# if using NLTK parsing\n",
    "all_text2 = ''\n",
    "for i in processed_combined:\n",
    "  this_text = ' '.join(j for j in i)\n",
    "  all_text2 += this_text + ' '"
   ]
  },
  {
   "cell_type": "code",
   "execution_count": null,
   "metadata": {
    "id": "BYhnlEpMbOxi"
   },
   "outputs": [],
   "source": [
    "#without NLTK parsing\n",
    "all_text2 = ' '.join(i for i in combined)"
   ]
  },
  {
   "cell_type": "code",
   "execution_count": null,
   "metadata": {
    "id": "_-ktReor_VTr"
   },
   "outputs": [],
   "source": [
    "lables = [1.0 for i in range(len(pos_reviews))] + [0.0 for j in range(len(neg_reviews))]\n",
    "\n",
    "from collections import Counter\n",
    "\n",
    "words = all_text2.split()\n",
    "count_words = Counter(words)\n",
    "\n",
    "total_words = len(words)\n",
    "sorted_words = count_words.most_common(70000)\n",
    "\n",
    "vocab_to_int = {w: (i + 1) for i, (w,c) in enumerate(sorted_words)}\n",
    "vocab_to_int['UNK'] = 70001\n",
    "\n",
    "int_to_vocab = {}\n",
    "for i in vocab_to_int:\n",
    "  int_to_vocab[vocab_to_int[i]] = i\n",
    "\n",
    "encoded_revs = []\n",
    "for rev in combined:\n",
    "  t_rev = []\n",
    "  for word in rev.split():\n",
    "    if word in vocab_to_int:\n",
    "      t_rev.append(vocab_to_int[word])\n",
    "    else:\n",
    "      t_rev.append(vocab_to_int['UNK'])\n",
    "  encoded_revs.append(t_rev)\n",
    "\n",
    "def get_rev_string(int_rev):\n",
    "  return ' '.join(int_to_vocab[i] for i in int_rev)\n",
    "\n",
    "encoded_labels = np.array(lables)"
   ]
  },
  {
   "cell_type": "code",
   "execution_count": null,
   "metadata": {
    "colab": {
     "base_uri": "https://localhost:8080/"
    },
    "id": "SuaPMNZe_T6F",
    "outputId": "4232bc43-610d-4be9-cd36-711e42594f69"
   },
   "outputs": [
    {
     "data": {
      "text/plain": [
       "5722753"
      ]
     },
     "execution_count": 40,
     "metadata": {},
     "output_type": "execute_result"
    }
   ],
   "source": [
    "total_words"
   ]
  },
  {
   "cell_type": "code",
   "execution_count": null,
   "metadata": {
    "id": "jBB8q1DE_XyS"
   },
   "outputs": [],
   "source": [
    "sorted_words[:50]"
   ]
  },
  {
   "cell_type": "code",
   "execution_count": null,
   "metadata": {
    "colab": {
     "base_uri": "https://localhost:8080/"
    },
    "id": "B8CuVqlA_Z8D",
    "outputId": "9f129290-f6fe-439a-a00d-d8614b76cc67"
   },
   "outputs": [
    {
     "data": {
      "text/plain": [
       "70000"
      ]
     },
     "execution_count": 13,
     "metadata": {},
     "output_type": "execute_result"
    }
   ],
   "source": [
    "len(sorted_words)"
   ]
  },
  {
   "cell_type": "code",
   "execution_count": null,
   "metadata": {
    "colab": {
     "base_uri": "https://localhost:8080/",
     "height": 265
    },
    "id": "V14bwLl75Haz",
    "outputId": "785bea42-7ffc-4067-f0fb-ad4a800e5172"
   },
   "outputs": [
    {
     "data": {
      "image/png": "[encoded data removed]",
      "text/plain": [
       "<Figure size 432x288 with 1 Axes>"
      ]
     },
     "metadata": {
      "needs_background": "light"
     },
     "output_type": "display_data"
    }
   ],
   "source": [
    "lens = [len(r) for r in encoded_revs]\n",
    "pd.Series(lens).hist()\n",
    "plt.show()"
   ]
  },
  {
   "cell_type": "code",
   "execution_count": null,
   "metadata": {
    "colab": {
     "base_uri": "https://localhost:8080/"
    },
    "id": "RhEqv5O4_v8I",
    "outputId": "d648e106-4d97-47f4-9bd0-22d01583d499"
   },
   "outputs": [
    {
     "data": {
      "text/plain": [
       "count    25000.00000\n",
       "mean       228.83248\n",
       "std        170.02192\n",
       "min         10.00000\n",
       "25%        125.00000\n",
       "50%        171.00000\n",
       "75%        278.00000\n",
       "max       2450.00000\n",
       "dtype: float64"
      ]
     },
     "execution_count": 15,
     "metadata": {},
     "output_type": "execute_result"
    }
   ],
   "source": [
    "pd.Series(lens).describe()"
   ]
  },
  {
   "cell_type": "code",
   "execution_count": null,
   "metadata": {
    "id": "cW-COqll-uly"
   },
   "outputs": [],
   "source": [
    "seq_len = 278\n",
    "def pad_revs(encoded_revs = encoded_revs, seq_len = seq_len):\n",
    "  features = np.zeros([len(encoded_revs), seq_len], dtype=int)\n",
    "  for i, rev in enumerate(encoded_revs):\n",
    "    # if the review len is less than seq_len, than suffix it with 0\n",
    "    # if the review len is greater than seq_len then slice it till seq_len\n",
    "    \n",
    "    if len(rev) < seq_len:\n",
    "      this_rev = np.array(list(np.zeros((seq_len - len(rev)), dtype = int)) + rev)\n",
    "    else:\n",
    "      this_rev = np.array(rev[:seq_len])\n",
    "\n",
    "    assert len(this_rev) == seq_len\n",
    "    features[i] = this_rev\n",
    "  return features\n",
    "\n",
    "features = pad_revs()"
   ]
  },
  {
   "cell_type": "code",
   "execution_count": null,
   "metadata": {
    "id": "vJTol0BTBbIG"
   },
   "outputs": [],
   "source": [
    "from torch.utils.data import DataLoader, TensorDataset, random_split\n",
    "from torch.utils.data.sampler import SubsetRandomSampler"
   ]
  },
  {
   "cell_type": "code",
   "execution_count": null,
   "metadata": {
    "id": "TtVsQ9BsioiW"
   },
   "outputs": [],
   "source": [
    "batch_size = 128"
   ]
  },
  {
   "cell_type": "code",
   "execution_count": null,
   "metadata": {
    "id": "SCVok98JBftk"
   },
   "outputs": [],
   "source": [
    "encoded_labels = encoded_labels.astype(int)\n",
    "\n",
    "X = torch.from_numpy(features)\n",
    "y = torch.from_numpy(encoded_labels)\n",
    "\n",
    "dataset = TensorDataset(X, y)\n",
    "\n",
    "train_set, valid_set = random_split(dataset, [20000, 5000])\n",
    "train_sampler = SubsetRandomSampler(train_set.indices)\n",
    "valid_sampler = SubsetRandomSampler(valid_set.indices)\n",
    "\n",
    "train_loader = DataLoader(dataset, batch_size = batch_size, sampler = train_sampler)\n",
    "valid_loader = DataLoader(dataset, batch_size = batch_size, sampler = valid_sampler)\n",
    "\n",
    "train_iter = iter(train_loader)\n",
    "sx, sy = next(train_iter)\n"
   ]
  },
  {
   "cell_type": "code",
   "execution_count": null,
   "metadata": {
    "id": "xM7bXnn3MKMa"
   },
   "outputs": [],
   "source": [
    "from torch.nn.modules import dropout\n",
    "class classificationLSTM(nn.Module):\n",
    "  def __init__(self, vocab_size, emb_dim, hidden_size, num_layers, num_outputs, bs, dropout = 0.3, emb_dropout = 0.3, bi_directional = False):\n",
    "    super().__init__()\n",
    "    \n",
    "    self.bs = bs\n",
    "    self.hidden_size = hidden_size\n",
    "    self.num_layers = num_layers\n",
    "    self.vocab_size = vocab_size\n",
    "    self.embs = nn.Embedding(num_embeddings = vocab_size, embedding_dim = emb_dim)\n",
    "    self.dropout = nn.Dropout(p = emb_dropout)\n",
    "    self.lstm = nn.LSTM(input_size = emb_dim, hidden_size = hidden_size, num_layers = num_layers, dropout = dropout, batch_first = True, bias = True, bidirectional = bi_directional)\n",
    "\n",
    "    self.D = 2 if bi_directional else 1\n",
    "    \n",
    "    self.out_layer = nn.Sequential(nn.Linear(hidden_size * self.D, hidden_size//2, bias = True), nn.ReLU(), nn.BatchNorm1d(hidden_size//2), nn.Linear(hidden_size//2, num_outputs, bias = True), nn.BatchNorm1d(num_outputs), nn.LogSoftmax(dim = 1))\n",
    "\n",
    "    self.init_weights()\n",
    "  \n",
    "  def init_weights_old(self):\n",
    "\n",
    "    stdev = 1/math.sqrt(self.hidden_size)\n",
    "    for i in self.parameters():\n",
    "      i.data.uniform_(-stdev, stdev)\n",
    "  \n",
    "  def forward(self, x, hidden):\n",
    "    # st()\n",
    "    bs = x.shape[0]\n",
    "    embs = self.dropout(self.embs(x))\n",
    "    lstm_out, hidden = self.lstm(embs, hidden)\n",
    "    lstm_out = lstm_out[:, -1, :]\n",
    "    # st()\n",
    "    out = self.out_layer(lstm_out)\n",
    "    # out = out[:, -1]\n",
    "    return out, hidden\n",
    "  \n",
    "  def init_weights(self):\n",
    "\n",
    "    # stdev = 1/math.sqrt(self.hidden_size)\n",
    "    for i in self.parameters():\n",
    "      if (len(i.shape) != 1 and i.shape[0] != vocab_size):\n",
    "        std_dev = math.sqrt(2/i.shape[1])\n",
    "        i.data.uniform_(-std_dev, std_dev)\n",
    "      elif (len(i.shape) == 1):\n",
    "        std_dev = math.sqrt(2/i.shape[0])\n",
    "        i.data.uniform_(-std_dev, std_dev)\n",
    "\n",
    "  def init_hidden(self):\n",
    "    weight = next(self.parameters()).data\n",
    "\n",
    "    hidden = (weight.new(self.D*self.num_layers, self.bs, self.hidden_size).zero_().cuda(),\n",
    "              weight.new(self.D*self.num_layers, self.bs, self.hidden_size).zero_().cuda())\n",
    "\n",
    "    return hidden"
   ]
  },
  {
   "cell_type": "code",
   "execution_count": null,
   "metadata": {
    "id": "VIGIrkzMJo4W"
   },
   "outputs": [],
   "source": [
    "class PositionalEncoding(nn.Module):\n",
    "\n",
    "    def __init__(self, d_model, vocab_size=5000, dropout=0.1):\n",
    "        super().__init__()\n",
    "        self.dropout = nn.Dropout(p=dropout)\n",
    "\n",
    "        pe = torch.zeros(vocab_size, d_model)\n",
    "        position = torch.arange(0, vocab_size, dtype=torch.float).unsqueeze(1)\n",
    "        div_term = torch.exp(\n",
    "            torch.arange(0, d_model, 2).float()\n",
    "            * (-math.log(10000.0) / d_model)\n",
    "        )\n",
    "        pe[:, 0::2] = torch.sin(position * div_term)\n",
    "        pe[:, 1::2] = torch.cos(position * div_term)\n",
    "        pe = pe.unsqueeze(0)\n",
    "        self.register_buffer(\"pe\", pe)\n",
    "\n",
    "    def forward(self, x):\n",
    "        x = x + self.pe[:, : x.size(1), :]\n",
    "        return self.dropout(x)"
   ]
  },
  {
   "cell_type": "code",
   "execution_count": null,
   "metadata": {
    "id": "Kid3xE_LSiaB"
   },
   "outputs": [],
   "source": [
    "class ClassificationTransformer(nn.Module):\n",
    "\n",
    "    def __init__(self, vocab_size = 70002, d_model = 400, nhead = 8, dim_feedforward = 2048, num_layers = 6, emb_dropout = 0.1, activation = \"relu\", dropout = 0.1, seq_len = 278):\n",
    "\n",
    "        super().__init__()\n",
    "\n",
    "        # vocab_size, d_model = embeddings.size()\n",
    "        assert d_model % nhead == 0, \"nheads must divide evenly into d_model\"\n",
    "\n",
    "        self.emb = nn.Embedding(vocab_size, d_model)\n",
    "        self.pos_encoder = PositionalEncoding(d_model = d_model, dropout = emb_dropout, vocab_size = vocab_size)\n",
    "        encoder_layer = nn.TransformerEncoderLayer(d_model = d_model, nhead = nhead, dim_feedforward = dim_feedforward, dropout = dropout, batch_first = True)\n",
    "\n",
    "        self.transformer_encoder = nn.TransformerEncoder(\n",
    "            encoder_layer,\n",
    "            num_layers = num_layers,\n",
    "        )\n",
    "        \n",
    "        self.lin1 = nn.Linear(400, 1)\n",
    "        self.bn1 = nn.BatchNorm1d(400)\n",
    "\n",
    "        self.final_layer = nn.Sequential(nn.Linear(seq_len, seq_len//2), nn.ReLU(), nn.BatchNorm1d(seq_len//2), nn.Linear(seq_len//2, 2), nn.BatchNorm1d(2), nn.LogSoftmax(dim = 1))\n",
    "        self.d_model = d_model\n",
    "\n",
    "    def forward(self, x):\n",
    "        embs = self.emb(x)\n",
    "        pos_encs = self.pos_encoder(embs)\n",
    "        encs = self.transformer_encoder(pos_encs)\n",
    "        \n",
    "        l1 = self.lin1(encs)\n",
    "        l1 = l1.view(-1, 278)\n",
    "\n",
    "        return self.final_layer(l1)"
   ]
  },
  {
   "cell_type": "code",
   "execution_count": null,
   "metadata": {
    "id": "sYcIsswpJ7sh"
   },
   "outputs": [],
   "source": [
    "device = torch.device(\"cuda:0\" if torch.cuda.is_available() else \"cpu\")"
   ]
  },
  {
   "cell_type": "code",
   "execution_count": null,
   "metadata": {
    "id": "3SVrGeCNJw7b"
   },
   "outputs": [],
   "source": [
    "sx = sx.to(device)\n",
    "sy = sy.to(device)\n",
    "# Transformer = Transformer.to(device)"
   ]
  },
  {
   "cell_type": "code",
   "execution_count": null,
   "metadata": {
    "id": "_VTvDVNKNnBj"
   },
   "outputs": [],
   "source": [
    "vocab_size = 70002\n",
    "emb_dim = 400\n",
    "hidden_size = 256\n",
    "num_layers = 2\n",
    "num_outputs = 2\n",
    "bs = batch_size\n",
    "\n",
    "# LSTM = classificationLSTM(vocab_size, emb_dim, hidden_size, num_layers, num_outputs, bs, dropout = 0.5, emb_dropout = 0.5, bi_directional = False)\n",
    "\n",
    "Transformer = ClassificationTransformer(emb_dropout = 0.3, dropout = 0.3, num_layers = 4).to(device)\n",
    "device = torch.device(\"cuda:0\" if torch.cuda.is_available() else \"cpu\")\n",
    "# optimizer = optim.Adagrad(Transformer.parameters(),lr = 0.001)\n",
    "loss_func_internal = nn.NLLLoss()\n",
    "\n",
    "def loss_func(yhat, y, loss_func_internal = loss_func_internal):\n",
    "  return loss_func_internal(yhat, y)\n",
    "\n",
    "def accuracy(yhat, y):\n",
    "  preds = yhat.argmax(dim = 1)\n",
    "  return float(torch.sum(preds == y)/y.shape[0])\n",
    "\n",
    "def train(train_loader = train_loader, valid_loader = valid_loader, net = Transformer, optimizer = optimizer, loss_func = loss_func, device = device, epochs = 4, hiddens = None):\n",
    "  train_losses = []\n",
    "  valid_losses = []\n",
    "  train_accs = []\n",
    "  valid_accs = []\n",
    "  if (not hiddens) and (net.__class__ == classificationLSTM):\n",
    "    hiddens = net.init_hidden()\n",
    "\n",
    "  for i in range(epochs):\n",
    "    # if (i > 4):\n",
    "    #   optimizer.lr = 5e-04\n",
    "    net = net.to(device)\n",
    "    net.train()\n",
    "    \n",
    "    for x, y in iter(train_loader):\n",
    "      # step 1 convert everything to cuda\n",
    "      # x = torch.LongTensor(x)\n",
    "      try:\n",
    "\n",
    "        if (x.shape[0] != bs):\n",
    "          continue\n",
    "        # st()\n",
    "        x = x.to(device)\n",
    "        y = y.to(device)\n",
    "\n",
    "        if (net.__class__ == classificationLSTM):\n",
    "          hiddens = net.init_hidden()\n",
    "          hiddens = tuple([each.data for each in hiddens])\n",
    "          yhat, hiddens = net(x, hiddens)\n",
    "        else:\n",
    "          yhat = net(x)\n",
    "        \n",
    "        net.zero_grad()\n",
    "        loss = loss_func(yhat, y)\n",
    "        loss.backward()\n",
    "        \n",
    "        nn.utils.clip_grad_norm_(net.parameters(), 5)\n",
    "        \n",
    "        optimizer.step()\n",
    "\n",
    "        train_losses.append(loss.item())\n",
    "        train_accs.append(accuracy(yhat, y))\n",
    "        if (i > 0):\n",
    "          valid_losses.append(valid_losses[-1])\n",
    "          valid_accs.append(valid_accs[-1])\n",
    "        if (len(train_losses)%100 == 0):\n",
    "          print(np.mean(train_losses[-5:]), np.mean(train_accs[-5:]))\n",
    "\n",
    "      except Exception as execp: \n",
    "        st() \n",
    "        print(execp)\n",
    "        \n",
    "\n",
    "    net.eval()\n",
    "    for vx, vy in iter(valid_loader):\n",
    "      # vx = torch.LongTensor(vx)\n",
    "      vx = vx.to(device)\n",
    "      vy = vy.to(device)\n",
    "\n",
    "      if (vx.shape[0] != bs):\n",
    "        continue\n",
    "\n",
    "      if (net.__class__ == classificationLSTM):\n",
    "        hiddens = net.init_hidden()\n",
    "        hiddens = tuple([each.data for each in hiddens])\n",
    "        vyhat, hiddens = net(vx, hiddens)\n",
    "      else:\n",
    "        vyhat = net(vx)\n",
    "\n",
    "      loss = loss_func(vyhat, vy)\n",
    "      valid_accs.append(accuracy(vyhat, vy))\n",
    "      valid_losses.append(loss.item())\n",
    "\n",
    "      train_losses.append(train_losses[-1])\n",
    "      train_accs.append(train_accs[-1])\n",
    "\n",
    "      if (len(valid_losses)%50 == 0):\n",
    "        print(\"Valid Loss \", np.mean(valid_losses[-10:]), np.mean(valid_accs[-10:]))\n",
    "  \n",
    "  return train_losses, valid_losses, train_accs, valid_accs, hiddens, net"
   ]
  },
  {
   "cell_type": "code",
   "execution_count": null,
   "metadata": {
    "colab": {
     "base_uri": "https://localhost:8080/"
    },
    "id": "5pSwe9tOThIb",
    "outputId": "5f540a9f-6bc4-4576-f94c-4a0474c8548a"
   },
   "outputs": [
    {
     "name": "stdout",
     "output_type": "stream",
     "text": [
      "0.6923726320266723 0.5125\n",
      "0.6904108166694641 0.534375\n",
      "0.5456638216972352 0.7296875\n",
      "Valid Loss  0.5808667421340943 0.65390625\n",
      "0.4839463472366333 0.775\n",
      "0.40760899186134336 0.8125\n",
      "Valid Loss  0.4325030893087387 0.8078125\n",
      "0.39348621368408204 0.8390625\n",
      "0.40511520504951476 0.803125\n",
      "Valid Loss  0.3819982558488846 0.8265625\n"
     ]
    }
   ],
   "source": [
    "optimizer = torch.optim.Adam(Transformer.parameters(), lr = 1e-04) \n",
    "tl, vl, ta, va, hiddens, net = train(epochs = 4, optimizer = optimizer)"
   ]
  },
  {
   "cell_type": "code",
   "execution_count": null,
   "metadata": {
    "colab": {
     "base_uri": "https://localhost:8080/"
    },
    "id": "L61NdzD-hTdw",
    "outputId": "d12888fc-4b47-4f4c-ad9e-bce6c6e440e0"
   },
   "outputs": [
    {
     "name": "stdout",
     "output_type": "stream",
     "text": [
      "0.40033088326454164 0.821875\n",
      "0.35909292101860046 0.8359375\n",
      "0.3553101599216461 0.85\n",
      "Valid Loss  0.34610015749931333 0.85234375\n",
      "0.3445954561233521 0.8671875\n",
      "0.3481219530105591 0.8546875\n",
      "Valid Loss  0.3471935302019119 0.8484375\n",
      "0.33612256646156313 0.875\n",
      "0.3046099364757538 0.878125\n",
      "Valid Loss  0.3629705309867859 0.84375\n"
     ]
    }
   ],
   "source": [
    "optimizer = torch.optim.Adam(net.parameters(), lr = 1e-04)\n",
    "tl2, vl2, ta2, va2, hiddens, net2 = train(net = net, optimizer = optimizer, epochs = 4, hiddens = hiddens)"
   ]
  },
  {
   "cell_type": "code",
   "execution_count": null,
   "metadata": {
    "colab": {
     "base_uri": "https://localhost:8080/"
    },
    "id": "TgJoolqmr7rY",
    "outputId": "8105ab4f-1524-44ff-b68b-b1262667a387"
   },
   "outputs": [
    {
     "name": "stdout",
     "output_type": "stream",
     "text": [
      "0.3134920120239258 0.8734375\n",
      "0.3385751247406006 0.85\n",
      "0.30034512281417847 0.86875\n",
      "Valid Loss  0.428901281952858 0.81171875\n",
      "0.2665764629840851 0.8921875\n",
      "0.2827612280845642 0.8921875\n",
      "Valid Loss  0.357012003660202 0.859375\n",
      "0.27137553989887236 0.903125\n",
      "0.2892747104167938 0.89375\n",
      "Valid Loss  0.364293572306633 0.8578125\n"
     ]
    }
   ],
   "source": [
    "optimizer = torch.optim.Adam(net2.parameters(), lr = 6e-05)\n",
    "tl3, vl3, ta3, va3, hiddens, net3 = train(net = net2, optimizer = optimizer, epochs = 4, hiddens = hiddens)"
   ]
  },
  {
   "cell_type": "code",
   "execution_count": null,
   "metadata": {
    "colab": {
     "base_uri": "https://localhost:8080/"
    },
    "id": "GNr5NEBOtAfc",
    "outputId": "45132f36-d6fc-459d-cd2d-b67250176e5c"
   },
   "outputs": [
    {
     "name": "stdout",
     "output_type": "stream",
     "text": [
      "0.27630676329135895 0.9015625\n",
      "0.2601646214723587 0.9\n",
      "0.292568764090538 0.88125\n",
      "Valid Loss  0.39767503142356875 0.846875\n",
      "0.2677645593881607 0.8921875\n",
      "0.282728773355484 0.896875\n",
      "Valid Loss  0.3767939567565918 0.8578125\n",
      "0.25847980082035066 0.903125\n",
      "0.278619384765625 0.896875\n",
      "Valid Loss  0.36913852095603944 0.84921875\n",
      "0.26706956923007963 0.9046875\n",
      "0.2573092460632324 0.8984375\n",
      "Valid Loss  0.36397494077682496 0.8515625\n",
      "0.25141836106777193 0.909375\n",
      "0.2696866601705551 0.896875\n",
      "Valid Loss  0.34168110489845277 0.8671875\n",
      "0.2801853656768799 0.878125\n",
      "0.23612163662910463 0.91875\n",
      "Valid Loss  0.35704878270626067 0.86015625\n",
      "0.26077521443367 0.903125\n",
      "0.25806422233581544 0.8984375\n",
      "Valid Loss  0.33687775284051896 0.86484375\n"
     ]
    }
   ],
   "source": [
    "optimizer = torch.optim.Adam(net3.parameters(), lr = 5e-05)\n",
    "tl4, vl4, ta4, va4, hiddens, net4 = train(net = net3, optimizer = optimizer, epochs = 8, hiddens = hiddens)"
   ]
  },
  {
   "cell_type": "code",
   "execution_count": null,
   "metadata": {
    "colab": {
     "base_uri": "https://localhost:8080/"
    },
    "id": "XJ-ocOGwa981",
    "outputId": "02f6fddc-624a-492d-b0e9-8ec6d53fa481"
   },
   "outputs": [
    {
     "name": "stdout",
     "output_type": "stream",
     "text": [
      "0.22919915616512299 0.925\n",
      "0.18906308114528655 0.9390625\n",
      "0.2785822212696075 0.89375\n",
      "Valid Loss  0.3609338641166687 0.88203125\n",
      "0.2257683753967285 0.9265625\n",
      "0.23262809514999389 0.9234375\n",
      "Valid Loss  0.40727649331092836 0.85546875\n",
      "0.21252832412719727 0.9234375\n",
      "0.22596641182899474 0.9234375\n",
      "Valid Loss  0.341300331056118 0.8734375\n"
     ]
    }
   ],
   "source": [
    "optimizer = torch.optim.Adam(net4.parameters(), lr = 1e-05)\n",
    "tl5, vl5, ta5, va5, hiddens, net5 = train(net = net4, optimizer = optimizer, epochs = 4, hiddens = hiddens)"
   ]
  },
  {
   "cell_type": "code",
   "execution_count": null,
   "metadata": {
    "id": "ugfGjIUQ5b5Q"
   },
   "outputs": [],
   "source": [
    "from copy import deepcopy\n",
    "net_saved = deepcopy(net5)"
   ]
  },
  {
   "cell_type": "code",
   "execution_count": null,
   "metadata": {
    "colab": {
     "base_uri": "https://localhost:8080/"
    },
    "id": "ngt51aNQ5DeN",
    "outputId": "40a48a15-b1c9-4988-cad0-ca69434727f0"
   },
   "outputs": [
    {
     "name": "stdout",
     "output_type": "stream",
     "text": [
      "0.25565778017044066 0.89375\n"
     ]
    }
   ],
   "source": [
    "optimizer = torch.optim.Adam(net5.parameters(), lr = 1e-04)\n",
    "tl6, vl6, ta6, va6, hiddens, net6 = train(net = net5, optimizer = optimizer, epochs = 1, hiddens = hiddens)"
   ]
  },
  {
   "cell_type": "code",
   "execution_count": null,
   "metadata": {
    "id": "swqzH66259wO"
   },
   "outputs": [],
   "source": [
    "net_saved_1 = deepcopy(net6)"
   ]
  },
  {
   "cell_type": "code",
   "execution_count": null,
   "metadata": {
    "colab": {
     "base_uri": "https://localhost:8080/"
    },
    "id": "MBKXOqT15Q2m",
    "outputId": "ae3ebeab-7f5f-4fea-e9de-2df5be57ab6b"
   },
   "outputs": [
    {
     "name": "stdout",
     "output_type": "stream",
     "text": [
      "0.22430045902729034 0.90625\n",
      "0.2451213300228119 0.9\n",
      "0.22160124480724336 0.91875\n",
      "Valid Loss  0.3937703654170036 0.84765625\n",
      "0.22033201456069945 0.91875\n",
      "0.24096328914165496 0.9140625\n",
      "Valid Loss  0.39466664642095567 0.85\n",
      "0.2227683484554291 0.91875\n",
      "0.23645130097866057 0.909375\n",
      "Valid Loss  0.3786997675895691 0.865625\n",
      "0.21502493023872377 0.9234375\n",
      "0.23730385601520537 0.921875\n",
      "Valid Loss  0.38697117269039155 0.8609375\n",
      "0.22905005812644957 0.921875\n",
      "0.22561399042606353 0.921875\n",
      "Valid Loss  0.3965780109167099 0.859375\n",
      "0.20602967739105224 0.9296875\n",
      "0.17655081152915955 0.9453125\n",
      "Valid Loss  0.37664999812841415 0.87109375\n"
     ]
    }
   ],
   "source": [
    "optimizer = torch.optim.Adam(net6.parameters(), lr = 1e-05)\n",
    "tl7, vl7, ta7, va7, hiddens, net7 = train(net = net6, optimizer = optimizer, epochs = 7, hiddens = hiddens)"
   ]
  },
  {
   "cell_type": "code",
   "execution_count": null,
   "metadata": {
    "colab": {
     "base_uri": "https://localhost:8080/"
    },
    "id": "AXVgheDu66MD",
    "outputId": "7c42552d-cd7a-442a-ee6e-8b8a126b090b"
   },
   "outputs": [
    {
     "name": "stdout",
     "output_type": "stream",
     "text": [
      "0.24197150766849518 0.9125\n",
      "0.21095925867557525 0.9359375\n",
      "0.26488845646381376 0.8953125\n",
      "Valid Loss  0.3138933777809143 0.884375\n",
      "0.21487709283828735 0.9265625\n",
      "0.22656959891319275 0.90625\n",
      "Valid Loss  0.3497843623161316 0.871875\n"
     ]
    }
   ],
   "source": [
    "optimizer = torch.optim.Adam(net7.parameters(), lr = 1e-04)\n",
    "tl8, vl8, ta8, va8, hiddens, net8 = train(net = net7, optimizer = optimizer, epochs = 3, hiddens = hiddens)"
   ]
  },
  {
   "cell_type": "code",
   "execution_count": null,
   "metadata": {
    "colab": {
     "base_uri": "https://localhost:8080/"
    },
    "id": "kDEOCo2r7eY7",
    "outputId": "dbb73224-95ec-49d3-ab5b-32176df051e0"
   },
   "outputs": [
    {
     "name": "stdout",
     "output_type": "stream",
     "text": [
      "0.21719134747982025 0.91875\n",
      "0.20647062361240387 0.934375\n",
      "0.19372345507144928 0.9375\n",
      "Valid Loss  0.4420066103339195 0.84375\n",
      "0.22228778004646302 0.9234375\n",
      "0.21144105195999147 0.9234375\n",
      "Valid Loss  0.37563740611076357 0.86015625\n",
      "0.1927757143974304 0.9390625\n",
      "0.18359166979789734 0.9421875\n",
      "Valid Loss  0.35952050536870955 0.86875\n",
      "0.15555467307567597 0.9578125\n",
      "0.18655673563480377 0.9421875\n",
      "Valid Loss  0.35874950140714645 0.875\n",
      "0.18765593469142913 0.9390625\n",
      "0.18376808166503905 0.9328125\n",
      "Valid Loss  0.41269798278808595 0.8515625\n",
      "0.17005536407232286 0.95\n",
      "0.20433939397335052 0.925\n",
      "Valid Loss  0.498439633846283 0.84296875\n"
     ]
    }
   ],
   "source": [
    "optimizer = torch.optim.Adam(net8.parameters(), lr = 8e-05)\n",
    "tl9, vl9, ta9, va9, hiddens, net9 = train(net = net8, optimizer = optimizer, epochs = 7, hiddens = hiddens)"
   ]
  },
  {
   "cell_type": "code",
   "execution_count": null,
   "metadata": {
    "colab": {
     "base_uri": "https://localhost:8080/"
    },
    "id": "KRU2AC-OEncr",
    "outputId": "aae84aba-bfb5-4800-fe8b-9612e308cbfd"
   },
   "outputs": [
    {
     "name": "stdout",
     "output_type": "stream",
     "text": [
      "0.1621658757328987 0.9484375\n",
      "0.18459104001522064 0.9328125\n",
      "0.16749755442142486 0.9484375\n",
      "Valid Loss  0.371592977643013 0.88125\n",
      "0.14290183931589126 0.9609375\n",
      "0.15369535982608795 0.9515625\n",
      "Valid Loss  0.47342477440834047 0.8484375\n",
      "0.17765433192253113 0.9375\n",
      "0.15178877115249634 0.953125\n",
      "Valid Loss  0.42289797961711884 0.8578125\n"
     ]
    }
   ],
   "source": [
    "optimizer = torch.optim.Adam(net9.parameters(), lr = 2e-05)\n",
    "tl10, vl10, ta10, va10, hiddens, net10 = train(net = net9, optimizer = optimizer, epochs = 4, hiddens = hiddens)"
   ]
  },
  {
   "cell_type": "code",
   "execution_count": null,
   "metadata": {
    "colab": {
     "base_uri": "https://localhost:8080/"
    },
    "id": "a9dCZkwDRlrv",
    "outputId": "aeade772-0b64-4b3e-90d3-7a8e8893624f"
   },
   "outputs": [
    {
     "data": {
      "text/plain": [
       "0.42232349493469185"
      ]
     },
     "execution_count": 79,
     "metadata": {},
     "output_type": "execute_result"
    }
   ],
   "source": [
    "np.mean(vl10)"
   ]
  },
  {
   "cell_type": "code",
   "execution_count": null,
   "metadata": {
    "id": "ENLLJsyqVvYT"
   },
   "outputs": [],
   "source": [
    "train_losses = (tl + tl2 + tl3 + tl4 + tl5 + tl6 + tl7 + tl8 + tl9 + tl10 )\n",
    "valid_losses = (vl + vl2 + vl3 + vl4 + vl5 + vl6 + vl7 + vl8 + vl9 + vl10 )\n",
    "train_accs = (ta + ta2 + ta3 + ta4 + ta5 + ta6 + ta7 + ta8 + ta9 + ta10)\n",
    "valid_accs = (va + va2 + va3 + va4 + va5 + va6 + va7 + va8 + va9 + va10 )"
   ]
  },
  {
   "cell_type": "code",
   "execution_count": null,
   "metadata": {
    "colab": {
     "base_uri": "https://localhost:8080/",
     "height": 448
    },
    "id": "JYepykw4tq1k",
    "outputId": "7fdd01af-e55d-4a19-888a-b1b8eb378c0c"
   },
   "outputs": [
    {
     "data": {
      "text/plain": [
       "[<matplotlib.lines.Line2D at 0x7fb2428c5c10>]"
      ]
     },
     "execution_count": 81,
     "metadata": {},
     "output_type": "execute_result"
    },
    {
     "data": {
      "image/png": "[encoded data removed]",
      "text/plain": [
       "<Figure size 640x480 with 1 Axes>"
      ]
     },
     "metadata": {},
     "output_type": "display_data"
    }
   ],
   "source": [
    "plt.plot(train_losses)\n",
    "plt.plot(valid_losses)"
   ]
  },
  {
   "cell_type": "code",
   "execution_count": null,
   "metadata": {
    "colab": {
     "base_uri": "https://localhost:8080/",
     "height": 448
    },
    "id": "V9XuFVBxtwYM",
    "outputId": "5a4e4c72-5f13-4da2-e16d-871e35836fc1"
   },
   "outputs": [
    {
     "data": {
      "text/plain": [
       "[<matplotlib.lines.Line2D at 0x7fb242855c10>]"
      ]
     },
     "execution_count": 82,
     "metadata": {},
     "output_type": "execute_result"
    },
    {
     "data": {
      "image/png": "[encoded data removed]",
      "text/plain": [
       "<Figure size 640x480 with 1 Axes>"
      ]
     },
     "metadata": {},
     "output_type": "display_data"
    }
   ],
   "source": [
    "plt.plot(train_accs)\n",
    "plt.plot(valid_accs)"
   ]
  },
  {
   "cell_type": "code",
   "execution_count": null,
   "metadata": {
    "id": "zsR315VfGBvN"
   },
   "outputs": [],
   "source": [
    "sx = sx.to(device)\n",
    "sy = sy.to(device)"
   ]
  },
  {
   "cell_type": "code",
   "execution_count": null,
   "metadata": {
    "colab": {
     "base_uri": "https://localhost:8080/"
    },
    "id": "z36rPv2AGMJp",
    "outputId": "edeba3c3-ed1d-43a8-aae8-f8c015152723"
   },
   "outputs": [
    {
     "data": {
      "text/plain": [
       "torch.Size([64, 278])"
      ]
     },
     "execution_count": 68,
     "metadata": {},
     "output_type": "execute_result"
    }
   ],
   "source": [
    "sx.shape"
   ]
  },
  {
   "cell_type": "code",
   "execution_count": null,
   "metadata": {
    "id": "G8xuaTq9F3pM"
   },
   "outputs": [],
   "source": [
    "uu = net.embs(sx)"
   ]
  },
  {
   "cell_type": "code",
   "execution_count": null,
   "metadata": {
    "colab": {
     "base_uri": "https://localhost:8080/"
    },
    "id": "-9_0PhOHGAYw",
    "outputId": "b991afce-4cca-41c4-9ae1-9bda2454ec96"
   },
   "outputs": [
    {
     "data": {
      "text/plain": [
       "torch.Size([64, 278, 400])"
      ]
     },
     "execution_count": 66,
     "metadata": {},
     "output_type": "execute_result"
    }
   ],
   "source": [
    "uu.shape"
   ]
  },
  {
   "cell_type": "code",
   "execution_count": null,
   "metadata": {
    "id": "LVnu1aVzCeiv"
   },
   "outputs": [],
   "source": [
    "transformer_model = nn.Transformer(nhead=16, num_encoder_layers=12)\n",
    "src = torch.rand((10, 32, 512))\n",
    "tgt = torch.rand((20, 32, 512))\n",
    "out = transformer_model(src, tgt)"
   ]
  },
  {
   "cell_type": "code",
   "execution_count": null,
   "metadata": {
    "id": "ngnuHHPZCng-"
   },
   "outputs": [],
   "source": [
    "encoder_layer = nn.TransformerEncoderLayer(d_model = 400, nhead =8, dim_feedforward = 2048, batch_first = True)\n",
    "\n",
    "transformer_encoder = nn.TransformerEncoder(\n",
    "            encoder_layer,\n",
    "            num_layers = 2,\n",
    "        )"
   ]
  },
  {
   "cell_type": "code",
   "execution_count": null,
   "metadata": {
    "id": "QBa7pEv5ohEM"
   },
   "outputs": [],
   "source": [
    "a = torch.randn(128, 278, 400)"
   ]
  },
  {
   "cell_type": "code",
   "execution_count": null,
   "metadata": {
    "id": "WsRNFQYrokO-"
   },
   "outputs": [],
   "source": [
    "yhat = transformer_encoder(a)"
   ]
  },
  {
   "cell_type": "code",
   "execution_count": null,
   "metadata": {
    "colab": {
     "base_uri": "https://localhost:8080/"
    },
    "id": "-5ZzpxdjonAM",
    "outputId": "fb7518d0-7575-4eac-f341-7c1ddd77ed86"
   },
   "outputs": [
    {
     "data": {
      "text/plain": [
       "torch.Size([128, 278, 400])"
      ]
     },
     "execution_count": 70,
     "metadata": {},
     "output_type": "execute_result"
    }
   ],
   "source": [
    "yhat.shape"
   ]
  },
  {
   "cell_type": "code",
   "execution_count": null,
   "metadata": {
    "id": "XcS5WMrpoqGm"
   },
   "outputs": [],
   "source": [
    "lin1 = nn.Linear(400, 1)"
   ]
  },
  {
   "cell_type": "code",
   "execution_count": null,
   "metadata": {
    "id": "IOfDE0UaovpQ"
   },
   "outputs": [],
   "source": [
    "l1 = lin1(yhat)"
   ]
  },
  {
   "cell_type": "code",
   "execution_count": null,
   "metadata": {
    "colab": {
     "base_uri": "https://localhost:8080/"
    },
    "id": "T7sP1zLhoyCT",
    "outputId": "1d873644-ebfe-478f-f046-9c34a43e9199"
   },
   "outputs": [
    {
     "data": {
      "text/plain": [
       "torch.Size([128, 278, 1])"
      ]
     },
     "execution_count": 80,
     "metadata": {},
     "output_type": "execute_result"
    }
   ],
   "source": [
    "l1.shape"
   ]
  },
  {
   "cell_type": "code",
   "execution_count": null,
   "metadata": {
    "colab": {
     "base_uri": "https://localhost:8080/"
    },
    "id": "-za0F3Qjpo40",
    "outputId": "83508df3-3af8-41fc-9cfa-7b91d3cdf733"
   },
   "outputs": [
    {
     "data": {
      "text/plain": [
       "torch.Size([128, 278])"
      ]
     },
     "execution_count": 81,
     "metadata": {},
     "output_type": "execute_result"
    }
   ],
   "source": [
    "l1.view(-1, 278).shape"
   ]
  },
  {
   "cell_type": "code",
   "execution_count": null,
   "metadata": {
    "colab": {
     "base_uri": "https://localhost:8080/"
    },
    "id": "MDe1L2WOoyvs",
    "outputId": "2bfbf5bf-6401-4d69-f9c5-7c0cee31001a"
   },
   "outputs": [
    {
     "data": {
      "text/plain": [
       "torch.Size([128, 278, 64])"
      ]
     },
     "execution_count": 76,
     "metadata": {},
     "output_type": "execute_result"
    }
   ],
   "source": [
    "nn.BatchNorm1d(278)(l1).shape"
   ]
  },
  {
   "cell_type": "code",
   "execution_count": null,
   "metadata": {
    "id": "Zq1g5H5AvVC5"
   },
   "outputs": [],
   "source": [
    "Transformer = ClassificationTransformer(emb_dropout = 0.5, dropout = 0.5, num_layers = 6).to(device)"
   ]
  },
  {
   "cell_type": "code",
   "execution_count": null,
   "metadata": {
    "id": "qKrddEY-vVgP"
   },
   "outputs": [],
   "source": [
    "databunch = DataBunch(train_loader, valid_loader)"
   ]
  },
  {
   "cell_type": "code",
   "execution_count": null,
   "metadata": {
    "id": "h5qZiupKviB2"
   },
   "outputs": [],
   "source": [
    "learn = Learner(databunch, Transformer, metrics = accuracy)"
   ]
  },
  {
   "cell_type": "code",
   "execution_count": null,
   "metadata": {
    "colab": {
     "base_uri": "https://localhost:8080/",
     "height": 113
    },
    "id": "UN5DvEHGvp-5",
    "outputId": "5bc86d80-8351-4258-8b5d-fa7c46e898f4"
   },
   "outputs": [
    {
     "data": {
      "text/html": [
       "\n",
       "<style>\n",
       "    /* Turns off some styling */\n",
       "    progress {\n",
       "        /* gets rid of default border in Firefox and Opera. */\n",
       "        border: none;\n",
       "        /* Needs to be in here for Safari polyfill so background images work as expected. */\n",
       "        background-size: auto;\n",
       "    }\n",
       "    progress:not([value]), progress:not([value])::-webkit-progress-bar {\n",
       "        background: repeating-linear-gradient(45deg, #7e7e7e, #7e7e7e 10px, #5c5c5c 10px, #5c5c5c 20px);\n",
       "    }\n",
       "    .progress-bar-interrupted, .progress-bar-interrupted::-webkit-progress-bar {\n",
       "        background: #F44336;\n",
       "    }\n",
       "</style>\n"
      ],
      "text/plain": [
       "<IPython.core.display.HTML object>"
      ]
     },
     "metadata": {},
     "output_type": "display_data"
    },
    {
     "data": {
      "text/html": [
       "\n",
       "    <div>\n",
       "      <progress value='0' class='' max='1' style='width:300px; height:20px; vertical-align: middle;'></progress>\n",
       "      0.00% [0/1 00:00&lt;?]\n",
       "    </div>\n",
       "    \n",
       "<table border=\"1\" class=\"dataframe\">\n",
       "  <thead>\n",
       "    <tr style=\"text-align: left;\">\n",
       "      <th>epoch</th>\n",
       "      <th>train_loss</th>\n",
       "      <th>valid_loss</th>\n",
       "      <th>accuracy</th>\n",
       "      <th>time</th>\n",
       "    </tr>\n",
       "  </thead>\n",
       "  <tbody>\n",
       "  </tbody>\n",
       "</table><p>\n",
       "\n",
       "    <div>\n",
       "      <progress value='99' class='' max='157' style='width:300px; height:20px; vertical-align: middle;'></progress>\n",
       "      63.06% [99/157 00:30&lt;00:18 0.7903]\n",
       "    </div>\n",
       "    "
      ],
      "text/plain": [
       "<IPython.core.display.HTML object>"
      ]
     },
     "metadata": {},
     "output_type": "display_data"
    },
    {
     "name": "stdout",
     "output_type": "stream",
     "text": [
      "LR Finder is complete, type {learner_name}.recorder.plot() to see the graph.\n"
     ]
    }
   ],
   "source": [
    "learn.lr_find()"
   ]
  },
  {
   "cell_type": "code",
   "execution_count": null,
   "metadata": {
    "colab": {
     "base_uri": "https://localhost:8080/",
     "height": 449
    },
    "id": "_TKHVpPEvtdG",
    "outputId": "5f021b11-318d-479e-b95c-d22d73f1d796"
   },
   "outputs": [
    {
     "data": {
      "image/png": "[encoded data removed]",
      "text/plain": [
       "<Figure size 640x480 with 1 Axes>"
      ]
     },
     "metadata": {},
     "output_type": "display_data"
    }
   ],
   "source": [
    "learn.recorder.plot()"
   ]
  },
  {
   "cell_type": "code",
   "execution_count": null,
   "metadata": {
    "colab": {
     "base_uri": "https://localhost:8080/",
     "height": 112
    },
    "id": "JgRE4Jd8vvTT",
    "outputId": "6f7ad377-6e44-486f-ffe5-edfd0621b810"
   },
   "outputs": [
    {
     "data": {
      "text/html": [
       "\n",
       "<style>\n",
       "    /* Turns off some styling */\n",
       "    progress {\n",
       "        /* gets rid of default border in Firefox and Opera. */\n",
       "        border: none;\n",
       "        /* Needs to be in here for Safari polyfill so background images work as expected. */\n",
       "        background-size: auto;\n",
       "    }\n",
       "    progress:not([value]), progress:not([value])::-webkit-progress-bar {\n",
       "        background: repeating-linear-gradient(45deg, #7e7e7e, #7e7e7e 10px, #5c5c5c 10px, #5c5c5c 20px);\n",
       "    }\n",
       "    .progress-bar-interrupted, .progress-bar-interrupted::-webkit-progress-bar {\n",
       "        background: #F44336;\n",
       "    }\n",
       "</style>\n"
      ],
      "text/plain": [
       "<IPython.core.display.HTML object>"
      ]
     },
     "metadata": {},
     "output_type": "display_data"
    },
    {
     "data": {
      "text/html": [
       "<table border=\"1\" class=\"dataframe\">\n",
       "  <thead>\n",
       "    <tr style=\"text-align: left;\">\n",
       "      <th>epoch</th>\n",
       "      <th>train_loss</th>\n",
       "      <th>valid_loss</th>\n",
       "      <th>accuracy</th>\n",
       "      <th>time</th>\n",
       "    </tr>\n",
       "  </thead>\n",
       "  <tbody>\n",
       "    <tr>\n",
       "      <td>0</td>\n",
       "      <td>0.700914</td>\n",
       "      <td>0.974536</td>\n",
       "      <td>0.504200</td>\n",
       "      <td>00:50</td>\n",
       "    </tr>\n",
       "    <tr>\n",
       "      <td>1</td>\n",
       "      <td>0.694061</td>\n",
       "      <td>0.696077</td>\n",
       "      <td>0.504200</td>\n",
       "      <td>00:50</td>\n",
       "    </tr>\n",
       "  </tbody>\n",
       "</table>"
      ],
      "text/plain": [
       "<IPython.core.display.HTML object>"
      ]
     },
     "metadata": {},
     "output_type": "display_data"
    }
   ],
   "source": [
    "learn.fit_one_cycle(2, max_lr = 4e-02)"
   ]
  },
  {
   "cell_type": "code",
   "execution_count": null,
   "metadata": {
    "colab": {
     "base_uri": "https://localhost:8080/",
     "height": 113
    },
    "id": "T98SYtpJzMQ0",
    "outputId": "1b46b283-279d-4def-8936-f1a0b47bdb14"
   },
   "outputs": [
    {
     "data": {
      "text/html": [
       "\n",
       "<style>\n",
       "    /* Turns off some styling */\n",
       "    progress {\n",
       "        /* gets rid of default border in Firefox and Opera. */\n",
       "        border: none;\n",
       "        /* Needs to be in here for Safari polyfill so background images work as expected. */\n",
       "        background-size: auto;\n",
       "    }\n",
       "    progress:not([value]), progress:not([value])::-webkit-progress-bar {\n",
       "        background: repeating-linear-gradient(45deg, #7e7e7e, #7e7e7e 10px, #5c5c5c 10px, #5c5c5c 20px);\n",
       "    }\n",
       "    .progress-bar-interrupted, .progress-bar-interrupted::-webkit-progress-bar {\n",
       "        background: #F44336;\n",
       "    }\n",
       "</style>\n"
      ],
      "text/plain": [
       "<IPython.core.display.HTML object>"
      ]
     },
     "metadata": {},
     "output_type": "display_data"
    },
    {
     "data": {
      "text/html": [
       "\n",
       "    <div>\n",
       "      <progress value='0' class='' max='1' style='width:300px; height:20px; vertical-align: middle;'></progress>\n",
       "      0.00% [0/1 00:00&lt;?]\n",
       "    </div>\n",
       "    \n",
       "<table border=\"1\" class=\"dataframe\">\n",
       "  <thead>\n",
       "    <tr style=\"text-align: left;\">\n",
       "      <th>epoch</th>\n",
       "      <th>train_loss</th>\n",
       "      <th>valid_loss</th>\n",
       "      <th>accuracy</th>\n",
       "      <th>time</th>\n",
       "    </tr>\n",
       "  </thead>\n",
       "  <tbody>\n",
       "  </tbody>\n",
       "</table><p>\n",
       "\n",
       "    <div>\n",
       "      <progress value='99' class='' max='157' style='width:300px; height:20px; vertical-align: middle;'></progress>\n",
       "      63.06% [99/157 00:29&lt;00:17 0.7037]\n",
       "    </div>\n",
       "    "
      ],
      "text/plain": [
       "<IPython.core.display.HTML object>"
      ]
     },
     "metadata": {},
     "output_type": "display_data"
    },
    {
     "name": "stdout",
     "output_type": "stream",
     "text": [
      "LR Finder is complete, type {learner_name}.recorder.plot() to see the graph.\n"
     ]
    }
   ],
   "source": [
    "learn.lr_find()"
   ]
  },
  {
   "cell_type": "code",
   "execution_count": null,
   "metadata": {
    "colab": {
     "base_uri": "https://localhost:8080/",
     "height": 449
    },
    "id": "9j9C-uBtzVYw",
    "outputId": "3c1cdb49-9ff6-4da6-c4c1-64de365d29ab"
   },
   "outputs": [
    {
     "data": {
      "image/png": "[encoded data removed]",
      "text/plain": [
       "<Figure size 640x480 with 1 Axes>"
      ]
     },
     "metadata": {},
     "output_type": "display_data"
    }
   ],
   "source": [
    "learn.recorder.plot()"
   ]
  },
  {
   "cell_type": "code",
   "execution_count": null,
   "metadata": {
    "colab": {
     "base_uri": "https://localhost:8080/",
     "height": 206
    },
    "id": "tSmVTFTdzW4v",
    "outputId": "b48cc6ae-a43f-4c49-ebaf-75ed2f29715c"
   },
   "outputs": [
    {
     "data": {
      "text/html": [
       "\n",
       "<style>\n",
       "    /* Turns off some styling */\n",
       "    progress {\n",
       "        /* gets rid of default border in Firefox and Opera. */\n",
       "        border: none;\n",
       "        /* Needs to be in here for Safari polyfill so background images work as expected. */\n",
       "        background-size: auto;\n",
       "    }\n",
       "    progress:not([value]), progress:not([value])::-webkit-progress-bar {\n",
       "        background: repeating-linear-gradient(45deg, #7e7e7e, #7e7e7e 10px, #5c5c5c 10px, #5c5c5c 20px);\n",
       "    }\n",
       "    .progress-bar-interrupted, .progress-bar-interrupted::-webkit-progress-bar {\n",
       "        background: #F44336;\n",
       "    }\n",
       "</style>\n"
      ],
      "text/plain": [
       "<IPython.core.display.HTML object>"
      ]
     },
     "metadata": {},
     "output_type": "display_data"
    },
    {
     "data": {
      "text/html": [
       "<table border=\"1\" class=\"dataframe\">\n",
       "  <thead>\n",
       "    <tr style=\"text-align: left;\">\n",
       "      <th>epoch</th>\n",
       "      <th>train_loss</th>\n",
       "      <th>valid_loss</th>\n",
       "      <th>accuracy</th>\n",
       "      <th>time</th>\n",
       "    </tr>\n",
       "  </thead>\n",
       "  <tbody>\n",
       "    <tr>\n",
       "      <td>0</td>\n",
       "      <td>0.693238</td>\n",
       "      <td>0.697397</td>\n",
       "      <td>0.504200</td>\n",
       "      <td>00:51</td>\n",
       "    </tr>\n",
       "    <tr>\n",
       "      <td>1</td>\n",
       "      <td>0.693154</td>\n",
       "      <td>0.696221</td>\n",
       "      <td>0.504200</td>\n",
       "      <td>00:50</td>\n",
       "    </tr>\n",
       "    <tr>\n",
       "      <td>2</td>\n",
       "      <td>0.693409</td>\n",
       "      <td>0.694823</td>\n",
       "      <td>0.504200</td>\n",
       "      <td>00:50</td>\n",
       "    </tr>\n",
       "    <tr>\n",
       "      <td>3</td>\n",
       "      <td>0.693314</td>\n",
       "      <td>0.693596</td>\n",
       "      <td>0.504200</td>\n",
       "      <td>00:51</td>\n",
       "    </tr>\n",
       "    <tr>\n",
       "      <td>4</td>\n",
       "      <td>0.693017</td>\n",
       "      <td>0.693514</td>\n",
       "      <td>0.504200</td>\n",
       "      <td>00:51</td>\n",
       "    </tr>\n",
       "  </tbody>\n",
       "</table>"
      ],
      "text/plain": [
       "<IPython.core.display.HTML object>"
      ]
     },
     "metadata": {},
     "output_type": "display_data"
    }
   ],
   "source": [
    "learn.fit_one_cycle(5, max_lr = 1e-03)"
   ]
  }
 ],
 "metadata": {
  "accelerator": "GPU",
  "colab": {
   "collapsed_sections": [],
   "machine_shape": "hm",
   "provenance": []
  },
  "gpuClass": "premium",
  "kernelspec": {
   "display_name": "Python 3 (ipykernel)",
   "language": "python",
   "name": "python3"
  },
  "language_info": {
   "codemirror_mode": {
    "name": "ipython",
    "version": 3
   },
   "file_extension": ".py",
   "mimetype": "text/x-python",
   "name": "python",
   "nbconvert_exporter": "python",
   "pygments_lexer": "ipython3",
   "version": "3.9.7"
  }
 },
 "nbformat": 4,
 "nbformat_minor": 1
}

{
 "cells": [
  {
   "cell_type": "code",
   "execution_count": 1,
   "metadata": {},
   "outputs": [],
   "source": [
    "import pandas as pd\n",
    "import numpy as np\n",
    "import pandas_profiling\n",
    "from scipy.stats import mode\n",
    "import scipy as sc\n",
    "import seaborn as sns #visualisation\n",
    "import matplotlib.pyplot as plt #visualisation\n",
    "%matplotlib inline \n",
    "sns.set(color_codes=True)\n",
    "import tensorflow as tf\n",
    "from sklearn import metrics\n",
    "from sklearn.cluster import KMeans\n",
    "from sklearn.datasets import load_digits\n",
    "from sklearn.decomposition import PCA\n",
    "from sklearn.preprocessing import scale\n",
    "from sklearn.preprocessing import LabelEncoder\n",
    "from sklearn.preprocessing import MinMaxScaler"
   ]
  },
  {
   "cell_type": "code",
   "execution_count": 2,
   "metadata": {},
   "outputs": [
    {
     "name": "stderr",
     "output_type": "stream",
     "text": [
      "'grep' is not recognized as an internal or external command,\n",
      "operable program or batch file.\n"
     ]
    }
   ],
   "source": [
    "pd.__version__\n",
    "!pip freeze |grep pandas-profiling"
   ]
  },
  {
   "cell_type": "code",
   "execution_count": 3,
   "metadata": {},
   "outputs": [],
   "source": [
    "#To force pyhton to show all output instead of the last output only\n",
    "from IPython.core.interactiveshell import InteractiveShell\n",
    "InteractiveShell.ast_node_interactivity = \"all\""
   ]
  },
  {
   "cell_type": "code",
   "execution_count": 4,
   "metadata": {},
   "outputs": [],
   "source": [
    "#Read the csv file\n",
    "cust_df = pd.read_csv(filepath_or_buffer = 'E:/Temp/Masters/EAI6010-Applications_of_AI/Week_6/Customer_Dataset_File.csv')"
   ]
  },
  {
   "cell_type": "code",
   "execution_count": 5,
   "metadata": {},
   "outputs": [
    {
     "data": {
      "text/html": [
       "<div>\n",
       "<style scoped>\n",
       "    .dataframe tbody tr th:only-of-type {\n",
       "        vertical-align: middle;\n",
       "    }\n",
       "\n",
       "    .dataframe tbody tr th {\n",
       "        vertical-align: top;\n",
       "    }\n",
       "\n",
       "    .dataframe thead th {\n",
       "        text-align: right;\n",
       "    }\n",
       "</style>\n",
       "<table border=\"1\" class=\"dataframe\">\n",
       "  <thead>\n",
       "    <tr style=\"text-align: right;\">\n",
       "      <th></th>\n",
       "      <th>CustomerID</th>\n",
       "      <th>Region</th>\n",
       "      <th>TownSize</th>\n",
       "      <th>Gender</th>\n",
       "      <th>Age</th>\n",
       "      <th>EducationYears</th>\n",
       "      <th>JobCategory</th>\n",
       "      <th>UnionMember</th>\n",
       "      <th>EmploymentLength</th>\n",
       "      <th>Retired</th>\n",
       "      <th>...</th>\n",
       "      <th>CallWait</th>\n",
       "      <th>CallForward</th>\n",
       "      <th>ThreeWayCalling</th>\n",
       "      <th>EBilling</th>\n",
       "      <th>TVWatchingHours</th>\n",
       "      <th>OwnsPC</th>\n",
       "      <th>OwnsMobileDevice</th>\n",
       "      <th>OwnsGameSystem</th>\n",
       "      <th>OwnsFax</th>\n",
       "      <th>NewsSubscriber</th>\n",
       "    </tr>\n",
       "  </thead>\n",
       "  <tbody>\n",
       "    <tr>\n",
       "      <th>0</th>\n",
       "      <td>3964-QJWTRG-NPN</td>\n",
       "      <td>1</td>\n",
       "      <td>2</td>\n",
       "      <td>Female</td>\n",
       "      <td>20</td>\n",
       "      <td>15</td>\n",
       "      <td>Professional</td>\n",
       "      <td>Yes</td>\n",
       "      <td>0</td>\n",
       "      <td>No</td>\n",
       "      <td>...</td>\n",
       "      <td>Yes</td>\n",
       "      <td>Yes</td>\n",
       "      <td>Yes</td>\n",
       "      <td>No</td>\n",
       "      <td>13</td>\n",
       "      <td>No</td>\n",
       "      <td>Yes</td>\n",
       "      <td>Yes</td>\n",
       "      <td>No</td>\n",
       "      <td>No</td>\n",
       "    </tr>\n",
       "    <tr>\n",
       "      <th>1</th>\n",
       "      <td>0648-AIPJSP-UVM</td>\n",
       "      <td>5</td>\n",
       "      <td>5</td>\n",
       "      <td>Male</td>\n",
       "      <td>22</td>\n",
       "      <td>17</td>\n",
       "      <td>Sales</td>\n",
       "      <td>No</td>\n",
       "      <td>0</td>\n",
       "      <td>No</td>\n",
       "      <td>...</td>\n",
       "      <td>No</td>\n",
       "      <td>Yes</td>\n",
       "      <td>No</td>\n",
       "      <td>Yes</td>\n",
       "      <td>18</td>\n",
       "      <td>Yes</td>\n",
       "      <td>Yes</td>\n",
       "      <td>Yes</td>\n",
       "      <td>Yes</td>\n",
       "      <td>Yes</td>\n",
       "    </tr>\n",
       "    <tr>\n",
       "      <th>2</th>\n",
       "      <td>5195-TLUDJE-HVO</td>\n",
       "      <td>3</td>\n",
       "      <td>4</td>\n",
       "      <td>Female</td>\n",
       "      <td>67</td>\n",
       "      <td>14</td>\n",
       "      <td>Sales</td>\n",
       "      <td>No</td>\n",
       "      <td>16</td>\n",
       "      <td>No</td>\n",
       "      <td>...</td>\n",
       "      <td>No</td>\n",
       "      <td>No</td>\n",
       "      <td>No</td>\n",
       "      <td>No</td>\n",
       "      <td>21</td>\n",
       "      <td>No</td>\n",
       "      <td>No</td>\n",
       "      <td>No</td>\n",
       "      <td>No</td>\n",
       "      <td>Yes</td>\n",
       "    </tr>\n",
       "    <tr>\n",
       "      <th>3</th>\n",
       "      <td>4459-VLPQUH-3OL</td>\n",
       "      <td>4</td>\n",
       "      <td>3</td>\n",
       "      <td>Male</td>\n",
       "      <td>23</td>\n",
       "      <td>16</td>\n",
       "      <td>Sales</td>\n",
       "      <td>No</td>\n",
       "      <td>0</td>\n",
       "      <td>No</td>\n",
       "      <td>...</td>\n",
       "      <td>No</td>\n",
       "      <td>No</td>\n",
       "      <td>No</td>\n",
       "      <td>Yes</td>\n",
       "      <td>26</td>\n",
       "      <td>Yes</td>\n",
       "      <td>Yes</td>\n",
       "      <td>Yes</td>\n",
       "      <td>No</td>\n",
       "      <td>Yes</td>\n",
       "    </tr>\n",
       "    <tr>\n",
       "      <th>4</th>\n",
       "      <td>8158-SMTQFB-CNO</td>\n",
       "      <td>2</td>\n",
       "      <td>2</td>\n",
       "      <td>Male</td>\n",
       "      <td>26</td>\n",
       "      <td>16</td>\n",
       "      <td>Sales</td>\n",
       "      <td>No</td>\n",
       "      <td>1</td>\n",
       "      <td>No</td>\n",
       "      <td>...</td>\n",
       "      <td>Yes</td>\n",
       "      <td>Yes</td>\n",
       "      <td>Yes</td>\n",
       "      <td>No</td>\n",
       "      <td>27</td>\n",
       "      <td>Yes</td>\n",
       "      <td>No</td>\n",
       "      <td>Yes</td>\n",
       "      <td>No</td>\n",
       "      <td>No</td>\n",
       "    </tr>\n",
       "  </tbody>\n",
       "</table>\n",
       "<p>5 rows × 59 columns</p>\n",
       "</div>"
      ],
      "text/plain": [
       "        CustomerID  Region TownSize  Gender  Age  EducationYears  \\\n",
       "0  3964-QJWTRG-NPN       1        2  Female   20              15   \n",
       "1  0648-AIPJSP-UVM       5        5    Male   22              17   \n",
       "2  5195-TLUDJE-HVO       3        4  Female   67              14   \n",
       "3  4459-VLPQUH-3OL       4        3    Male   23              16   \n",
       "4  8158-SMTQFB-CNO       2        2    Male   26              16   \n",
       "\n",
       "    JobCategory UnionMember  EmploymentLength Retired  ... CallWait  \\\n",
       "0  Professional         Yes                 0      No  ...      Yes   \n",
       "1         Sales          No                 0      No  ...       No   \n",
       "2         Sales          No                16      No  ...       No   \n",
       "3         Sales          No                 0      No  ...       No   \n",
       "4         Sales          No                 1      No  ...      Yes   \n",
       "\n",
       "   CallForward  ThreeWayCalling  EBilling TVWatchingHours OwnsPC  \\\n",
       "0          Yes              Yes        No              13     No   \n",
       "1          Yes               No       Yes              18    Yes   \n",
       "2           No               No        No              21     No   \n",
       "3           No               No       Yes              26    Yes   \n",
       "4          Yes              Yes        No              27    Yes   \n",
       "\n",
       "   OwnsMobileDevice  OwnsGameSystem  OwnsFax  NewsSubscriber  \n",
       "0               Yes             Yes       No              No  \n",
       "1               Yes             Yes      Yes             Yes  \n",
       "2                No              No       No             Yes  \n",
       "3               Yes             Yes       No             Yes  \n",
       "4                No             Yes       No              No  \n",
       "\n",
       "[5 rows x 59 columns]"
      ]
     },
     "execution_count": 5,
     "metadata": {},
     "output_type": "execute_result"
    },
    {
     "data": {
      "text/html": [
       "<div>\n",
       "<style scoped>\n",
       "    .dataframe tbody tr th:only-of-type {\n",
       "        vertical-align: middle;\n",
       "    }\n",
       "\n",
       "    .dataframe tbody tr th {\n",
       "        vertical-align: top;\n",
       "    }\n",
       "\n",
       "    .dataframe thead th {\n",
       "        text-align: right;\n",
       "    }\n",
       "</style>\n",
       "<table border=\"1\" class=\"dataframe\">\n",
       "  <thead>\n",
       "    <tr style=\"text-align: right;\">\n",
       "      <th></th>\n",
       "      <th>CustomerID</th>\n",
       "      <th>Region</th>\n",
       "      <th>TownSize</th>\n",
       "      <th>Gender</th>\n",
       "      <th>Age</th>\n",
       "      <th>EducationYears</th>\n",
       "      <th>JobCategory</th>\n",
       "      <th>UnionMember</th>\n",
       "      <th>EmploymentLength</th>\n",
       "      <th>Retired</th>\n",
       "      <th>...</th>\n",
       "      <th>CallWait</th>\n",
       "      <th>CallForward</th>\n",
       "      <th>ThreeWayCalling</th>\n",
       "      <th>EBilling</th>\n",
       "      <th>TVWatchingHours</th>\n",
       "      <th>OwnsPC</th>\n",
       "      <th>OwnsMobileDevice</th>\n",
       "      <th>OwnsGameSystem</th>\n",
       "      <th>OwnsFax</th>\n",
       "      <th>NewsSubscriber</th>\n",
       "    </tr>\n",
       "  </thead>\n",
       "  <tbody>\n",
       "    <tr>\n",
       "      <th>4995</th>\n",
       "      <td>3675-GZFGOT-QJN</td>\n",
       "      <td>2</td>\n",
       "      <td>2</td>\n",
       "      <td>Male</td>\n",
       "      <td>68</td>\n",
       "      <td>10</td>\n",
       "      <td>Professional</td>\n",
       "      <td>No</td>\n",
       "      <td>24</td>\n",
       "      <td>No</td>\n",
       "      <td>...</td>\n",
       "      <td>No</td>\n",
       "      <td>No</td>\n",
       "      <td>No</td>\n",
       "      <td>No</td>\n",
       "      <td>19</td>\n",
       "      <td>No</td>\n",
       "      <td>No</td>\n",
       "      <td>No</td>\n",
       "      <td>No</td>\n",
       "      <td>Yes</td>\n",
       "    </tr>\n",
       "    <tr>\n",
       "      <th>4996</th>\n",
       "      <td>4699-LEPCCE-3UD</td>\n",
       "      <td>3</td>\n",
       "      <td>3</td>\n",
       "      <td>Male</td>\n",
       "      <td>51</td>\n",
       "      <td>14</td>\n",
       "      <td>Professional</td>\n",
       "      <td>No</td>\n",
       "      <td>6</td>\n",
       "      <td>No</td>\n",
       "      <td>...</td>\n",
       "      <td>Yes</td>\n",
       "      <td>Yes</td>\n",
       "      <td>Yes</td>\n",
       "      <td>No</td>\n",
       "      <td>14</td>\n",
       "      <td>No</td>\n",
       "      <td>No</td>\n",
       "      <td>No</td>\n",
       "      <td>No</td>\n",
       "      <td>No</td>\n",
       "    </tr>\n",
       "    <tr>\n",
       "      <th>4997</th>\n",
       "      <td>8485-LLUICH-CVV</td>\n",
       "      <td>4</td>\n",
       "      <td>5</td>\n",
       "      <td>Male</td>\n",
       "      <td>75</td>\n",
       "      <td>17</td>\n",
       "      <td>Professional</td>\n",
       "      <td>No</td>\n",
       "      <td>24</td>\n",
       "      <td>No</td>\n",
       "      <td>...</td>\n",
       "      <td>Yes</td>\n",
       "      <td>Yes</td>\n",
       "      <td>Yes</td>\n",
       "      <td>No</td>\n",
       "      <td>16</td>\n",
       "      <td>No</td>\n",
       "      <td>No</td>\n",
       "      <td>No</td>\n",
       "      <td>No</td>\n",
       "      <td>Yes</td>\n",
       "    </tr>\n",
       "    <tr>\n",
       "      <th>4998</th>\n",
       "      <td>9325-URAAUT-7FA</td>\n",
       "      <td>1</td>\n",
       "      <td>1</td>\n",
       "      <td>Male</td>\n",
       "      <td>47</td>\n",
       "      <td>19</td>\n",
       "      <td>Sales</td>\n",
       "      <td>No</td>\n",
       "      <td>3</td>\n",
       "      <td>No</td>\n",
       "      <td>...</td>\n",
       "      <td>No</td>\n",
       "      <td>No</td>\n",
       "      <td>No</td>\n",
       "      <td>Yes</td>\n",
       "      <td>24</td>\n",
       "      <td>Yes</td>\n",
       "      <td>Yes</td>\n",
       "      <td>Yes</td>\n",
       "      <td>No</td>\n",
       "      <td>Yes</td>\n",
       "    </tr>\n",
       "    <tr>\n",
       "      <th>4999</th>\n",
       "      <td>8027-EXDZBF-OGR</td>\n",
       "      <td>3</td>\n",
       "      <td>5</td>\n",
       "      <td>Female</td>\n",
       "      <td>41</td>\n",
       "      <td>10</td>\n",
       "      <td>Crafts</td>\n",
       "      <td>No</td>\n",
       "      <td>20</td>\n",
       "      <td>No</td>\n",
       "      <td>...</td>\n",
       "      <td>No</td>\n",
       "      <td>No</td>\n",
       "      <td>No</td>\n",
       "      <td>No</td>\n",
       "      <td>19</td>\n",
       "      <td>No</td>\n",
       "      <td>No</td>\n",
       "      <td>No</td>\n",
       "      <td>No</td>\n",
       "      <td>No</td>\n",
       "    </tr>\n",
       "  </tbody>\n",
       "</table>\n",
       "<p>5 rows × 59 columns</p>\n",
       "</div>"
      ],
      "text/plain": [
       "           CustomerID  Region TownSize  Gender  Age  EducationYears  \\\n",
       "4995  3675-GZFGOT-QJN       2        2    Male   68              10   \n",
       "4996  4699-LEPCCE-3UD       3        3    Male   51              14   \n",
       "4997  8485-LLUICH-CVV       4        5    Male   75              17   \n",
       "4998  9325-URAAUT-7FA       1        1    Male   47              19   \n",
       "4999  8027-EXDZBF-OGR       3        5  Female   41              10   \n",
       "\n",
       "       JobCategory UnionMember  EmploymentLength Retired  ... CallWait  \\\n",
       "4995  Professional          No                24      No  ...       No   \n",
       "4996  Professional          No                 6      No  ...      Yes   \n",
       "4997  Professional          No                24      No  ...      Yes   \n",
       "4998         Sales          No                 3      No  ...       No   \n",
       "4999        Crafts          No                20      No  ...       No   \n",
       "\n",
       "      CallForward  ThreeWayCalling  EBilling TVWatchingHours OwnsPC  \\\n",
       "4995           No               No        No              19     No   \n",
       "4996          Yes              Yes        No              14     No   \n",
       "4997          Yes              Yes        No              16     No   \n",
       "4998           No               No       Yes              24    Yes   \n",
       "4999           No               No        No              19     No   \n",
       "\n",
       "      OwnsMobileDevice  OwnsGameSystem  OwnsFax  NewsSubscriber  \n",
       "4995                No              No       No             Yes  \n",
       "4996                No              No       No              No  \n",
       "4997                No              No       No             Yes  \n",
       "4998               Yes             Yes       No             Yes  \n",
       "4999                No              No       No              No  \n",
       "\n",
       "[5 rows x 59 columns]"
      ]
     },
     "execution_count": 5,
     "metadata": {},
     "output_type": "execute_result"
    }
   ],
   "source": [
    "#Head or printout of the first 5 records\n",
    "cust_df.head(5)\n",
    "cust_df.tail(5)"
   ]
  },
  {
   "cell_type": "code",
   "execution_count": 6,
   "metadata": {},
   "outputs": [
    {
     "data": {
      "text/html": [
       "<div>\n",
       "<style scoped>\n",
       "    .dataframe tbody tr th:only-of-type {\n",
       "        vertical-align: middle;\n",
       "    }\n",
       "\n",
       "    .dataframe tbody tr th {\n",
       "        vertical-align: top;\n",
       "    }\n",
       "\n",
       "    .dataframe thead th {\n",
       "        text-align: right;\n",
       "    }\n",
       "</style>\n",
       "<table border=\"1\" class=\"dataframe\">\n",
       "  <thead>\n",
       "    <tr style=\"text-align: right;\">\n",
       "      <th></th>\n",
       "      <th>CustomerID</th>\n",
       "      <th>Region</th>\n",
       "      <th>TownSize</th>\n",
       "      <th>Gender</th>\n",
       "      <th>Age</th>\n",
       "      <th>EducationYears</th>\n",
       "      <th>JobCategory</th>\n",
       "      <th>UnionMember</th>\n",
       "      <th>EmploymentLength</th>\n",
       "      <th>Retired</th>\n",
       "      <th>...</th>\n",
       "      <th>CallWait</th>\n",
       "      <th>CallForward</th>\n",
       "      <th>ThreeWayCalling</th>\n",
       "      <th>EBilling</th>\n",
       "      <th>TVWatchingHours</th>\n",
       "      <th>OwnsPC</th>\n",
       "      <th>OwnsMobileDevice</th>\n",
       "      <th>OwnsGameSystem</th>\n",
       "      <th>OwnsFax</th>\n",
       "      <th>NewsSubscriber</th>\n",
       "    </tr>\n",
       "  </thead>\n",
       "  <tbody>\n",
       "    <tr>\n",
       "      <th>4995</th>\n",
       "      <td>3675-GZFGOT-QJN</td>\n",
       "      <td>2</td>\n",
       "      <td>2</td>\n",
       "      <td>Male</td>\n",
       "      <td>68</td>\n",
       "      <td>10</td>\n",
       "      <td>Professional</td>\n",
       "      <td>No</td>\n",
       "      <td>24</td>\n",
       "      <td>No</td>\n",
       "      <td>...</td>\n",
       "      <td>No</td>\n",
       "      <td>No</td>\n",
       "      <td>No</td>\n",
       "      <td>No</td>\n",
       "      <td>19</td>\n",
       "      <td>No</td>\n",
       "      <td>No</td>\n",
       "      <td>No</td>\n",
       "      <td>No</td>\n",
       "      <td>Yes</td>\n",
       "    </tr>\n",
       "    <tr>\n",
       "      <th>4996</th>\n",
       "      <td>4699-LEPCCE-3UD</td>\n",
       "      <td>3</td>\n",
       "      <td>3</td>\n",
       "      <td>Male</td>\n",
       "      <td>51</td>\n",
       "      <td>14</td>\n",
       "      <td>Professional</td>\n",
       "      <td>No</td>\n",
       "      <td>6</td>\n",
       "      <td>No</td>\n",
       "      <td>...</td>\n",
       "      <td>Yes</td>\n",
       "      <td>Yes</td>\n",
       "      <td>Yes</td>\n",
       "      <td>No</td>\n",
       "      <td>14</td>\n",
       "      <td>No</td>\n",
       "      <td>No</td>\n",
       "      <td>No</td>\n",
       "      <td>No</td>\n",
       "      <td>No</td>\n",
       "    </tr>\n",
       "    <tr>\n",
       "      <th>4997</th>\n",
       "      <td>8485-LLUICH-CVV</td>\n",
       "      <td>4</td>\n",
       "      <td>5</td>\n",
       "      <td>Male</td>\n",
       "      <td>75</td>\n",
       "      <td>17</td>\n",
       "      <td>Professional</td>\n",
       "      <td>No</td>\n",
       "      <td>24</td>\n",
       "      <td>No</td>\n",
       "      <td>...</td>\n",
       "      <td>Yes</td>\n",
       "      <td>Yes</td>\n",
       "      <td>Yes</td>\n",
       "      <td>No</td>\n",
       "      <td>16</td>\n",
       "      <td>No</td>\n",
       "      <td>No</td>\n",
       "      <td>No</td>\n",
       "      <td>No</td>\n",
       "      <td>Yes</td>\n",
       "    </tr>\n",
       "    <tr>\n",
       "      <th>4998</th>\n",
       "      <td>9325-URAAUT-7FA</td>\n",
       "      <td>1</td>\n",
       "      <td>1</td>\n",
       "      <td>Male</td>\n",
       "      <td>47</td>\n",
       "      <td>19</td>\n",
       "      <td>Sales</td>\n",
       "      <td>No</td>\n",
       "      <td>3</td>\n",
       "      <td>No</td>\n",
       "      <td>...</td>\n",
       "      <td>No</td>\n",
       "      <td>No</td>\n",
       "      <td>No</td>\n",
       "      <td>Yes</td>\n",
       "      <td>24</td>\n",
       "      <td>Yes</td>\n",
       "      <td>Yes</td>\n",
       "      <td>Yes</td>\n",
       "      <td>No</td>\n",
       "      <td>Yes</td>\n",
       "    </tr>\n",
       "    <tr>\n",
       "      <th>4999</th>\n",
       "      <td>8027-EXDZBF-OGR</td>\n",
       "      <td>3</td>\n",
       "      <td>5</td>\n",
       "      <td>Female</td>\n",
       "      <td>41</td>\n",
       "      <td>10</td>\n",
       "      <td>Crafts</td>\n",
       "      <td>No</td>\n",
       "      <td>20</td>\n",
       "      <td>No</td>\n",
       "      <td>...</td>\n",
       "      <td>No</td>\n",
       "      <td>No</td>\n",
       "      <td>No</td>\n",
       "      <td>No</td>\n",
       "      <td>19</td>\n",
       "      <td>No</td>\n",
       "      <td>No</td>\n",
       "      <td>No</td>\n",
       "      <td>No</td>\n",
       "      <td>No</td>\n",
       "    </tr>\n",
       "  </tbody>\n",
       "</table>\n",
       "<p>5 rows × 59 columns</p>\n",
       "</div>"
      ],
      "text/plain": [
       "           CustomerID  Region TownSize  Gender  Age  EducationYears  \\\n",
       "4995  3675-GZFGOT-QJN       2        2    Male   68              10   \n",
       "4996  4699-LEPCCE-3UD       3        3    Male   51              14   \n",
       "4997  8485-LLUICH-CVV       4        5    Male   75              17   \n",
       "4998  9325-URAAUT-7FA       1        1    Male   47              19   \n",
       "4999  8027-EXDZBF-OGR       3        5  Female   41              10   \n",
       "\n",
       "       JobCategory UnionMember  EmploymentLength Retired  ... CallWait  \\\n",
       "4995  Professional          No                24      No  ...       No   \n",
       "4996  Professional          No                 6      No  ...      Yes   \n",
       "4997  Professional          No                24      No  ...      Yes   \n",
       "4998         Sales          No                 3      No  ...       No   \n",
       "4999        Crafts          No                20      No  ...       No   \n",
       "\n",
       "      CallForward  ThreeWayCalling  EBilling TVWatchingHours OwnsPC  \\\n",
       "4995           No               No        No              19     No   \n",
       "4996          Yes              Yes        No              14     No   \n",
       "4997          Yes              Yes        No              16     No   \n",
       "4998           No               No       Yes              24    Yes   \n",
       "4999           No               No        No              19     No   \n",
       "\n",
       "      OwnsMobileDevice  OwnsGameSystem  OwnsFax  NewsSubscriber  \n",
       "4995                No              No       No             Yes  \n",
       "4996                No              No       No              No  \n",
       "4997                No              No       No             Yes  \n",
       "4998               Yes             Yes       No             Yes  \n",
       "4999                No              No       No              No  \n",
       "\n",
       "[5 rows x 59 columns]"
      ]
     },
     "execution_count": 6,
     "metadata": {},
     "output_type": "execute_result"
    }
   ],
   "source": [
    "#Tail or printout of the last 5 records\n",
    "cust_df.tail(5)"
   ]
  },
  {
   "cell_type": "code",
   "execution_count": 7,
   "metadata": {},
   "outputs": [
    {
     "data": {
      "text/plain": [
       "CustomerID              object\n",
       "Region                   int64\n",
       "TownSize                object\n",
       "Gender                  object\n",
       "Age                      int64\n",
       "EducationYears           int64\n",
       "JobCategory             object\n",
       "UnionMember             object\n",
       "EmploymentLength         int64\n",
       "Retired                 object\n",
       "HHIncome                object\n",
       "DebtToIncomeRatio      float64\n",
       "CreditDebt             float64\n",
       "OtherDebt              float64\n",
       "LoanDefault             object\n",
       "MaritalStatus           object\n",
       "HouseholdSize          float64\n",
       "NumberPets             float64\n",
       "NumberCats             float64\n",
       "NumberDogs             float64\n",
       "NumberBirds            float64\n",
       "HomeOwner              float64\n",
       "CarsOwned                int64\n",
       "CarOwnership            object\n",
       "CarBrand                object\n",
       "CarValue                object\n",
       "CommuteTime             object\n",
       "PoliticalPartyMem       object\n",
       "Votes                   object\n",
       "CreditCard              object\n",
       "CardTenure               int64\n",
       "CardItemsMonthly         int64\n",
       "CardSpendMonth          object\n",
       "ActiveLifestyle         object\n",
       "PhoneCoTenure            int64\n",
       "VoiceLastMonth          object\n",
       "VoiceOverTenure         object\n",
       "EquipmentRental         object\n",
       "EquipmentLastMonth      object\n",
       "EquipmentOverTenure     object\n",
       "CallingCard             object\n",
       "WirelessData            object\n",
       "DataLastMonth           object\n",
       "DataOverTenure          object\n",
       "Multiline               object\n",
       "VM                      object\n",
       "Pager                   object\n",
       "Internet                object\n",
       "CallerID                object\n",
       "CallWait                object\n",
       "CallForward             object\n",
       "ThreeWayCalling         object\n",
       "EBilling                object\n",
       "TVWatchingHours          int64\n",
       "OwnsPC                  object\n",
       "OwnsMobileDevice        object\n",
       "OwnsGameSystem          object\n",
       "OwnsFax                 object\n",
       "NewsSubscriber          object\n",
       "dtype: object"
      ]
     },
     "execution_count": 7,
     "metadata": {},
     "output_type": "execute_result"
    }
   ],
   "source": [
    "#Checking customer data types\n",
    "cust_df.dtypes"
   ]
  },
  {
   "cell_type": "code",
   "execution_count": 8,
   "metadata": {},
   "outputs": [
    {
     "data": {
      "text/plain": [
       "(5000, 59)"
      ]
     },
     "execution_count": 8,
     "metadata": {},
     "output_type": "execute_result"
    },
    {
     "name": "stdout",
     "output_type": "stream",
     "text": [
      "There are 5000 rows and 59 columns in the customer dataframe\n"
     ]
    }
   ],
   "source": [
    "#Dimensions of the data and investigate if there are any duplicate rows\n",
    "cust_df.shape\n",
    "print(f'There are {cust_df.shape[0]} rows and {cust_df.shape[1]} columns in the customer dataframe')"
   ]
  },
  {
   "cell_type": "code",
   "execution_count": 9,
   "metadata": {},
   "outputs": [
    {
     "name": "stdout",
     "output_type": "stream",
     "text": [
      "number of duplicate rows: (0, 59)\n",
      "There are 0 number of duplicate rows\n"
     ]
    },
    {
     "data": {
      "text/plain": [
       "(0, 59)"
      ]
     },
     "execution_count": 9,
     "metadata": {},
     "output_type": "execute_result"
    }
   ],
   "source": [
    "#Rows containing duplicate data\n",
    "duplicate_rows_cust_df = cust_df[cust_df.duplicated()]\n",
    "print('number of duplicate rows:', duplicate_rows_cust_df.shape)\n",
    "print(f'There are {len(duplicate_rows_cust_df)} number of duplicate rows')\n",
    "duplicate_rows_cust_df.shape"
   ]
  },
  {
   "cell_type": "code",
   "execution_count": 10,
   "metadata": {
    "scrolled": true
   },
   "outputs": [
    {
     "data": {
      "text/plain": [
       "CustomerID             5000\n",
       "Region                 5000\n",
       "TownSize               5000\n",
       "Gender                 4967\n",
       "Age                    5000\n",
       "EducationYears         5000\n",
       "JobCategory            4985\n",
       "UnionMember            5000\n",
       "EmploymentLength       5000\n",
       "Retired                5000\n",
       "HHIncome               5000\n",
       "DebtToIncomeRatio      5000\n",
       "CreditDebt             5000\n",
       "OtherDebt              5000\n",
       "LoanDefault            5000\n",
       "MaritalStatus          5000\n",
       "HouseholdSize          4992\n",
       "NumberPets             4994\n",
       "NumberCats             4993\n",
       "NumberDogs             4992\n",
       "NumberBirds            4966\n",
       "HomeOwner              4987\n",
       "CarsOwned              5000\n",
       "CarOwnership           5000\n",
       "CarBrand               5000\n",
       "CarValue               5000\n",
       "CommuteTime            5000\n",
       "PoliticalPartyMem      5000\n",
       "Votes                  5000\n",
       "CreditCard             5000\n",
       "CardTenure             5000\n",
       "CardItemsMonthly       5000\n",
       "CardSpendMonth         5000\n",
       "ActiveLifestyle        5000\n",
       "PhoneCoTenure          5000\n",
       "VoiceLastMonth         5000\n",
       "VoiceOverTenure        5000\n",
       "EquipmentRental        5000\n",
       "EquipmentLastMonth     5000\n",
       "EquipmentOverTenure    5000\n",
       "CallingCard            5000\n",
       "WirelessData           5000\n",
       "DataLastMonth          5000\n",
       "DataOverTenure         5000\n",
       "Multiline              5000\n",
       "VM                     5000\n",
       "Pager                  5000\n",
       "Internet               5000\n",
       "CallerID               5000\n",
       "CallWait               5000\n",
       "CallForward            5000\n",
       "ThreeWayCalling        5000\n",
       "EBilling               5000\n",
       "TVWatchingHours        5000\n",
       "OwnsPC                 5000\n",
       "OwnsMobileDevice       5000\n",
       "OwnsGameSystem         5000\n",
       "OwnsFax                5000\n",
       "NewsSubscriber         5000\n",
       "dtype: int64"
      ]
     },
     "execution_count": 10,
     "metadata": {},
     "output_type": "execute_result"
    }
   ],
   "source": [
    "# Used to count the number of rows before any data manipulation\n",
    "cust_df.count() "
   ]
  },
  {
   "cell_type": "code",
   "execution_count": 11,
   "metadata": {},
   "outputs": [],
   "source": [
    "# Dropping the duplicates - not relevant here\n",
    "cust_df = cust_df.drop_duplicates()"
   ]
  },
  {
   "cell_type": "code",
   "execution_count": 12,
   "metadata": {
    "scrolled": true
   },
   "outputs": [
    {
     "name": "stdout",
     "output_type": "stream",
     "text": [
      "CustomerID              0\n",
      "Region                  0\n",
      "TownSize                0\n",
      "Gender                 33\n",
      "Age                     0\n",
      "EducationYears          0\n",
      "JobCategory            15\n",
      "UnionMember             0\n",
      "EmploymentLength        0\n",
      "Retired                 0\n",
      "HHIncome                0\n",
      "DebtToIncomeRatio       0\n",
      "CreditDebt              0\n",
      "OtherDebt               0\n",
      "LoanDefault             0\n",
      "MaritalStatus           0\n",
      "HouseholdSize           8\n",
      "NumberPets              6\n",
      "NumberCats              7\n",
      "NumberDogs              8\n",
      "NumberBirds            34\n",
      "HomeOwner              13\n",
      "CarsOwned               0\n",
      "CarOwnership            0\n",
      "CarBrand                0\n",
      "CarValue                0\n",
      "CommuteTime             0\n",
      "PoliticalPartyMem       0\n",
      "Votes                   0\n",
      "CreditCard              0\n",
      "CardTenure              0\n",
      "CardItemsMonthly        0\n",
      "CardSpendMonth          0\n",
      "ActiveLifestyle         0\n",
      "PhoneCoTenure           0\n",
      "VoiceLastMonth          0\n",
      "VoiceOverTenure         0\n",
      "EquipmentRental         0\n",
      "EquipmentLastMonth      0\n",
      "EquipmentOverTenure     0\n",
      "CallingCard             0\n",
      "WirelessData            0\n",
      "DataLastMonth           0\n",
      "DataOverTenure          0\n",
      "Multiline               0\n",
      "VM                      0\n",
      "Pager                   0\n",
      "Internet                0\n",
      "CallerID                0\n",
      "CallWait                0\n",
      "CallForward             0\n",
      "ThreeWayCalling         0\n",
      "EBilling                0\n",
      "TVWatchingHours         0\n",
      "OwnsPC                  0\n",
      "OwnsMobileDevice        0\n",
      "OwnsGameSystem          0\n",
      "OwnsFax                 0\n",
      "NewsSubscriber          0\n",
      "dtype: int64\n"
     ]
    }
   ],
   "source": [
    "# Finding the null values for each column\n",
    "print(cust_df.isnull().sum())"
   ]
  },
  {
   "cell_type": "code",
   "execution_count": 13,
   "metadata": {},
   "outputs": [
    {
     "name": "stdout",
     "output_type": "stream",
     "text": [
      "CustomerID              0\n",
      "Region                  0\n",
      "TownSize                0\n",
      "Gender                 33\n",
      "Age                     0\n",
      "EducationYears          0\n",
      "JobCategory            15\n",
      "UnionMember             0\n",
      "EmploymentLength        0\n",
      "Retired                 0\n",
      "HHIncome                0\n",
      "DebtToIncomeRatio       0\n",
      "CreditDebt              0\n",
      "OtherDebt               0\n",
      "LoanDefault             0\n",
      "MaritalStatus           0\n",
      "HouseholdSize           8\n",
      "NumberPets              6\n",
      "NumberCats              7\n",
      "NumberDogs              8\n",
      "NumberBirds            34\n",
      "HomeOwner              13\n",
      "CarsOwned               0\n",
      "CarOwnership            0\n",
      "CarBrand                0\n",
      "CarValue                0\n",
      "CommuteTime             0\n",
      "PoliticalPartyMem       0\n",
      "Votes                   0\n",
      "CreditCard              0\n",
      "CardTenure              0\n",
      "CardItemsMonthly        0\n",
      "CardSpendMonth          0\n",
      "ActiveLifestyle         0\n",
      "PhoneCoTenure           0\n",
      "VoiceLastMonth          0\n",
      "VoiceOverTenure         0\n",
      "EquipmentRental         0\n",
      "EquipmentLastMonth      0\n",
      "EquipmentOverTenure     0\n",
      "CallingCard             0\n",
      "WirelessData            0\n",
      "DataLastMonth           0\n",
      "DataOverTenure          0\n",
      "Multiline               0\n",
      "VM                      0\n",
      "Pager                   0\n",
      "Internet                0\n",
      "CallerID                0\n",
      "CallWait                0\n",
      "CallForward             0\n",
      "ThreeWayCalling         0\n",
      "EBilling                0\n",
      "TVWatchingHours         0\n",
      "OwnsPC                  0\n",
      "OwnsMobileDevice        0\n",
      "OwnsGameSystem          0\n",
      "OwnsFax                 0\n",
      "NewsSubscriber          0\n",
      "dtype: int64\n"
     ]
    }
   ],
   "source": [
    "def num_missing(x):\n",
    "  return sum(x.isnull())\n",
    "#Applying per column:\n",
    "print(cust_df.apply(num_missing, axis=0))"
   ]
  },
  {
   "cell_type": "code",
   "execution_count": 14,
   "metadata": {},
   "outputs": [],
   "source": [
    "# Dropping the missing values. Not relevant here\n",
    "# cust_df = cust_df.dropna() \n",
    "# cust_df.count()"
   ]
  },
  {
   "cell_type": "code",
   "execution_count": 15,
   "metadata": {},
   "outputs": [
    {
     "data": {
      "text/plain": [
       "<AxesSubplot:xlabel='Age'>"
      ]
     },
     "execution_count": 15,
     "metadata": {},
     "output_type": "execute_result"
    },
    {
     "data": {
      "image/png": "[encoded data removed]",
      "text/plain": [
       "<Figure size 432x288 with 1 Axes>"
      ]
     },
     "metadata": {},
     "output_type": "display_data"
    }
   ],
   "source": [
    "sns.boxplot(x = cust_df['Age'])"
   ]
  },
  {
   "cell_type": "code",
   "execution_count": 16,
   "metadata": {},
   "outputs": [
    {
     "data": {
      "text/html": [
       "<div>\n",
       "<style scoped>\n",
       "    .dataframe tbody tr th:only-of-type {\n",
       "        vertical-align: middle;\n",
       "    }\n",
       "\n",
       "    .dataframe tbody tr th {\n",
       "        vertical-align: top;\n",
       "    }\n",
       "\n",
       "    .dataframe thead th {\n",
       "        text-align: right;\n",
       "    }\n",
       "</style>\n",
       "<table border=\"1\" class=\"dataframe\">\n",
       "  <thead>\n",
       "    <tr style=\"text-align: right;\">\n",
       "      <th></th>\n",
       "      <th>count</th>\n",
       "      <th>mean</th>\n",
       "      <th>std</th>\n",
       "      <th>min</th>\n",
       "      <th>25%</th>\n",
       "      <th>50%</th>\n",
       "      <th>75%</th>\n",
       "      <th>max</th>\n",
       "    </tr>\n",
       "  </thead>\n",
       "  <tbody>\n",
       "    <tr>\n",
       "      <th>Region</th>\n",
       "      <td>5000.0</td>\n",
       "      <td>3.00140</td>\n",
       "      <td>1.421760</td>\n",
       "      <td>1.0</td>\n",
       "      <td>2.0</td>\n",
       "      <td>3.0</td>\n",
       "      <td>4.0</td>\n",
       "      <td>5.0</td>\n",
       "    </tr>\n",
       "    <tr>\n",
       "      <th>Age</th>\n",
       "      <td>5000.0</td>\n",
       "      <td>47.02560</td>\n",
       "      <td>17.770338</td>\n",
       "      <td>18.0</td>\n",
       "      <td>31.0</td>\n",
       "      <td>47.0</td>\n",
       "      <td>62.0</td>\n",
       "      <td>79.0</td>\n",
       "    </tr>\n",
       "    <tr>\n",
       "      <th>EducationYears</th>\n",
       "      <td>5000.0</td>\n",
       "      <td>14.54300</td>\n",
       "      <td>3.281083</td>\n",
       "      <td>6.0</td>\n",
       "      <td>12.0</td>\n",
       "      <td>14.0</td>\n",
       "      <td>17.0</td>\n",
       "      <td>23.0</td>\n",
       "    </tr>\n",
       "    <tr>\n",
       "      <th>EmploymentLength</th>\n",
       "      <td>5000.0</td>\n",
       "      <td>9.73040</td>\n",
       "      <td>9.690929</td>\n",
       "      <td>0.0</td>\n",
       "      <td>2.0</td>\n",
       "      <td>7.0</td>\n",
       "      <td>15.0</td>\n",
       "      <td>52.0</td>\n",
       "    </tr>\n",
       "    <tr>\n",
       "      <th>DebtToIncomeRatio</th>\n",
       "      <td>5000.0</td>\n",
       "      <td>9.95416</td>\n",
       "      <td>6.399783</td>\n",
       "      <td>0.0</td>\n",
       "      <td>5.1</td>\n",
       "      <td>8.8</td>\n",
       "      <td>13.6</td>\n",
       "      <td>43.1</td>\n",
       "    </tr>\n",
       "  </tbody>\n",
       "</table>\n",
       "</div>"
      ],
      "text/plain": [
       "                    count      mean        std   min   25%   50%   75%   max\n",
       "Region             5000.0   3.00140   1.421760   1.0   2.0   3.0   4.0   5.0\n",
       "Age                5000.0  47.02560  17.770338  18.0  31.0  47.0  62.0  79.0\n",
       "EducationYears     5000.0  14.54300   3.281083   6.0  12.0  14.0  17.0  23.0\n",
       "EmploymentLength   5000.0   9.73040   9.690929   0.0   2.0   7.0  15.0  52.0\n",
       "DebtToIncomeRatio  5000.0   9.95416   6.399783   0.0   5.1   8.8  13.6  43.1"
      ]
     },
     "execution_count": 16,
     "metadata": {},
     "output_type": "execute_result"
    }
   ],
   "source": [
    "#Calculate summary statistics\n",
    "summary = cust_df.describe()\n",
    "summary = summary.transpose()\n",
    "summary.head()"
   ]
  },
  {
   "cell_type": "code",
   "execution_count": 17,
   "metadata": {},
   "outputs": [
    {
     "name": "stdout",
     "output_type": "stream",
     "text": [
      "<class 'pandas.core.frame.DataFrame'>\n",
      "Int64Index: 5000 entries, 0 to 4999\n",
      "Data columns (total 59 columns):\n",
      " #   Column               Non-Null Count  Dtype  \n",
      "---  ------               --------------  -----  \n",
      " 0   CustomerID           5000 non-null   object \n",
      " 1   Region               5000 non-null   int64  \n",
      " 2   TownSize             5000 non-null   object \n",
      " 3   Gender               4967 non-null   object \n",
      " 4   Age                  5000 non-null   int64  \n",
      " 5   EducationYears       5000 non-null   int64  \n",
      " 6   JobCategory          4985 non-null   object \n",
      " 7   UnionMember          5000 non-null   object \n",
      " 8   EmploymentLength     5000 non-null   int64  \n",
      " 9   Retired              5000 non-null   object \n",
      " 10  HHIncome             5000 non-null   object \n",
      " 11  DebtToIncomeRatio    5000 non-null   float64\n",
      " 12  CreditDebt           5000 non-null   float64\n",
      " 13  OtherDebt            5000 non-null   float64\n",
      " 14  LoanDefault          5000 non-null   object \n",
      " 15  MaritalStatus        5000 non-null   object \n",
      " 16  HouseholdSize        4992 non-null   float64\n",
      " 17  NumberPets           4994 non-null   float64\n",
      " 18  NumberCats           4993 non-null   float64\n",
      " 19  NumberDogs           4992 non-null   float64\n",
      " 20  NumberBirds          4966 non-null   float64\n",
      " 21  HomeOwner            4987 non-null   float64\n",
      " 22  CarsOwned            5000 non-null   int64  \n",
      " 23  CarOwnership         5000 non-null   object \n",
      " 24  CarBrand             5000 non-null   object \n",
      " 25  CarValue             5000 non-null   object \n",
      " 26  CommuteTime          5000 non-null   object \n",
      " 27  PoliticalPartyMem    5000 non-null   object \n",
      " 28  Votes                5000 non-null   object \n",
      " 29  CreditCard           5000 non-null   object \n",
      " 30  CardTenure           5000 non-null   int64  \n",
      " 31  CardItemsMonthly     5000 non-null   int64  \n",
      " 32  CardSpendMonth       5000 non-null   object \n",
      " 33  ActiveLifestyle      5000 non-null   object \n",
      " 34  PhoneCoTenure        5000 non-null   int64  \n",
      " 35  VoiceLastMonth       5000 non-null   object \n",
      " 36  VoiceOverTenure      5000 non-null   object \n",
      " 37  EquipmentRental      5000 non-null   object \n",
      " 38  EquipmentLastMonth   5000 non-null   object \n",
      " 39  EquipmentOverTenure  5000 non-null   object \n",
      " 40  CallingCard          5000 non-null   object \n",
      " 41  WirelessData         5000 non-null   object \n",
      " 42  DataLastMonth        5000 non-null   object \n",
      " 43  DataOverTenure       5000 non-null   object \n",
      " 44  Multiline            5000 non-null   object \n",
      " 45  VM                   5000 non-null   object \n",
      " 46  Pager                5000 non-null   object \n",
      " 47  Internet             5000 non-null   object \n",
      " 48  CallerID             5000 non-null   object \n",
      " 49  CallWait             5000 non-null   object \n",
      " 50  CallForward          5000 non-null   object \n",
      " 51  ThreeWayCalling      5000 non-null   object \n",
      " 52  EBilling             5000 non-null   object \n",
      " 53  TVWatchingHours      5000 non-null   int64  \n",
      " 54  OwnsPC               5000 non-null   object \n",
      " 55  OwnsMobileDevice     5000 non-null   object \n",
      " 56  OwnsGameSystem       5000 non-null   object \n",
      " 57  OwnsFax              5000 non-null   object \n",
      " 58  NewsSubscriber       5000 non-null   object \n",
      "dtypes: float64(9), int64(9), object(41)\n",
      "memory usage: 2.3+ MB\n"
     ]
    }
   ],
   "source": [
    "#Another way to get meta data for each variable in your dataset\n",
    "cust_df.info() "
   ]
  },
  {
   "cell_type": "code",
   "execution_count": 18,
   "metadata": {
    "scrolled": true
   },
   "outputs": [
    {
     "data": {
      "text/html": [
       "<div>\n",
       "<style scoped>\n",
       "    .dataframe tbody tr th:only-of-type {\n",
       "        vertical-align: middle;\n",
       "    }\n",
       "\n",
       "    .dataframe tbody tr th {\n",
       "        vertical-align: top;\n",
       "    }\n",
       "\n",
       "    .dataframe thead th {\n",
       "        text-align: right;\n",
       "    }\n",
       "</style>\n",
       "<table border=\"1\" class=\"dataframe\">\n",
       "  <thead>\n",
       "    <tr style=\"text-align: right;\">\n",
       "      <th></th>\n",
       "      <th>count</th>\n",
       "      <th>unique</th>\n",
       "      <th>top</th>\n",
       "      <th>freq</th>\n",
       "    </tr>\n",
       "  </thead>\n",
       "  <tbody>\n",
       "    <tr>\n",
       "      <th>CustomerID</th>\n",
       "      <td>5000</td>\n",
       "      <td>5000</td>\n",
       "      <td>3877-LGSNNT-CP6</td>\n",
       "      <td>1</td>\n",
       "    </tr>\n",
       "    <tr>\n",
       "      <th>TownSize</th>\n",
       "      <td>5000</td>\n",
       "      <td>6</td>\n",
       "      <td>1</td>\n",
       "      <td>1436</td>\n",
       "    </tr>\n",
       "    <tr>\n",
       "      <th>Gender</th>\n",
       "      <td>4967</td>\n",
       "      <td>2</td>\n",
       "      <td>Female</td>\n",
       "      <td>2494</td>\n",
       "    </tr>\n",
       "    <tr>\n",
       "      <th>JobCategory</th>\n",
       "      <td>4985</td>\n",
       "      <td>6</td>\n",
       "      <td>Sales</td>\n",
       "      <td>1635</td>\n",
       "    </tr>\n",
       "    <tr>\n",
       "      <th>UnionMember</th>\n",
       "      <td>5000</td>\n",
       "      <td>2</td>\n",
       "      <td>No</td>\n",
       "      <td>4244</td>\n",
       "    </tr>\n",
       "  </tbody>\n",
       "</table>\n",
       "</div>"
      ],
      "text/plain": [
       "            count unique              top  freq\n",
       "CustomerID   5000   5000  3877-LGSNNT-CP6     1\n",
       "TownSize     5000      6                1  1436\n",
       "Gender       4967      2           Female  2494\n",
       "JobCategory  4985      6            Sales  1635\n",
       "UnionMember  5000      2               No  4244"
      ]
     },
     "execution_count": 18,
     "metadata": {},
     "output_type": "execute_result"
    },
    {
     "name": "stdout",
     "output_type": "stream",
     "text": [
      "             CustomerID      Region TownSize  Gender          Age  \\\n",
      "count              5000  5000.00000     5000    4967  5000.000000   \n",
      "unique             5000         NaN        6       2          NaN   \n",
      "top     3877-LGSNNT-CP6         NaN        1  Female          NaN   \n",
      "freq                  1         NaN     1436    2494          NaN   \n",
      "mean                NaN     3.00140      NaN     NaN    47.025600   \n",
      "std                 NaN     1.42176      NaN     NaN    17.770338   \n",
      "min                 NaN     1.00000      NaN     NaN    18.000000   \n",
      "25%                 NaN     2.00000      NaN     NaN    31.000000   \n",
      "50%                 NaN     3.00000      NaN     NaN    47.000000   \n",
      "75%                 NaN     4.00000      NaN     NaN    62.000000   \n",
      "max                 NaN     5.00000      NaN     NaN    79.000000   \n",
      "\n",
      "        EducationYears JobCategory UnionMember  EmploymentLength Retired  ...  \\\n",
      "count      5000.000000        4985        5000       5000.000000    5000  ...   \n",
      "unique             NaN           6           2               NaN       2  ...   \n",
      "top                NaN       Sales          No               NaN      No  ...   \n",
      "freq               NaN        1635        4244               NaN    4262  ...   \n",
      "mean         14.543000         NaN         NaN          9.730400     NaN  ...   \n",
      "std           3.281083         NaN         NaN          9.690929     NaN  ...   \n",
      "min           6.000000         NaN         NaN          0.000000     NaN  ...   \n",
      "25%          12.000000         NaN         NaN          2.000000     NaN  ...   \n",
      "50%          14.000000         NaN         NaN          7.000000     NaN  ...   \n",
      "75%          17.000000         NaN         NaN         15.000000     NaN  ...   \n",
      "max          23.000000         NaN         NaN         52.000000     NaN  ...   \n",
      "\n",
      "       CallWait  CallForward  ThreeWayCalling  EBilling TVWatchingHours  \\\n",
      "count      5000         5000             5000      5000     5000.000000   \n",
      "unique        2            2                2         2             NaN   \n",
      "top          No           No               No        No             NaN   \n",
      "freq       2605         2597             2610      3257             NaN   \n",
      "mean        NaN          NaN              NaN       NaN       19.645000   \n",
      "std         NaN          NaN              NaN       NaN        5.165609   \n",
      "min         NaN          NaN              NaN       NaN        0.000000   \n",
      "25%         NaN          NaN              NaN       NaN       17.000000   \n",
      "50%         NaN          NaN              NaN       NaN       20.000000   \n",
      "75%         NaN          NaN              NaN       NaN       23.000000   \n",
      "max         NaN          NaN              NaN       NaN       36.000000   \n",
      "\n",
      "       OwnsPC  OwnsMobileDevice  OwnsGameSystem  OwnsFax  NewsSubscriber  \n",
      "count    5000              5000            5000     5000            5000  \n",
      "unique      2                 2               2        2               2  \n",
      "top       Yes                No              No       No              No  \n",
      "freq     3164              2604            2626     4106            2637  \n",
      "mean      NaN               NaN             NaN      NaN             NaN  \n",
      "std       NaN               NaN             NaN      NaN             NaN  \n",
      "min       NaN               NaN             NaN      NaN             NaN  \n",
      "25%       NaN               NaN             NaN      NaN             NaN  \n",
      "50%       NaN               NaN             NaN      NaN             NaN  \n",
      "75%       NaN               NaN             NaN      NaN             NaN  \n",
      "max       NaN               NaN             NaN      NaN             NaN  \n",
      "\n",
      "[11 rows x 59 columns]\n"
     ]
    }
   ],
   "source": [
    "#Calculate summary statistics\n",
    "summary = cust_df.describe(include=['object'])\n",
    "summary = summary.transpose()\n",
    "summary.head()\n",
    "print(cust_df.describe(include='all'))"
   ]
  },
  {
   "cell_type": "code",
   "execution_count": 19,
   "metadata": {
    "scrolled": true
   },
   "outputs": [],
   "source": [
    "#conda install -c conda-forge pandas-profiling -- use this code snippet on your command line to install pandas-profiling \n",
    "#pandas_profiling provides a comprehensive report on the variables and various statistics around it.\n",
    "#It can be fairly overwhelming but is very useful\n",
    "#Do not use with large datasets\n",
    "#pandas_profiling.ProfileReport(cust_df).to_file(\"report.html\")"
   ]
  },
  {
   "cell_type": "code",
   "execution_count": 20,
   "metadata": {},
   "outputs": [
    {
     "data": {
      "text/plain": [
       "33"
      ]
     },
     "execution_count": 20,
     "metadata": {},
     "output_type": "execute_result"
    }
   ],
   "source": [
    "#How many missing values does Gender have?\n",
    "cust_df['Gender'].isnull().sum()"
   ]
  },
  {
   "cell_type": "code",
   "execution_count": 21,
   "metadata": {},
   "outputs": [
    {
     "data": {
      "text/plain": [
       "33"
      ]
     },
     "execution_count": 21,
     "metadata": {},
     "output_type": "execute_result"
    }
   ],
   "source": [
    "#Another approach to answer the question of \"How many missing values does Gender have?\"\n",
    "cust_df.Gender.isnull().sum()"
   ]
  },
  {
   "cell_type": "code",
   "execution_count": 22,
   "metadata": {},
   "outputs": [
    {
     "data": {
      "text/plain": [
       "dtype('O')"
      ]
     },
     "execution_count": 22,
     "metadata": {},
     "output_type": "execute_result"
    }
   ],
   "source": [
    "#What is the datatype object for Gender. It is defined as a object or a string\n",
    "cust_df['Gender'].dtype"
   ]
  },
  {
   "cell_type": "code",
   "execution_count": 23,
   "metadata": {},
   "outputs": [
    {
     "name": "stdout",
     "output_type": "stream",
     "text": [
      "\\Before imputation for missing values:\n",
      "1.0    2032\n",
      "2.0    1466\n",
      "3.0     552\n",
      "4.0     520\n",
      "5.0     287\n",
      "6.0      97\n",
      "7.0      29\n",
      "8.0       7\n",
      "9.0       2\n",
      "Name: HouseholdSize, dtype: int64\n"
     ]
    }
   ],
   "source": [
    "#Frequency distribution of Gender before imputation of missing values\n",
    "counts_HHSize = cust_df['HouseholdSize'].value_counts()\n",
    "print (\"\\Before imputation for missing values:\")\n",
    "print (counts_HHSize)"
   ]
  },
  {
   "cell_type": "code",
   "execution_count": 24,
   "metadata": {},
   "outputs": [
    {
     "data": {
      "text/plain": [
       "8"
      ]
     },
     "execution_count": 24,
     "metadata": {},
     "output_type": "execute_result"
    }
   ],
   "source": [
    "cust_df['HouseholdSize'].isnull().sum()"
   ]
  },
  {
   "cell_type": "code",
   "execution_count": 25,
   "metadata": {},
   "outputs": [
    {
     "data": {
      "text/plain": [
       "ModeResult(mode=array([1.]), count=array([2032]))"
      ]
     },
     "execution_count": 25,
     "metadata": {},
     "output_type": "execute_result"
    }
   ],
   "source": [
    "mode(cust_df['HouseholdSize'])"
   ]
  },
  {
   "cell_type": "code",
   "execution_count": 26,
   "metadata": {},
   "outputs": [
    {
     "data": {
      "text/plain": [
       "0"
      ]
     },
     "execution_count": 26,
     "metadata": {},
     "output_type": "execute_result"
    }
   ],
   "source": [
    "#Replace missing character values with the mode of the distribution \n",
    "#cust_df['HouseholdSize'].fillna(mode(cust_df['HouseholdSize']).mode[0], inplace=True)\n",
    "cust_df['HouseholdSize'].fillna(mode(cust_df['HouseholdSize']).mode[0], inplace=True)                                                \n",
    "cust_df['HouseholdSize'].isnull().sum()"
   ]
  },
  {
   "cell_type": "code",
   "execution_count": 27,
   "metadata": {},
   "outputs": [
    {
     "name": "stdout",
     "output_type": "stream",
     "text": [
      "\\After imputation for missing values:\n",
      "1.0    2032\n",
      "2.0    1466\n",
      "3.0     552\n",
      "4.0     520\n",
      "5.0     287\n",
      "6.0      97\n",
      "7.0      29\n",
      "8.0       7\n",
      "9.0       2\n",
      "Name: HouseholdSize, dtype: int64\n",
      "0\n"
     ]
    }
   ],
   "source": [
    "#Frequency distribution of Gender\n",
    "counts_HouseholdSize = cust_df['HouseholdSize'].value_counts()\n",
    "print (\"\\After imputation for missing values:\")\n",
    "print (counts_HHSize)\n",
    "print (cust_df['HouseholdSize'].isnull().sum())"
   ]
  },
  {
   "cell_type": "code",
   "execution_count": 28,
   "metadata": {},
   "outputs": [
    {
     "data": {
      "text/plain": [
       "(5000, 59)"
      ]
     },
     "execution_count": 28,
     "metadata": {},
     "output_type": "execute_result"
    }
   ],
   "source": [
    "cust_df.shape"
   ]
  },
  {
   "cell_type": "code",
   "execution_count": 29,
   "metadata": {},
   "outputs": [
    {
     "data": {
      "text/html": [
       "<div>\n",
       "<style scoped>\n",
       "    .dataframe tbody tr th:only-of-type {\n",
       "        vertical-align: middle;\n",
       "    }\n",
       "\n",
       "    .dataframe tbody tr th {\n",
       "        vertical-align: top;\n",
       "    }\n",
       "\n",
       "    .dataframe thead th {\n",
       "        text-align: right;\n",
       "    }\n",
       "</style>\n",
       "<table border=\"1\" class=\"dataframe\">\n",
       "  <thead>\n",
       "    <tr style=\"text-align: right;\">\n",
       "      <th></th>\n",
       "      <th>CustomerID</th>\n",
       "      <th>Region</th>\n",
       "      <th>TownSize</th>\n",
       "      <th>Gender</th>\n",
       "      <th>Age</th>\n",
       "      <th>EducationYears</th>\n",
       "      <th>JobCategory</th>\n",
       "      <th>UnionMember</th>\n",
       "      <th>EmploymentLength</th>\n",
       "      <th>Retired</th>\n",
       "      <th>...</th>\n",
       "      <th>CallWait</th>\n",
       "      <th>CallForward</th>\n",
       "      <th>ThreeWayCalling</th>\n",
       "      <th>EBilling</th>\n",
       "      <th>TVWatchingHours</th>\n",
       "      <th>OwnsPC</th>\n",
       "      <th>OwnsMobileDevice</th>\n",
       "      <th>OwnsGameSystem</th>\n",
       "      <th>OwnsFax</th>\n",
       "      <th>NewsSubscriber</th>\n",
       "    </tr>\n",
       "  </thead>\n",
       "  <tbody>\n",
       "    <tr>\n",
       "      <th>0</th>\n",
       "      <td>3964-QJWTRG-NPN</td>\n",
       "      <td>1</td>\n",
       "      <td>2</td>\n",
       "      <td>Female</td>\n",
       "      <td>20</td>\n",
       "      <td>15</td>\n",
       "      <td>Professional</td>\n",
       "      <td>Yes</td>\n",
       "      <td>0</td>\n",
       "      <td>No</td>\n",
       "      <td>...</td>\n",
       "      <td>Yes</td>\n",
       "      <td>Yes</td>\n",
       "      <td>Yes</td>\n",
       "      <td>No</td>\n",
       "      <td>13</td>\n",
       "      <td>No</td>\n",
       "      <td>Yes</td>\n",
       "      <td>Yes</td>\n",
       "      <td>No</td>\n",
       "      <td>No</td>\n",
       "    </tr>\n",
       "    <tr>\n",
       "      <th>1</th>\n",
       "      <td>0648-AIPJSP-UVM</td>\n",
       "      <td>5</td>\n",
       "      <td>5</td>\n",
       "      <td>Male</td>\n",
       "      <td>22</td>\n",
       "      <td>17</td>\n",
       "      <td>Sales</td>\n",
       "      <td>No</td>\n",
       "      <td>0</td>\n",
       "      <td>No</td>\n",
       "      <td>...</td>\n",
       "      <td>No</td>\n",
       "      <td>Yes</td>\n",
       "      <td>No</td>\n",
       "      <td>Yes</td>\n",
       "      <td>18</td>\n",
       "      <td>Yes</td>\n",
       "      <td>Yes</td>\n",
       "      <td>Yes</td>\n",
       "      <td>Yes</td>\n",
       "      <td>Yes</td>\n",
       "    </tr>\n",
       "    <tr>\n",
       "      <th>2</th>\n",
       "      <td>5195-TLUDJE-HVO</td>\n",
       "      <td>3</td>\n",
       "      <td>4</td>\n",
       "      <td>Female</td>\n",
       "      <td>67</td>\n",
       "      <td>14</td>\n",
       "      <td>Sales</td>\n",
       "      <td>No</td>\n",
       "      <td>16</td>\n",
       "      <td>No</td>\n",
       "      <td>...</td>\n",
       "      <td>No</td>\n",
       "      <td>No</td>\n",
       "      <td>No</td>\n",
       "      <td>No</td>\n",
       "      <td>21</td>\n",
       "      <td>No</td>\n",
       "      <td>No</td>\n",
       "      <td>No</td>\n",
       "      <td>No</td>\n",
       "      <td>Yes</td>\n",
       "    </tr>\n",
       "    <tr>\n",
       "      <th>3</th>\n",
       "      <td>4459-VLPQUH-3OL</td>\n",
       "      <td>4</td>\n",
       "      <td>3</td>\n",
       "      <td>Male</td>\n",
       "      <td>23</td>\n",
       "      <td>16</td>\n",
       "      <td>Sales</td>\n",
       "      <td>No</td>\n",
       "      <td>0</td>\n",
       "      <td>No</td>\n",
       "      <td>...</td>\n",
       "      <td>No</td>\n",
       "      <td>No</td>\n",
       "      <td>No</td>\n",
       "      <td>Yes</td>\n",
       "      <td>26</td>\n",
       "      <td>Yes</td>\n",
       "      <td>Yes</td>\n",
       "      <td>Yes</td>\n",
       "      <td>No</td>\n",
       "      <td>Yes</td>\n",
       "    </tr>\n",
       "    <tr>\n",
       "      <th>4</th>\n",
       "      <td>8158-SMTQFB-CNO</td>\n",
       "      <td>2</td>\n",
       "      <td>2</td>\n",
       "      <td>Male</td>\n",
       "      <td>26</td>\n",
       "      <td>16</td>\n",
       "      <td>Sales</td>\n",
       "      <td>No</td>\n",
       "      <td>1</td>\n",
       "      <td>No</td>\n",
       "      <td>...</td>\n",
       "      <td>Yes</td>\n",
       "      <td>Yes</td>\n",
       "      <td>Yes</td>\n",
       "      <td>No</td>\n",
       "      <td>27</td>\n",
       "      <td>Yes</td>\n",
       "      <td>No</td>\n",
       "      <td>Yes</td>\n",
       "      <td>No</td>\n",
       "      <td>No</td>\n",
       "    </tr>\n",
       "  </tbody>\n",
       "</table>\n",
       "<p>5 rows × 59 columns</p>\n",
       "</div>"
      ],
      "text/plain": [
       "        CustomerID  Region TownSize  Gender  Age  EducationYears  \\\n",
       "0  3964-QJWTRG-NPN       1        2  Female   20              15   \n",
       "1  0648-AIPJSP-UVM       5        5    Male   22              17   \n",
       "2  5195-TLUDJE-HVO       3        4  Female   67              14   \n",
       "3  4459-VLPQUH-3OL       4        3    Male   23              16   \n",
       "4  8158-SMTQFB-CNO       2        2    Male   26              16   \n",
       "\n",
       "    JobCategory UnionMember  EmploymentLength Retired  ... CallWait  \\\n",
       "0  Professional         Yes                 0      No  ...      Yes   \n",
       "1         Sales          No                 0      No  ...       No   \n",
       "2         Sales          No                16      No  ...       No   \n",
       "3         Sales          No                 0      No  ...       No   \n",
       "4         Sales          No                 1      No  ...      Yes   \n",
       "\n",
       "   CallForward  ThreeWayCalling  EBilling TVWatchingHours OwnsPC  \\\n",
       "0          Yes              Yes        No              13     No   \n",
       "1          Yes               No       Yes              18    Yes   \n",
       "2           No               No        No              21     No   \n",
       "3           No               No       Yes              26    Yes   \n",
       "4          Yes              Yes        No              27    Yes   \n",
       "\n",
       "   OwnsMobileDevice  OwnsGameSystem  OwnsFax  NewsSubscriber  \n",
       "0               Yes             Yes       No              No  \n",
       "1               Yes             Yes      Yes             Yes  \n",
       "2                No              No       No             Yes  \n",
       "3               Yes             Yes       No             Yes  \n",
       "4                No             Yes       No              No  \n",
       "\n",
       "[5 rows x 59 columns]"
      ]
     },
     "execution_count": 29,
     "metadata": {},
     "output_type": "execute_result"
    }
   ],
   "source": [
    "cust_df.head(5)"
   ]
  },
  {
   "cell_type": "code",
   "execution_count": 30,
   "metadata": {},
   "outputs": [],
   "source": [
    "def coding(col, codeDict):\n",
    "  colCoded = pd.Series(col, copy=True)\n",
    "  for key, value in codeDict.items():\n",
    "    colCoded.replace(key, value, inplace=True)\n",
    "  return colCoded"
   ]
  },
  {
   "cell_type": "code",
   "execution_count": 31,
   "metadata": {},
   "outputs": [
    {
     "data": {
      "text/plain": [
       "0       <class 'str'>\n",
       "1       <class 'str'>\n",
       "2       <class 'str'>\n",
       "3       <class 'str'>\n",
       "4       <class 'str'>\n",
       "            ...      \n",
       "4995    <class 'str'>\n",
       "4996    <class 'str'>\n",
       "4997    <class 'str'>\n",
       "4998    <class 'str'>\n",
       "4999    <class 'str'>\n",
       "Name: HHIncome, Length: 5000, dtype: object"
      ]
     },
     "execution_count": 31,
     "metadata": {},
     "output_type": "execute_result"
    }
   ],
   "source": [
    "cust_df['HHIncome'].apply(type)"
   ]
  },
  {
   "cell_type": "code",
   "execution_count": 32,
   "metadata": {},
   "outputs": [
    {
     "data": {
      "text/plain": [
       "<class 'str'>    5000\n",
       "Name: HHIncome, dtype: int64"
      ]
     },
     "execution_count": 32,
     "metadata": {},
     "output_type": "execute_result"
    }
   ],
   "source": [
    "cust_df['HHIncome'].apply(type).value_counts()"
   ]
  },
  {
   "cell_type": "code",
   "execution_count": 33,
   "metadata": {},
   "outputs": [],
   "source": [
    "#Custom create function to clean variables with currency symbols\n",
    "def clean_currency(x):\n",
    "    \"\"\" If the value is a string, then remove currency symbol and delimiters\n",
    "    otherwise, the value is numeric and can be converted\n",
    "    \"\"\"\n",
    "    if isinstance(x, str):\n",
    "        return(x.replace('$', '').replace(',', ''))\n",
    "    return(x)"
   ]
  },
  {
   "cell_type": "code",
   "execution_count": 34,
   "metadata": {},
   "outputs": [],
   "source": [
    "cust_df['HHIncome'] = cust_df['HHIncome'].apply(clean_currency).astype('float')"
   ]
  },
  {
   "cell_type": "code",
   "execution_count": 35,
   "metadata": {
    "scrolled": true
   },
   "outputs": [
    {
     "data": {
      "text/html": [
       "<div>\n",
       "<style scoped>\n",
       "    .dataframe tbody tr th:only-of-type {\n",
       "        vertical-align: middle;\n",
       "    }\n",
       "\n",
       "    .dataframe tbody tr th {\n",
       "        vertical-align: top;\n",
       "    }\n",
       "\n",
       "    .dataframe thead th {\n",
       "        text-align: right;\n",
       "    }\n",
       "</style>\n",
       "<table border=\"1\" class=\"dataframe\">\n",
       "  <thead>\n",
       "    <tr style=\"text-align: right;\">\n",
       "      <th></th>\n",
       "      <th>CustomerID</th>\n",
       "      <th>Region</th>\n",
       "      <th>TownSize</th>\n",
       "      <th>Gender</th>\n",
       "      <th>Age</th>\n",
       "      <th>EducationYears</th>\n",
       "      <th>JobCategory</th>\n",
       "      <th>UnionMember</th>\n",
       "      <th>EmploymentLength</th>\n",
       "      <th>Retired</th>\n",
       "      <th>...</th>\n",
       "      <th>CallWait</th>\n",
       "      <th>CallForward</th>\n",
       "      <th>ThreeWayCalling</th>\n",
       "      <th>EBilling</th>\n",
       "      <th>TVWatchingHours</th>\n",
       "      <th>OwnsPC</th>\n",
       "      <th>OwnsMobileDevice</th>\n",
       "      <th>OwnsGameSystem</th>\n",
       "      <th>OwnsFax</th>\n",
       "      <th>NewsSubscriber</th>\n",
       "    </tr>\n",
       "  </thead>\n",
       "  <tbody>\n",
       "    <tr>\n",
       "      <th>0</th>\n",
       "      <td>3964-QJWTRG-NPN</td>\n",
       "      <td>1</td>\n",
       "      <td>2</td>\n",
       "      <td>Female</td>\n",
       "      <td>20</td>\n",
       "      <td>15</td>\n",
       "      <td>Professional</td>\n",
       "      <td>Yes</td>\n",
       "      <td>0</td>\n",
       "      <td>No</td>\n",
       "      <td>...</td>\n",
       "      <td>Yes</td>\n",
       "      <td>Yes</td>\n",
       "      <td>Yes</td>\n",
       "      <td>No</td>\n",
       "      <td>13</td>\n",
       "      <td>No</td>\n",
       "      <td>Yes</td>\n",
       "      <td>Yes</td>\n",
       "      <td>No</td>\n",
       "      <td>No</td>\n",
       "    </tr>\n",
       "    <tr>\n",
       "      <th>1</th>\n",
       "      <td>0648-AIPJSP-UVM</td>\n",
       "      <td>5</td>\n",
       "      <td>5</td>\n",
       "      <td>Male</td>\n",
       "      <td>22</td>\n",
       "      <td>17</td>\n",
       "      <td>Sales</td>\n",
       "      <td>No</td>\n",
       "      <td>0</td>\n",
       "      <td>No</td>\n",
       "      <td>...</td>\n",
       "      <td>No</td>\n",
       "      <td>Yes</td>\n",
       "      <td>No</td>\n",
       "      <td>Yes</td>\n",
       "      <td>18</td>\n",
       "      <td>Yes</td>\n",
       "      <td>Yes</td>\n",
       "      <td>Yes</td>\n",
       "      <td>Yes</td>\n",
       "      <td>Yes</td>\n",
       "    </tr>\n",
       "    <tr>\n",
       "      <th>2</th>\n",
       "      <td>5195-TLUDJE-HVO</td>\n",
       "      <td>3</td>\n",
       "      <td>4</td>\n",
       "      <td>Female</td>\n",
       "      <td>67</td>\n",
       "      <td>14</td>\n",
       "      <td>Sales</td>\n",
       "      <td>No</td>\n",
       "      <td>16</td>\n",
       "      <td>No</td>\n",
       "      <td>...</td>\n",
       "      <td>No</td>\n",
       "      <td>No</td>\n",
       "      <td>No</td>\n",
       "      <td>No</td>\n",
       "      <td>21</td>\n",
       "      <td>No</td>\n",
       "      <td>No</td>\n",
       "      <td>No</td>\n",
       "      <td>No</td>\n",
       "      <td>Yes</td>\n",
       "    </tr>\n",
       "    <tr>\n",
       "      <th>3</th>\n",
       "      <td>4459-VLPQUH-3OL</td>\n",
       "      <td>4</td>\n",
       "      <td>3</td>\n",
       "      <td>Male</td>\n",
       "      <td>23</td>\n",
       "      <td>16</td>\n",
       "      <td>Sales</td>\n",
       "      <td>No</td>\n",
       "      <td>0</td>\n",
       "      <td>No</td>\n",
       "      <td>...</td>\n",
       "      <td>No</td>\n",
       "      <td>No</td>\n",
       "      <td>No</td>\n",
       "      <td>Yes</td>\n",
       "      <td>26</td>\n",
       "      <td>Yes</td>\n",
       "      <td>Yes</td>\n",
       "      <td>Yes</td>\n",
       "      <td>No</td>\n",
       "      <td>Yes</td>\n",
       "    </tr>\n",
       "    <tr>\n",
       "      <th>4</th>\n",
       "      <td>8158-SMTQFB-CNO</td>\n",
       "      <td>2</td>\n",
       "      <td>2</td>\n",
       "      <td>Male</td>\n",
       "      <td>26</td>\n",
       "      <td>16</td>\n",
       "      <td>Sales</td>\n",
       "      <td>No</td>\n",
       "      <td>1</td>\n",
       "      <td>No</td>\n",
       "      <td>...</td>\n",
       "      <td>Yes</td>\n",
       "      <td>Yes</td>\n",
       "      <td>Yes</td>\n",
       "      <td>No</td>\n",
       "      <td>27</td>\n",
       "      <td>Yes</td>\n",
       "      <td>No</td>\n",
       "      <td>Yes</td>\n",
       "      <td>No</td>\n",
       "      <td>No</td>\n",
       "    </tr>\n",
       "  </tbody>\n",
       "</table>\n",
       "<p>5 rows × 59 columns</p>\n",
       "</div>"
      ],
      "text/plain": [
       "        CustomerID  Region TownSize  Gender  Age  EducationYears  \\\n",
       "0  3964-QJWTRG-NPN       1        2  Female   20              15   \n",
       "1  0648-AIPJSP-UVM       5        5    Male   22              17   \n",
       "2  5195-TLUDJE-HVO       3        4  Female   67              14   \n",
       "3  4459-VLPQUH-3OL       4        3    Male   23              16   \n",
       "4  8158-SMTQFB-CNO       2        2    Male   26              16   \n",
       "\n",
       "    JobCategory UnionMember  EmploymentLength Retired  ...  CallWait  \\\n",
       "0  Professional         Yes                 0      No  ...       Yes   \n",
       "1         Sales          No                 0      No  ...        No   \n",
       "2         Sales          No                16      No  ...        No   \n",
       "3         Sales          No                 0      No  ...        No   \n",
       "4         Sales          No                 1      No  ...       Yes   \n",
       "\n",
       "   CallForward  ThreeWayCalling  EBilling TVWatchingHours OwnsPC  \\\n",
       "0          Yes              Yes        No              13     No   \n",
       "1          Yes               No       Yes              18    Yes   \n",
       "2           No               No        No              21     No   \n",
       "3           No               No       Yes              26    Yes   \n",
       "4          Yes              Yes        No              27    Yes   \n",
       "\n",
       "   OwnsMobileDevice  OwnsGameSystem  OwnsFax  NewsSubscriber  \n",
       "0               Yes             Yes       No              No  \n",
       "1               Yes             Yes      Yes             Yes  \n",
       "2                No              No       No             Yes  \n",
       "3               Yes             Yes       No             Yes  \n",
       "4                No             Yes       No              No  \n",
       "\n",
       "[5 rows x 59 columns]"
      ]
     },
     "execution_count": 35,
     "metadata": {},
     "output_type": "execute_result"
    }
   ],
   "source": [
    "cust_df.head()"
   ]
  },
  {
   "cell_type": "code",
   "execution_count": 36,
   "metadata": {},
   "outputs": [
    {
     "data": {
      "text/plain": [
       "54759.6"
      ]
     },
     "execution_count": 36,
     "metadata": {},
     "output_type": "execute_result"
    }
   ],
   "source": [
    "np.mean(cust_df['HHIncome'])"
   ]
  },
  {
   "cell_type": "code",
   "execution_count": 37,
   "metadata": {},
   "outputs": [
    {
     "data": {
      "text/plain": [
       "dtype('float64')"
      ]
     },
     "execution_count": 37,
     "metadata": {},
     "output_type": "execute_result"
    }
   ],
   "source": [
    "cust_df['HHIncome'].dtype"
   ]
  },
  {
   "cell_type": "code",
   "execution_count": 38,
   "metadata": {},
   "outputs": [],
   "source": [
    "#Using lambda functions\n",
    "#cust_df['Sales'] = cust_df['Sales'].apply(lambda x: x.replace('$', '').replace(',', '')\n",
    "#                                if isinstance(x, str) else x).astype(float)"
   ]
  },
  {
   "cell_type": "code",
   "execution_count": 39,
   "metadata": {},
   "outputs": [
    {
     "name": "stdout",
     "output_type": "stream",
     "text": [
      "\n",
      "After Coding:\n",
      "2    3829\n",
      "1    1171\n",
      "Name: LoanDefault, dtype: int64\n"
     ]
    }
   ],
   "source": [
    "cust_df[\"LoanDefault\"] = coding(cust_df[\"LoanDefault\"], {'No':2,'Yes':1})\n",
    "print ('\\nAfter Coding:')\n",
    "print (pd.value_counts(cust_df[\"LoanDefault\"]))"
   ]
  },
  {
   "cell_type": "code",
   "execution_count": 40,
   "metadata": {},
   "outputs": [
    {
     "name": "stdout",
     "output_type": "stream",
     "text": [
      "\n",
      "After Coding:\n",
      "2.0    2494\n",
      "1.0    2473\n",
      "Name: Gender_num, dtype: int64\n"
     ]
    }
   ],
   "source": [
    "#Recoding Gender as a numeric variable \n",
    "cust_df[\"Gender_num\"] = coding(cust_df[\"Gender\"], {'Female':2,'Male':1})\n",
    "print ('\\nAfter Coding:')\n",
    "print (pd.value_counts(cust_df[\"Gender_num\"]))"
   ]
  },
  {
   "cell_type": "code",
   "execution_count": 41,
   "metadata": {},
   "outputs": [
    {
     "name": "stdout",
     "output_type": "stream",
     "text": [
      "\n",
      "After Coding:\n",
      "2    3829\n",
      "1    1171\n",
      "Name: LoanDefault_num, dtype: int64\n"
     ]
    }
   ],
   "source": [
    "#Recoding LoanDefault_num as a numeric variable \n",
    "cust_df[\"LoanDefault_num\"] = coding(cust_df[\"LoanDefault\"], {'No':2,'Yes':1})\n",
    "print ('\\nAfter Coding:')\n",
    "print (pd.value_counts(cust_df[\"LoanDefault_num\"]))"
   ]
  },
  {
   "cell_type": "code",
   "execution_count": 42,
   "metadata": {},
   "outputs": [
    {
     "name": "stdout",
     "output_type": "stream",
     "text": [
      "\n",
      "After Coding:\n",
      "2    2599\n",
      "1    2401\n",
      "Name: MaritalStatus, dtype: int64\n"
     ]
    }
   ],
   "source": [
    "#Recoding MaritalStatus as a numeric variable \n",
    "cust_df[\"MaritalStatus\"] = coding(cust_df[\"MaritalStatus\"], {'Unmarried':2,'Married':1})\n",
    "print ('\\nAfter Coding:')\n",
    "print (pd.value_counts(cust_df[\"MaritalStatus\"]))"
   ]
  },
  {
   "cell_type": "code",
   "execution_count": 43,
   "metadata": {},
   "outputs": [
    {
     "name": "stdout",
     "output_type": "stream",
     "text": [
      "\\Before imputation for missing values:\n",
      "Sales           1635\n",
      "Professional    1380\n",
      "Labor            686\n",
      "Service          620\n",
      "Crafts           452\n",
      "Agriculture      212\n",
      "Name: JobCategory, dtype: int64\n"
     ]
    }
   ],
   "source": [
    "#Frequency distribution of JobCategory before imputation of missing values\n",
    "counts_JobCategory = cust_df['JobCategory'].value_counts()\n",
    "print (\"\\Before imputation for missing values:\")\n",
    "print (counts_JobCategory)"
   ]
  },
  {
   "cell_type": "code",
   "execution_count": 44,
   "metadata": {},
   "outputs": [
    {
     "data": {
      "text/plain": [
       "<bound method Series.mode of 0       Professional\n",
       "1              Sales\n",
       "2              Sales\n",
       "3              Sales\n",
       "4              Sales\n",
       "            ...     \n",
       "4995    Professional\n",
       "4996    Professional\n",
       "4997    Professional\n",
       "4998           Sales\n",
       "4999          Crafts\n",
       "Name: JobCategory, Length: 5000, dtype: object>"
      ]
     },
     "execution_count": 44,
     "metadata": {},
     "output_type": "execute_result"
    }
   ],
   "source": [
    "cust_df['JobCategory'].mode"
   ]
  },
  {
   "cell_type": "code",
   "execution_count": 45,
   "metadata": {},
   "outputs": [],
   "source": [
    "#Replace missing character values with the mode of the distribution \n",
    "cust_df['JobCategory'].fillna(mode(cust_df['JobCategory']).mode[0], inplace=True)"
   ]
  },
  {
   "cell_type": "code",
   "execution_count": 46,
   "metadata": {},
   "outputs": [
    {
     "name": "stdout",
     "output_type": "stream",
     "text": [
      "\\After imputation for missing values:\n",
      "Sales           1650\n",
      "Professional    1380\n",
      "Labor            686\n",
      "Service          620\n",
      "Crafts           452\n",
      "Agriculture      212\n",
      "Name: JobCategory, dtype: int64\n"
     ]
    }
   ],
   "source": [
    "#Frequency distribution of LoanDefault after imputation of missing values\n",
    "counts_JobCategory = cust_df['JobCategory'].value_counts()\n",
    "print (\"\\After imputation for missing values:\")\n",
    "print (counts_JobCategory)"
   ]
  },
  {
   "cell_type": "code",
   "execution_count": 47,
   "metadata": {},
   "outputs": [
    {
     "data": {
      "text/html": [
       "<div>\n",
       "<style scoped>\n",
       "    .dataframe tbody tr th:only-of-type {\n",
       "        vertical-align: middle;\n",
       "    }\n",
       "\n",
       "    .dataframe tbody tr th {\n",
       "        vertical-align: top;\n",
       "    }\n",
       "\n",
       "    .dataframe thead th {\n",
       "        text-align: right;\n",
       "    }\n",
       "</style>\n",
       "<table border=\"1\" class=\"dataframe\">\n",
       "  <thead>\n",
       "    <tr style=\"text-align: right;\">\n",
       "      <th></th>\n",
       "      <th>Region</th>\n",
       "      <th>Age</th>\n",
       "      <th>EducationYears</th>\n",
       "      <th>EmploymentLength</th>\n",
       "      <th>HHIncome</th>\n",
       "      <th>DebtToIncomeRatio</th>\n",
       "      <th>CreditDebt</th>\n",
       "      <th>OtherDebt</th>\n",
       "      <th>LoanDefault</th>\n",
       "      <th>MaritalStatus</th>\n",
       "      <th>...</th>\n",
       "      <th>NumberDogs</th>\n",
       "      <th>NumberBirds</th>\n",
       "      <th>HomeOwner</th>\n",
       "      <th>CarsOwned</th>\n",
       "      <th>CardTenure</th>\n",
       "      <th>CardItemsMonthly</th>\n",
       "      <th>PhoneCoTenure</th>\n",
       "      <th>TVWatchingHours</th>\n",
       "      <th>Gender_num</th>\n",
       "      <th>LoanDefault_num</th>\n",
       "    </tr>\n",
       "  </thead>\n",
       "  <tbody>\n",
       "    <tr>\n",
       "      <th>count</th>\n",
       "      <td>5000.00000</td>\n",
       "      <td>5000.000000</td>\n",
       "      <td>5000.000000</td>\n",
       "      <td>5000.000000</td>\n",
       "      <td>5.000000e+03</td>\n",
       "      <td>5000.000000</td>\n",
       "      <td>5000.000000</td>\n",
       "      <td>5000.000000</td>\n",
       "      <td>5000.00000</td>\n",
       "      <td>5000.000000</td>\n",
       "      <td>...</td>\n",
       "      <td>4992.000000</td>\n",
       "      <td>4966.000000</td>\n",
       "      <td>4987.000000</td>\n",
       "      <td>5000.000000</td>\n",
       "      <td>5000.000000</td>\n",
       "      <td>5000.00000</td>\n",
       "      <td>5000.000000</td>\n",
       "      <td>5000.000000</td>\n",
       "      <td>4967.000000</td>\n",
       "      <td>5000.00000</td>\n",
       "    </tr>\n",
       "    <tr>\n",
       "      <th>mean</th>\n",
       "      <td>3.00140</td>\n",
       "      <td>47.025600</td>\n",
       "      <td>14.543000</td>\n",
       "      <td>9.730400</td>\n",
       "      <td>5.475960e+04</td>\n",
       "      <td>9.954160</td>\n",
       "      <td>1.857326</td>\n",
       "      <td>3.654460</td>\n",
       "      <td>1.76580</td>\n",
       "      <td>1.519800</td>\n",
       "      <td>...</td>\n",
       "      <td>0.392829</td>\n",
       "      <td>0.111156</td>\n",
       "      <td>0.629637</td>\n",
       "      <td>2.130600</td>\n",
       "      <td>16.655800</td>\n",
       "      <td>10.17740</td>\n",
       "      <td>38.204800</td>\n",
       "      <td>19.645000</td>\n",
       "      <td>1.502114</td>\n",
       "      <td>1.76580</td>\n",
       "    </tr>\n",
       "    <tr>\n",
       "      <th>std</th>\n",
       "      <td>1.42176</td>\n",
       "      <td>17.770338</td>\n",
       "      <td>3.281083</td>\n",
       "      <td>9.690929</td>\n",
       "      <td>5.537751e+04</td>\n",
       "      <td>6.399783</td>\n",
       "      <td>3.415732</td>\n",
       "      <td>5.395172</td>\n",
       "      <td>0.42354</td>\n",
       "      <td>0.499658</td>\n",
       "      <td>...</td>\n",
       "      <td>0.796539</td>\n",
       "      <td>0.495832</td>\n",
       "      <td>0.482950</td>\n",
       "      <td>1.307473</td>\n",
       "      <td>12.020958</td>\n",
       "      <td>3.39114</td>\n",
       "      <td>22.661888</td>\n",
       "      <td>5.165609</td>\n",
       "      <td>0.500046</td>\n",
       "      <td>0.42354</td>\n",
       "    </tr>\n",
       "    <tr>\n",
       "      <th>min</th>\n",
       "      <td>1.00000</td>\n",
       "      <td>18.000000</td>\n",
       "      <td>6.000000</td>\n",
       "      <td>0.000000</td>\n",
       "      <td>9.000000e+03</td>\n",
       "      <td>0.000000</td>\n",
       "      <td>0.000000</td>\n",
       "      <td>0.000000</td>\n",
       "      <td>1.00000</td>\n",
       "      <td>1.000000</td>\n",
       "      <td>...</td>\n",
       "      <td>0.000000</td>\n",
       "      <td>0.000000</td>\n",
       "      <td>0.000000</td>\n",
       "      <td>0.000000</td>\n",
       "      <td>0.000000</td>\n",
       "      <td>0.00000</td>\n",
       "      <td>0.000000</td>\n",
       "      <td>0.000000</td>\n",
       "      <td>1.000000</td>\n",
       "      <td>1.00000</td>\n",
       "    </tr>\n",
       "    <tr>\n",
       "      <th>25%</th>\n",
       "      <td>2.00000</td>\n",
       "      <td>31.000000</td>\n",
       "      <td>12.000000</td>\n",
       "      <td>2.000000</td>\n",
       "      <td>2.400000e+04</td>\n",
       "      <td>5.100000</td>\n",
       "      <td>0.385520</td>\n",
       "      <td>0.980302</td>\n",
       "      <td>2.00000</td>\n",
       "      <td>1.000000</td>\n",
       "      <td>...</td>\n",
       "      <td>0.000000</td>\n",
       "      <td>0.000000</td>\n",
       "      <td>0.000000</td>\n",
       "      <td>1.000000</td>\n",
       "      <td>6.000000</td>\n",
       "      <td>8.00000</td>\n",
       "      <td>18.000000</td>\n",
       "      <td>17.000000</td>\n",
       "      <td>1.000000</td>\n",
       "      <td>2.00000</td>\n",
       "    </tr>\n",
       "    <tr>\n",
       "      <th>50%</th>\n",
       "      <td>3.00000</td>\n",
       "      <td>47.000000</td>\n",
       "      <td>14.000000</td>\n",
       "      <td>7.000000</td>\n",
       "      <td>3.800000e+04</td>\n",
       "      <td>8.800000</td>\n",
       "      <td>0.926437</td>\n",
       "      <td>2.098540</td>\n",
       "      <td>2.00000</td>\n",
       "      <td>2.000000</td>\n",
       "      <td>...</td>\n",
       "      <td>0.000000</td>\n",
       "      <td>0.000000</td>\n",
       "      <td>1.000000</td>\n",
       "      <td>2.000000</td>\n",
       "      <td>14.000000</td>\n",
       "      <td>10.00000</td>\n",
       "      <td>38.000000</td>\n",
       "      <td>20.000000</td>\n",
       "      <td>2.000000</td>\n",
       "      <td>2.00000</td>\n",
       "    </tr>\n",
       "    <tr>\n",
       "      <th>75%</th>\n",
       "      <td>4.00000</td>\n",
       "      <td>62.000000</td>\n",
       "      <td>17.000000</td>\n",
       "      <td>15.000000</td>\n",
       "      <td>6.700000e+04</td>\n",
       "      <td>13.600000</td>\n",
       "      <td>2.063820</td>\n",
       "      <td>4.314780</td>\n",
       "      <td>2.00000</td>\n",
       "      <td>2.000000</td>\n",
       "      <td>...</td>\n",
       "      <td>0.000000</td>\n",
       "      <td>0.000000</td>\n",
       "      <td>1.000000</td>\n",
       "      <td>3.000000</td>\n",
       "      <td>26.000000</td>\n",
       "      <td>12.00000</td>\n",
       "      <td>59.000000</td>\n",
       "      <td>23.000000</td>\n",
       "      <td>2.000000</td>\n",
       "      <td>2.00000</td>\n",
       "    </tr>\n",
       "    <tr>\n",
       "      <th>max</th>\n",
       "      <td>5.00000</td>\n",
       "      <td>79.000000</td>\n",
       "      <td>23.000000</td>\n",
       "      <td>52.000000</td>\n",
       "      <td>1.073000e+06</td>\n",
       "      <td>43.100000</td>\n",
       "      <td>109.072596</td>\n",
       "      <td>141.459150</td>\n",
       "      <td>2.00000</td>\n",
       "      <td>2.000000</td>\n",
       "      <td>...</td>\n",
       "      <td>7.000000</td>\n",
       "      <td>5.000000</td>\n",
       "      <td>1.000000</td>\n",
       "      <td>8.000000</td>\n",
       "      <td>40.000000</td>\n",
       "      <td>23.00000</td>\n",
       "      <td>72.000000</td>\n",
       "      <td>36.000000</td>\n",
       "      <td>2.000000</td>\n",
       "      <td>2.00000</td>\n",
       "    </tr>\n",
       "  </tbody>\n",
       "</table>\n",
       "<p>8 rows × 23 columns</p>\n",
       "</div>"
      ],
      "text/plain": [
       "           Region          Age  EducationYears  EmploymentLength  \\\n",
       "count  5000.00000  5000.000000     5000.000000       5000.000000   \n",
       "mean      3.00140    47.025600       14.543000          9.730400   \n",
       "std       1.42176    17.770338        3.281083          9.690929   \n",
       "min       1.00000    18.000000        6.000000          0.000000   \n",
       "25%       2.00000    31.000000       12.000000          2.000000   \n",
       "50%       3.00000    47.000000       14.000000          7.000000   \n",
       "75%       4.00000    62.000000       17.000000         15.000000   \n",
       "max       5.00000    79.000000       23.000000         52.000000   \n",
       "\n",
       "           HHIncome  DebtToIncomeRatio   CreditDebt    OtherDebt  LoanDefault  \\\n",
       "count  5.000000e+03        5000.000000  5000.000000  5000.000000   5000.00000   \n",
       "mean   5.475960e+04           9.954160     1.857326     3.654460      1.76580   \n",
       "std    5.537751e+04           6.399783     3.415732     5.395172      0.42354   \n",
       "min    9.000000e+03           0.000000     0.000000     0.000000      1.00000   \n",
       "25%    2.400000e+04           5.100000     0.385520     0.980302      2.00000   \n",
       "50%    3.800000e+04           8.800000     0.926437     2.098540      2.00000   \n",
       "75%    6.700000e+04          13.600000     2.063820     4.314780      2.00000   \n",
       "max    1.073000e+06          43.100000   109.072596   141.459150      2.00000   \n",
       "\n",
       "       MaritalStatus  ...   NumberDogs  NumberBirds    HomeOwner    CarsOwned  \\\n",
       "count    5000.000000  ...  4992.000000  4966.000000  4987.000000  5000.000000   \n",
       "mean        1.519800  ...     0.392829     0.111156     0.629637     2.130600   \n",
       "std         0.499658  ...     0.796539     0.495832     0.482950     1.307473   \n",
       "min         1.000000  ...     0.000000     0.000000     0.000000     0.000000   \n",
       "25%         1.000000  ...     0.000000     0.000000     0.000000     1.000000   \n",
       "50%         2.000000  ...     0.000000     0.000000     1.000000     2.000000   \n",
       "75%         2.000000  ...     0.000000     0.000000     1.000000     3.000000   \n",
       "max         2.000000  ...     7.000000     5.000000     1.000000     8.000000   \n",
       "\n",
       "        CardTenure  CardItemsMonthly  PhoneCoTenure  TVWatchingHours  \\\n",
       "count  5000.000000        5000.00000    5000.000000      5000.000000   \n",
       "mean     16.655800          10.17740      38.204800        19.645000   \n",
       "std      12.020958           3.39114      22.661888         5.165609   \n",
       "min       0.000000           0.00000       0.000000         0.000000   \n",
       "25%       6.000000           8.00000      18.000000        17.000000   \n",
       "50%      14.000000          10.00000      38.000000        20.000000   \n",
       "75%      26.000000          12.00000      59.000000        23.000000   \n",
       "max      40.000000          23.00000      72.000000        36.000000   \n",
       "\n",
       "        Gender_num  LoanDefault_num  \n",
       "count  4967.000000       5000.00000  \n",
       "mean      1.502114          1.76580  \n",
       "std       0.500046          0.42354  \n",
       "min       1.000000          1.00000  \n",
       "25%       1.000000          2.00000  \n",
       "50%       2.000000          2.00000  \n",
       "75%       2.000000          2.00000  \n",
       "max       2.000000          2.00000  \n",
       "\n",
       "[8 rows x 23 columns]"
      ]
     },
     "execution_count": 47,
     "metadata": {},
     "output_type": "execute_result"
    }
   ],
   "source": [
    "cust_df.describe(include = [np.number])"
   ]
  },
  {
   "cell_type": "code",
   "execution_count": 48,
   "metadata": {},
   "outputs": [
    {
     "name": "stderr",
     "output_type": "stream",
     "text": [
      "C:\\Users\\HP\\AppData\\Local\\Temp/ipykernel_10652/653401256.py:1: DeprecationWarning: `np.object` is a deprecated alias for the builtin `object`. To silence this warning, use `object` by itself. Doing this will not modify any behavior and is safe. \n",
      "Deprecated in NumPy 1.20; for more details and guidance: https://numpy.org/devdocs/release/1.20.0-notes.html#deprecations\n",
      "  cust_df.describe(include = [np.object])\n"
     ]
    },
    {
     "data": {
      "text/html": [
       "<div>\n",
       "<style scoped>\n",
       "    .dataframe tbody tr th:only-of-type {\n",
       "        vertical-align: middle;\n",
       "    }\n",
       "\n",
       "    .dataframe tbody tr th {\n",
       "        vertical-align: top;\n",
       "    }\n",
       "\n",
       "    .dataframe thead th {\n",
       "        text-align: right;\n",
       "    }\n",
       "</style>\n",
       "<table border=\"1\" class=\"dataframe\">\n",
       "  <thead>\n",
       "    <tr style=\"text-align: right;\">\n",
       "      <th></th>\n",
       "      <th>CustomerID</th>\n",
       "      <th>TownSize</th>\n",
       "      <th>Gender</th>\n",
       "      <th>JobCategory</th>\n",
       "      <th>UnionMember</th>\n",
       "      <th>Retired</th>\n",
       "      <th>CarOwnership</th>\n",
       "      <th>CarBrand</th>\n",
       "      <th>CarValue</th>\n",
       "      <th>CommuteTime</th>\n",
       "      <th>...</th>\n",
       "      <th>CallerID</th>\n",
       "      <th>CallWait</th>\n",
       "      <th>CallForward</th>\n",
       "      <th>ThreeWayCalling</th>\n",
       "      <th>EBilling</th>\n",
       "      <th>OwnsPC</th>\n",
       "      <th>OwnsMobileDevice</th>\n",
       "      <th>OwnsGameSystem</th>\n",
       "      <th>OwnsFax</th>\n",
       "      <th>NewsSubscriber</th>\n",
       "    </tr>\n",
       "  </thead>\n",
       "  <tbody>\n",
       "    <tr>\n",
       "      <th>count</th>\n",
       "      <td>5000</td>\n",
       "      <td>5000</td>\n",
       "      <td>4967</td>\n",
       "      <td>5000</td>\n",
       "      <td>5000</td>\n",
       "      <td>5000</td>\n",
       "      <td>5000</td>\n",
       "      <td>5000</td>\n",
       "      <td>5000</td>\n",
       "      <td>5000</td>\n",
       "      <td>...</td>\n",
       "      <td>5000</td>\n",
       "      <td>5000</td>\n",
       "      <td>5000</td>\n",
       "      <td>5000</td>\n",
       "      <td>5000</td>\n",
       "      <td>5000</td>\n",
       "      <td>5000</td>\n",
       "      <td>5000</td>\n",
       "      <td>5000</td>\n",
       "      <td>5000</td>\n",
       "    </tr>\n",
       "    <tr>\n",
       "      <th>unique</th>\n",
       "      <td>5000</td>\n",
       "      <td>6</td>\n",
       "      <td>2</td>\n",
       "      <td>6</td>\n",
       "      <td>2</td>\n",
       "      <td>2</td>\n",
       "      <td>3</td>\n",
       "      <td>3</td>\n",
       "      <td>801</td>\n",
       "      <td>42</td>\n",
       "      <td>...</td>\n",
       "      <td>2</td>\n",
       "      <td>2</td>\n",
       "      <td>2</td>\n",
       "      <td>2</td>\n",
       "      <td>2</td>\n",
       "      <td>2</td>\n",
       "      <td>2</td>\n",
       "      <td>2</td>\n",
       "      <td>2</td>\n",
       "      <td>2</td>\n",
       "    </tr>\n",
       "    <tr>\n",
       "      <th>top</th>\n",
       "      <td>3877-LGSNNT-CP6</td>\n",
       "      <td>1</td>\n",
       "      <td>Female</td>\n",
       "      <td>Sales</td>\n",
       "      <td>No</td>\n",
       "      <td>No</td>\n",
       "      <td>Own</td>\n",
       "      <td>Domestic</td>\n",
       "      <td>$(1,000.00)</td>\n",
       "      <td>24</td>\n",
       "      <td>...</td>\n",
       "      <td>No</td>\n",
       "      <td>No</td>\n",
       "      <td>No</td>\n",
       "      <td>No</td>\n",
       "      <td>No</td>\n",
       "      <td>Yes</td>\n",
       "      <td>No</td>\n",
       "      <td>No</td>\n",
       "      <td>No</td>\n",
       "      <td>No</td>\n",
       "    </tr>\n",
       "    <tr>\n",
       "      <th>freq</th>\n",
       "      <td>1</td>\n",
       "      <td>1436</td>\n",
       "      <td>2494</td>\n",
       "      <td>1650</td>\n",
       "      <td>4244</td>\n",
       "      <td>4262</td>\n",
       "      <td>3704</td>\n",
       "      <td>2287</td>\n",
       "      <td>497</td>\n",
       "      <td>336</td>\n",
       "      <td>...</td>\n",
       "      <td>2624</td>\n",
       "      <td>2605</td>\n",
       "      <td>2597</td>\n",
       "      <td>2610</td>\n",
       "      <td>3257</td>\n",
       "      <td>3164</td>\n",
       "      <td>2604</td>\n",
       "      <td>2626</td>\n",
       "      <td>4106</td>\n",
       "      <td>2637</td>\n",
       "    </tr>\n",
       "  </tbody>\n",
       "</table>\n",
       "<p>4 rows × 38 columns</p>\n",
       "</div>"
      ],
      "text/plain": [
       "             CustomerID TownSize  Gender JobCategory UnionMember Retired  \\\n",
       "count              5000     5000    4967        5000        5000    5000   \n",
       "unique             5000        6       2           6           2       2   \n",
       "top     3877-LGSNNT-CP6        1  Female       Sales          No      No   \n",
       "freq                  1     1436    2494        1650        4244    4262   \n",
       "\n",
       "       CarOwnership  CarBrand      CarValue CommuteTime  ... CallerID  \\\n",
       "count          5000      5000          5000        5000  ...     5000   \n",
       "unique            3         3           801          42  ...        2   \n",
       "top             Own  Domestic   $(1,000.00)          24  ...       No   \n",
       "freq           3704      2287           497         336  ...     2624   \n",
       "\n",
       "       CallWait CallForward ThreeWayCalling EBilling OwnsPC OwnsMobileDevice  \\\n",
       "count      5000        5000            5000     5000   5000             5000   \n",
       "unique        2           2               2        2      2                2   \n",
       "top          No          No              No       No    Yes               No   \n",
       "freq       2605        2597            2610     3257   3164             2604   \n",
       "\n",
       "       OwnsGameSystem OwnsFax NewsSubscriber  \n",
       "count            5000    5000           5000  \n",
       "unique              2       2              2  \n",
       "top                No      No             No  \n",
       "freq             2626    4106           2637  \n",
       "\n",
       "[4 rows x 38 columns]"
      ]
     },
     "execution_count": 48,
     "metadata": {},
     "output_type": "execute_result"
    }
   ],
   "source": [
    "cust_df.describe(include = [np.object])"
   ]
  },
  {
   "cell_type": "code",
   "execution_count": 49,
   "metadata": {},
   "outputs": [
    {
     "data": {
      "text/plain": [
       "count    5000.000000\n",
       "mean        9.954160\n",
       "std         6.399783\n",
       "min         0.000000\n",
       "25%         5.100000\n",
       "50%         8.800000\n",
       "75%        13.600000\n",
       "max        43.100000\n",
       "Name: DebtToIncomeRatio, dtype: float64"
      ]
     },
     "execution_count": 49,
     "metadata": {},
     "output_type": "execute_result"
    }
   ],
   "source": [
    "cust_df.DebtToIncomeRatio.describe()"
   ]
  },
  {
   "cell_type": "code",
   "execution_count": 50,
   "metadata": {},
   "outputs": [
    {
     "name": "stdout",
     "output_type": "stream",
     "text": [
      "No     2604\n",
      "Yes    2396\n",
      "Name: OwnsMobileDevice, dtype: int64\n"
     ]
    }
   ],
   "source": [
    "print (pd.value_counts(cust_df['OwnsMobileDevice']))"
   ]
  },
  {
   "cell_type": "code",
   "execution_count": 51,
   "metadata": {},
   "outputs": [
    {
     "data": {
      "text/plain": [
       "No     2604\n",
       "Yes    2396\n",
       "Name: OwnsMobileDevice, dtype: int64"
      ]
     },
     "execution_count": 51,
     "metadata": {},
     "output_type": "execute_result"
    }
   ],
   "source": [
    "cust_df['OwnsMobileDevice'].value_counts()"
   ]
  },
  {
   "cell_type": "code",
   "execution_count": 52,
   "metadata": {},
   "outputs": [],
   "source": [
    "#Binning continuous variables\n",
    "def binning(col, cut_points, labels=None):\n",
    "  #Define min and max values:\n",
    "  minval = col.min()\n",
    "  maxval = col.max()\n",
    "\n",
    "  #create list by adding min and max to cut_points\n",
    "  break_points = [minval] + cut_points + [maxval]\n",
    "  print(break_points)  \n",
    "  #if no labels provided, use default labels 0 ... (n-1)\n",
    "  if not labels:\n",
    "    labels = range(1,len(cut_points)+2)\n",
    "  print(labels)\n",
    "  #Binning using cut function of pandas\n",
    "  colBin = pd.cut(col,bins=break_points,labels=labels,include_lowest=True)\n",
    "  return colBin"
   ]
  },
  {
   "cell_type": "code",
   "execution_count": 53,
   "metadata": {},
   "outputs": [
    {
     "name": "stdout",
     "output_type": "stream",
     "text": [
      "[0.0, 5, 10, 15, 43.1]\n",
      "range(1, 5)\n",
      "1    1215\n",
      "2    1662\n",
      "3    1176\n",
      "4     947\n",
      "Name: DebtToIncomeRatio_Recoded, dtype: int64\n"
     ]
    }
   ],
   "source": [
    "#Binning DebtToIncomeRatio:\n",
    "cut_points = [5,10,15]\n",
    "#labels = [\"low\",\"medium\",\"high\",\"very high\"]\n",
    "#cust_df[\"DebtToIncomeRatio_Recoded\"] = binning(cust_df[\"DebtToIncomeRatio\"], cut_points,labels)\n",
    "#To get labels that start from 0 modify above range function; To use labels add labels in binning function below\n",
    "cust_df[\"DebtToIncomeRatio_Recoded\"] = binning(cust_df[\"DebtToIncomeRatio\"], cut_points)\n",
    "print (pd.value_counts(cust_df[\"DebtToIncomeRatio_Recoded\"], sort=False))"
   ]
  },
  {
   "cell_type": "code",
   "execution_count": 54,
   "metadata": {},
   "outputs": [
    {
     "data": {
      "text/plain": [
       "count    5000.000000\n",
       "mean       47.025600\n",
       "std        17.770338\n",
       "min        18.000000\n",
       "25%        31.000000\n",
       "50%        47.000000\n",
       "75%        62.000000\n",
       "max        79.000000\n",
       "Name: Age, dtype: float64"
      ]
     },
     "execution_count": 54,
     "metadata": {},
     "output_type": "execute_result"
    }
   ],
   "source": [
    "cust_df.Age.describe()"
   ]
  },
  {
   "cell_type": "code",
   "execution_count": 55,
   "metadata": {},
   "outputs": [
    {
     "name": "stdout",
     "output_type": "stream",
     "text": [
      "[18, 31, 47, 62, 79]\n",
      "['18-31', '>31-47', '>47-62', '>62']\n",
      "18-31     1253\n",
      ">31-47    1322\n",
      ">47-62    1187\n",
      ">62       1238\n",
      "Name: Age_Recoded, dtype: int64\n"
     ]
    }
   ],
   "source": [
    "#Binning Age:\n",
    "cut_points = [31,47,62]\n",
    "labels = [\"18-31\",\">31-47\",\">47-62\",\">62\"]\n",
    "cust_df[\"Age_Recoded\"] = binning(cust_df[\"Age\"], cut_points,labels)\n",
    "print (pd.value_counts(cust_df[\"Age_Recoded\"], sort=False))"
   ]
  },
  {
   "cell_type": "code",
   "execution_count": 56,
   "metadata": {},
   "outputs": [
    {
     "data": {
      "text/plain": [
       "count    5000.000000\n",
       "mean       38.204800\n",
       "std        22.661888\n",
       "min         0.000000\n",
       "25%        18.000000\n",
       "50%        38.000000\n",
       "75%        59.000000\n",
       "max        72.000000\n",
       "Name: PhoneCoTenure, dtype: float64"
      ]
     },
     "execution_count": 56,
     "metadata": {},
     "output_type": "execute_result"
    }
   ],
   "source": [
    "cust_df.PhoneCoTenure.describe()"
   ]
  },
  {
   "cell_type": "code",
   "execution_count": 57,
   "metadata": {},
   "outputs": [
    {
     "name": "stdout",
     "output_type": "stream",
     "text": [
      "[0, 18, 38, 59, 72]\n",
      "['0-18', '>18-38', '>38-59', '>59']\n",
      "0-18      1304\n",
      ">18-38    1213\n",
      ">38-59    1239\n",
      ">59       1244\n",
      "Name: PhoneCoTenure_Coded, dtype: int64\n"
     ]
    }
   ],
   "source": [
    "#Binning PhoneCoTenure:\n",
    "cut_points = [18,38,59]\n",
    "labels = [\"0-18\",\">18-38\",\">38-59\",\">59\"]\n",
    "cust_df[\"PhoneCoTenure_Coded\"] = binning(cust_df['PhoneCoTenure'], cut_points,labels)\n",
    "print (pd.value_counts(cust_df['PhoneCoTenure_Coded'], sort=False))"
   ]
  },
  {
   "cell_type": "code",
   "execution_count": 58,
   "metadata": {},
   "outputs": [
    {
     "data": {
      "text/plain": [
       "Sales           1650\n",
       "Professional    1380\n",
       "Labor            686\n",
       "Service          620\n",
       "Crafts           452\n",
       "Agriculture      212\n",
       "Name: JobCategory, dtype: int64"
      ]
     },
     "execution_count": 58,
     "metadata": {},
     "output_type": "execute_result"
    }
   ],
   "source": [
    "cust_df['JobCategory'].value_counts()"
   ]
  },
  {
   "cell_type": "code",
   "execution_count": 59,
   "metadata": {},
   "outputs": [
    {
     "name": "stdout",
     "output_type": "stream",
     "text": [
      "                                DebtToIncomeRatio\n",
      "Gender LoanDefault Age_Recoded                   \n",
      "Female 1           18-31                12.100949\n",
      "                   >31-47               13.888889\n",
      "                   >47-62               18.449315\n",
      "                   >62                  16.936667\n",
      "       2           18-31                 7.615773\n",
      "                   >31-47                8.575502\n",
      "                   >47-62                9.325333\n",
      "                   >62                   9.301745\n",
      "Male   1           18-31                11.483000\n",
      "                   >31-47               13.780745\n",
      "                   >47-62               15.282022\n",
      "                   >62                  18.703226\n",
      "       2           18-31                 7.415705\n",
      "                   >31-47                8.225255\n",
      "                   >47-62                9.120892\n",
      "                   >62                  10.127181\n"
     ]
    }
   ],
   "source": [
    "#Creating pivot tables; Higher levels of DebtToIncomeRatio for Yes to LoanDefault\n",
    "LoanDefault_Grps = cust_df.pivot_table(values=[\"DebtToIncomeRatio\"], index=['Gender','LoanDefault','Age_Recoded'], aggfunc=np.mean)\n",
    "print (LoanDefault_Grps)"
   ]
  },
  {
   "cell_type": "code",
   "execution_count": 60,
   "metadata": {},
   "outputs": [],
   "source": [
    "#Coding a nominal variable into a numeric variable\n",
    "#Define a generic function using Pandas replace function\n",
    "def coding(col, codeDict):\n",
    "  colCoded = pd.Series(col, copy=True)\n",
    "  for key, value in codeDict.items():\n",
    "    colCoded.replace(key, value, inplace=True)\n",
    "  return colCoded"
   ]
  },
  {
   "cell_type": "code",
   "execution_count": 61,
   "metadata": {},
   "outputs": [
    {
     "name": "stdout",
     "output_type": "stream",
     "text": [
      "Before Coding:\n",
      "No     2604\n",
      "Yes    2396\n",
      "Name: OwnsMobileDevice, dtype: int64\n",
      "\n",
      "After Coding:\n",
      "2    2604\n",
      "1    2396\n",
      "Name: OwnsMobileDevice_Coded, dtype: int64\n"
     ]
    }
   ],
   "source": [
    "#Coding LoanStatus as Y=1, N=0:\n",
    "print ('Before Coding:')\n",
    "print (pd.value_counts(cust_df['OwnsMobileDevice']))\n",
    "cust_df['OwnsMobileDevice_Coded'] = coding(cust_df['OwnsMobileDevice'], {'No':2,'Yes':1})\n",
    "print ('\\nAfter Coding:')\n",
    "print (pd.value_counts(cust_df['OwnsMobileDevice_Coded']))"
   ]
  },
  {
   "cell_type": "code",
   "execution_count": 62,
   "metadata": {},
   "outputs": [
    {
     "data": {
      "text/plain": [
       "['CustomerID',\n",
       " 'Region',\n",
       " 'TownSize',\n",
       " 'Gender',\n",
       " 'Age',\n",
       " 'EducationYears',\n",
       " 'JobCategory',\n",
       " 'UnionMember',\n",
       " 'EmploymentLength',\n",
       " 'Retired',\n",
       " 'HHIncome',\n",
       " 'DebtToIncomeRatio',\n",
       " 'CreditDebt',\n",
       " 'OtherDebt',\n",
       " 'LoanDefault',\n",
       " 'MaritalStatus',\n",
       " 'HouseholdSize',\n",
       " 'NumberPets',\n",
       " 'NumberCats',\n",
       " 'NumberDogs',\n",
       " 'NumberBirds',\n",
       " 'HomeOwner',\n",
       " 'CarsOwned',\n",
       " 'CarOwnership',\n",
       " 'CarBrand',\n",
       " 'CarValue',\n",
       " 'CommuteTime',\n",
       " 'PoliticalPartyMem',\n",
       " 'Votes',\n",
       " 'CreditCard',\n",
       " 'CardTenure',\n",
       " 'CardItemsMonthly',\n",
       " 'CardSpendMonth',\n",
       " 'ActiveLifestyle',\n",
       " 'PhoneCoTenure',\n",
       " 'VoiceLastMonth',\n",
       " 'VoiceOverTenure',\n",
       " 'EquipmentRental',\n",
       " 'EquipmentLastMonth',\n",
       " 'EquipmentOverTenure',\n",
       " 'CallingCard',\n",
       " 'WirelessData',\n",
       " 'DataLastMonth',\n",
       " 'DataOverTenure',\n",
       " 'Multiline',\n",
       " 'VM',\n",
       " 'Pager',\n",
       " 'Internet',\n",
       " 'CallerID',\n",
       " 'CallWait',\n",
       " 'CallForward',\n",
       " 'ThreeWayCalling',\n",
       " 'EBilling',\n",
       " 'TVWatchingHours',\n",
       " 'OwnsPC',\n",
       " 'OwnsMobileDevice',\n",
       " 'OwnsGameSystem',\n",
       " 'OwnsFax',\n",
       " 'NewsSubscriber',\n",
       " 'Gender_num',\n",
       " 'LoanDefault_num',\n",
       " 'DebtToIncomeRatio_Recoded',\n",
       " 'Age_Recoded',\n",
       " 'PhoneCoTenure_Coded',\n",
       " 'OwnsMobileDevice_Coded']"
      ]
     },
     "execution_count": 62,
     "metadata": {},
     "output_type": "execute_result"
    }
   ],
   "source": [
    "cust_df_colnames = cust_df.columns.values.tolist()\n",
    "cust_df_colnames"
   ]
  },
  {
   "cell_type": "code",
   "execution_count": 63,
   "metadata": {},
   "outputs": [
    {
     "name": "stdout",
     "output_type": "stream",
     "text": [
      "1.0    3140\n",
      "0.0    1847\n",
      "Name: HomeOwner, dtype: int64\n"
     ]
    }
   ],
   "source": [
    "print (pd.value_counts(cust_df['HomeOwner']))"
   ]
  },
  {
   "cell_type": "code",
   "execution_count": 64,
   "metadata": {},
   "outputs": [],
   "source": [
    "cust_df['HomeOwner2'] = cust_df['HomeOwner'] + 1"
   ]
  },
  {
   "cell_type": "code",
   "execution_count": 65,
   "metadata": {},
   "outputs": [
    {
     "name": "stdout",
     "output_type": "stream",
     "text": [
      "2.0    3140\n",
      "1.0    1847\n",
      "Name: HomeOwner2, dtype: int64\n"
     ]
    }
   ],
   "source": [
    "print (pd.value_counts(cust_df['HomeOwner2']))"
   ]
  },
  {
   "cell_type": "code",
   "execution_count": 66,
   "metadata": {},
   "outputs": [
    {
     "name": "stdout",
     "output_type": "stream",
     "text": [
      " $12.60      31\n",
      " $15.00      29\n",
      " $23.70      28\n",
      " $16.95      25\n",
      " $22.50      25\n",
      "             ..\n",
      " $99.00       1\n",
      " $144.90      1\n",
      " $65.85       1\n",
      " $200.25      1\n",
      " $101.25      1\n",
      "Name: VoiceLastMonth, Length: 866, dtype: int64\n"
     ]
    }
   ],
   "source": [
    "print (pd.value_counts(cust_df['VoiceLastMonth']))"
   ]
  },
  {
   "cell_type": "code",
   "execution_count": 67,
   "metadata": {},
   "outputs": [
    {
     "name": "stdout",
     "output_type": "stream",
     "text": [
      "72    251\n",
      "71    147\n",
      "70     98\n",
      "5      94\n",
      "69     94\n",
      "     ... \n",
      "38     51\n",
      "49     48\n",
      "40     47\n",
      "51     40\n",
      "0       3\n",
      "Name: PhoneCoTenure, Length: 73, dtype: int64\n"
     ]
    }
   ],
   "source": [
    "print (pd.value_counts(cust_df['PhoneCoTenure']))"
   ]
  },
  {
   "cell_type": "code",
   "execution_count": 68,
   "metadata": {},
   "outputs": [],
   "source": [
    "cust_df['VoiceLastMonth_Coded'] = cust_df['VoiceLastMonth'].apply(clean_currency).astype('float')"
   ]
  },
  {
   "cell_type": "code",
   "execution_count": 69,
   "metadata": {},
   "outputs": [
    {
     "name": "stderr",
     "output_type": "stream",
     "text": [
      "C:\\Users\\HP\\AppData\\Local\\Temp/ipykernel_10652/3337499891.py:1: DeprecationWarning: scipy.mean is deprecated and will be removed in SciPy 2.0.0, use numpy.mean instead\n",
      "  sc.mean(cust_df['VoiceLastMonth_Coded'])\n"
     ]
    },
    {
     "data": {
      "text/plain": [
       "40.41435"
      ]
     },
     "execution_count": 69,
     "metadata": {},
     "output_type": "execute_result"
    }
   ],
   "source": [
    "sc.mean(cust_df['VoiceLastMonth_Coded'])"
   ]
  },
  {
   "cell_type": "code",
   "execution_count": 70,
   "metadata": {},
   "outputs": [],
   "source": [
    "#pandas_profiling.ProfileReport(cust_df).to_file(\"report_after.html\")"
   ]
  },
  {
   "cell_type": "code",
   "execution_count": 71,
   "metadata": {},
   "outputs": [
    {
     "data": {
      "text/plain": [
       "Index(['CustomerID', 'Region', 'TownSize', 'Gender', 'Age', 'EducationYears',\n",
       "       'JobCategory', 'UnionMember', 'EmploymentLength', 'Retired', 'HHIncome',\n",
       "       'DebtToIncomeRatio', 'CreditDebt', 'OtherDebt', 'LoanDefault',\n",
       "       'MaritalStatus', 'HouseholdSize', 'NumberPets', 'NumberCats',\n",
       "       'NumberDogs', 'NumberBirds', 'HomeOwner', 'CarsOwned', 'CarOwnership',\n",
       "       'CarBrand', 'CarValue', 'CommuteTime', 'PoliticalPartyMem', 'Votes',\n",
       "       'CreditCard', 'CardTenure', 'CardItemsMonthly', 'CardSpendMonth',\n",
       "       'ActiveLifestyle', 'PhoneCoTenure', 'VoiceLastMonth', 'VoiceOverTenure',\n",
       "       'EquipmentRental', 'EquipmentLastMonth', 'EquipmentOverTenure',\n",
       "       'CallingCard', 'WirelessData', 'DataLastMonth', 'DataOverTenure',\n",
       "       'Multiline', 'VM', 'Pager', 'Internet', 'CallerID', 'CallWait',\n",
       "       'CallForward', 'ThreeWayCalling', 'EBilling', 'TVWatchingHours',\n",
       "       'OwnsPC', 'OwnsMobileDevice', 'OwnsGameSystem', 'OwnsFax',\n",
       "       'NewsSubscriber', 'Gender_num', 'LoanDefault_num',\n",
       "       'DebtToIncomeRatio_Recoded', 'Age_Recoded', 'PhoneCoTenure_Coded',\n",
       "       'OwnsMobileDevice_Coded', 'HomeOwner2', 'VoiceLastMonth_Coded'],\n",
       "      dtype='object')"
      ]
     },
     "execution_count": 71,
     "metadata": {},
     "output_type": "execute_result"
    }
   ],
   "source": [
    "cust_df.columns"
   ]
  },
  {
   "cell_type": "code",
   "execution_count": 72,
   "metadata": {},
   "outputs": [],
   "source": [
    "cust_df[\"CarValue\"] = cust_df[\"CarValue\"].replace('[\\$,\\(\\)]', '', regex=True).str.strip().astype(float)"
   ]
  },
  {
   "cell_type": "code",
   "execution_count": 73,
   "metadata": {},
   "outputs": [],
   "source": [
    "cust_df[\"CardSpendMonth\"] = cust_df[\"CardSpendMonth\"].replace('[\\$,\\(\\)]', ''\n",
    "                                                              , regex=True).replace('[-]', '0'\n",
    "                                                                                    , regex=True).str.strip().astype(float)\n",
    "cust_df[\"CardSpendMonth_cat\"] = pd.cut(cust_df[\"CardSpendMonth\"],4,labels = [1,2,3,4])"
   ]
  },
  {
   "cell_type": "code",
   "execution_count": 74,
   "metadata": {},
   "outputs": [],
   "source": [
    "cust_df[\"EquipmentOverTenure\"] = cust_df[\"EquipmentOverTenure\"].replace('[\\$,\\(\\)]', ''\n",
    "                                                              , regex=True).replace('[-]', '0'\n",
    "                                                                                    , regex=True).str.strip().astype(float)\n",
    "cust_df[\"EquipmentOverTenure_cat\"] = pd.cut(cust_df[\"EquipmentOverTenure\"],4,labels = [1,2,3,4])"
   ]
  },
  {
   "cell_type": "code",
   "execution_count": 75,
   "metadata": {},
   "outputs": [
    {
     "name": "stdout",
     "output_type": "stream",
     "text": [
      "\n",
      "After Coding:\n",
      "2    2498\n",
      "1     774\n",
      "3     598\n",
      "4     585\n",
      "2     545\n",
      "Name: Internet, dtype: int64\n"
     ]
    }
   ],
   "source": [
    "cust_df[\"Internet\"] = coding(cust_df[\"Internet\"], {'No':2,'Yes':1})\n",
    "print ('\\nAfter Coding:')\n",
    "print (pd.value_counts(cust_df[\"Internet\"]))"
   ]
  },
  {
   "cell_type": "code",
   "execution_count": 76,
   "metadata": {},
   "outputs": [],
   "source": [
    "cust_df[\"WirelessData\"] = coding(cust_df[\"WirelessData\"], {'No':2,'Yes':1})"
   ]
  },
  {
   "cell_type": "code",
   "execution_count": 77,
   "metadata": {},
   "outputs": [],
   "source": [
    "cust_df[\"CarValue_cat\"] = pd.cut(cust_df[\"CarValue\"],4,labels = [1,2,3,4])"
   ]
  },
  {
   "cell_type": "code",
   "execution_count": 78,
   "metadata": {},
   "outputs": [],
   "source": [
    "cust_df['Age_Recoded'] = coding(cust_df['Age_Recoded'], {'18-31':1,'>31-47':2,\n",
    "                                                         '>47-62':3,'>62':4})"
   ]
  },
  {
   "cell_type": "code",
   "execution_count": 79,
   "metadata": {},
   "outputs": [
    {
     "data": {
      "text/plain": [
       "[1, 4, 3, 2]\n",
       "Categories (4, int64): [1 < 2 < 3 < 4]"
      ]
     },
     "execution_count": 79,
     "metadata": {},
     "output_type": "execute_result"
    }
   ],
   "source": [
    "cust_df[\"Age_Recoded\"].unique()"
   ]
  },
  {
   "cell_type": "code",
   "execution_count": 80,
   "metadata": {},
   "outputs": [],
   "source": [
    "cust_df['PhoneCoTenure_Coded'] = coding(cust_df['PhoneCoTenure_Coded'], {'0-18':1,'>18-38':2,\n",
    "                                                         '>38-59':3,'>59':4})"
   ]
  },
  {
   "cell_type": "code",
   "execution_count": 81,
   "metadata": {},
   "outputs": [
    {
     "data": {
      "text/plain": [
       "[1, 3, 4, 2]\n",
       "Categories (4, int64): [1 < 2 < 3 < 4]"
      ]
     },
     "execution_count": 81,
     "metadata": {},
     "output_type": "execute_result"
    }
   ],
   "source": [
    "cust_df['PhoneCoTenure_Coded'].unique()"
   ]
  },
  {
   "cell_type": "code",
   "execution_count": 82,
   "metadata": {},
   "outputs": [],
   "source": [
    "cust_df[\"DataOverTenure\"] = cust_df[\"DataOverTenure\"].replace('[\\$,\\(\\)]', ''\n",
    "                                                              , regex=True).replace('[-]', '0'\n",
    "                                                                                    , regex=True).str.strip().astype(float)\n",
    "cust_df[\"DataOverTenure_coded\"] = pd.cut(cust_df[\"DataOverTenure\"],4,labels = [1,2,3,4])"
   ]
  },
  {
   "cell_type": "code",
   "execution_count": 145,
   "metadata": {},
   "outputs": [
    {
     "data": {
      "text/plain": [
       "[1, 2, 3, 4]\n",
       "Categories (4, int64): [1 < 2 < 3 < 4]"
      ]
     },
     "execution_count": 145,
     "metadata": {},
     "output_type": "execute_result"
    }
   ],
   "source": [
    "cust_df[\"DataOverTenure_coded\"].unique()"
   ]
  },
  {
   "cell_type": "code",
   "execution_count": 141,
   "metadata": {},
   "outputs": [
    {
     "data": {
      "text/plain": [
       "0       1\n",
       "1       1\n",
       "2       1\n",
       "3       1\n",
       "4       1\n",
       "       ..\n",
       "4995    1\n",
       "4996    1\n",
       "4997    1\n",
       "4998    1\n",
       "4999    1\n",
       "Name: DataOverTenure_coded, Length: 5000, dtype: category\n",
       "Categories (4, int64): [1 < 2 < 3 < 4]"
      ]
     },
     "execution_count": 141,
     "metadata": {},
     "output_type": "execute_result"
    }
   ],
   "source": [
    "cust_df[\"DataOverTenure_coded\"]"
   ]
  },
  {
   "cell_type": "code",
   "execution_count": 84,
   "metadata": {},
   "outputs": [],
   "source": [
    "cust_df[\"EquipmentOverTenure_cat\"] = pd.cut(cust_df[\"EquipmentOverTenure\"],4,labels = [1,2,3,4])"
   ]
  },
  {
   "cell_type": "code",
   "execution_count": 85,
   "metadata": {},
   "outputs": [],
   "source": [
    "#pandas_profiling.ProfileReport(cust_df).to_file(\"report.html\")"
   ]
  },
  {
   "cell_type": "code",
   "execution_count": 86,
   "metadata": {},
   "outputs": [],
   "source": [
    "#cust_df.to_csv(path_or_buf=\"aug_cust.csv\")"
   ]
  },
  {
   "cell_type": "code",
   "execution_count": 87,
   "metadata": {},
   "outputs": [],
   "source": [
    "col_list = ['Region','CardSpendMonth_cat','VoiceLastMonth_Coded',\n",
    "            'HomeOwner2','OwnsMobileDevice_Coded',\n",
    "            'PhoneCoTenure_Coded','Age_Recoded',\n",
    "            'DebtToIncomeRatio_Recoded','LoanDefault_num',\n",
    "            'Gender_num','MaritalStatus','WirelessData',\n",
    "            'DataOverTenure']"
   ]
  },
  {
   "cell_type": "code",
   "execution_count": 88,
   "metadata": {},
   "outputs": [],
   "source": [
    "#from itertools import permutations\n",
    "#col_comb = list(permutations(col_list,10))\n",
    "#col_comb"
   ]
  },
  {
   "cell_type": "code",
   "execution_count": 147,
   "metadata": {
    "scrolled": true
   },
   "outputs": [
    {
     "data": {
      "text/plain": [
       "7"
      ]
     },
     "execution_count": 147,
     "metadata": {},
     "output_type": "execute_result"
    }
   ],
   "source": [
    "#Selecting the columns or variables that you want to use for clustering\n",
    "col_list = ['Age_Recoded','LoanDefault_num','WirelessData','PhoneCoTenure_Coded',\n",
    "            'CardSpendMonth_cat','OwnsMobileDevice_Coded',\n",
    "            'VoiceLastMonth_Coded']\n",
    "len(col_list)"
   ]
  },
  {
   "cell_type": "code",
   "execution_count": 148,
   "metadata": {},
   "outputs": [],
   "source": [
    "cust_df_kmeans = cust_df[col_list]"
   ]
  },
  {
   "cell_type": "code",
   "execution_count": 149,
   "metadata": {},
   "outputs": [],
   "source": [
    "cust_df_kmeans = cust_df_kmeans.dropna(how='any',axis=0)"
   ]
  },
  {
   "cell_type": "code",
   "execution_count": 150,
   "metadata": {},
   "outputs": [],
   "source": [
    "#cust_df_kmeans = cust_df_kmeans[0:500]"
   ]
  },
  {
   "cell_type": "code",
   "execution_count": 151,
   "metadata": {},
   "outputs": [
    {
     "data": {
      "text/html": [
       "<div>\n",
       "<style scoped>\n",
       "    .dataframe tbody tr th:only-of-type {\n",
       "        vertical-align: middle;\n",
       "    }\n",
       "\n",
       "    .dataframe tbody tr th {\n",
       "        vertical-align: top;\n",
       "    }\n",
       "\n",
       "    .dataframe thead th {\n",
       "        text-align: right;\n",
       "    }\n",
       "</style>\n",
       "<table border=\"1\" class=\"dataframe\">\n",
       "  <thead>\n",
       "    <tr style=\"text-align: right;\">\n",
       "      <th></th>\n",
       "      <th>Age_Recoded</th>\n",
       "      <th>LoanDefault_num</th>\n",
       "      <th>WirelessData</th>\n",
       "      <th>PhoneCoTenure_Coded</th>\n",
       "      <th>CardSpendMonth_cat</th>\n",
       "      <th>OwnsMobileDevice_Coded</th>\n",
       "      <th>VoiceLastMonth_Coded</th>\n",
       "    </tr>\n",
       "  </thead>\n",
       "  <tbody>\n",
       "    <tr>\n",
       "      <th>0</th>\n",
       "      <td>1</td>\n",
       "      <td>1</td>\n",
       "      <td>2</td>\n",
       "      <td>1</td>\n",
       "      <td>1</td>\n",
       "      <td>1</td>\n",
       "      <td>19.50</td>\n",
       "    </tr>\n",
       "    <tr>\n",
       "      <th>1</th>\n",
       "      <td>1</td>\n",
       "      <td>1</td>\n",
       "      <td>1</td>\n",
       "      <td>3</td>\n",
       "      <td>1</td>\n",
       "      <td>1</td>\n",
       "      <td>26.70</td>\n",
       "    </tr>\n",
       "    <tr>\n",
       "      <th>2</th>\n",
       "      <td>4</td>\n",
       "      <td>2</td>\n",
       "      <td>2</td>\n",
       "      <td>4</td>\n",
       "      <td>1</td>\n",
       "      <td>2</td>\n",
       "      <td>85.20</td>\n",
       "    </tr>\n",
       "    <tr>\n",
       "      <th>3</th>\n",
       "      <td>1</td>\n",
       "      <td>1</td>\n",
       "      <td>2</td>\n",
       "      <td>2</td>\n",
       "      <td>1</td>\n",
       "      <td>1</td>\n",
       "      <td>18.00</td>\n",
       "    </tr>\n",
       "    <tr>\n",
       "      <th>4</th>\n",
       "      <td>1</td>\n",
       "      <td>2</td>\n",
       "      <td>1</td>\n",
       "      <td>2</td>\n",
       "      <td>1</td>\n",
       "      <td>2</td>\n",
       "      <td>9.15</td>\n",
       "    </tr>\n",
       "  </tbody>\n",
       "</table>\n",
       "</div>"
      ],
      "text/plain": [
       "  Age_Recoded  LoanDefault_num  WirelessData PhoneCoTenure_Coded  \\\n",
       "0           1                1             2                   1   \n",
       "1           1                1             1                   3   \n",
       "2           4                2             2                   4   \n",
       "3           1                1             2                   2   \n",
       "4           1                2             1                   2   \n",
       "\n",
       "  CardSpendMonth_cat  OwnsMobileDevice_Coded  VoiceLastMonth_Coded  \n",
       "0                  1                       1                 19.50  \n",
       "1                  1                       1                 26.70  \n",
       "2                  1                       2                 85.20  \n",
       "3                  1                       1                 18.00  \n",
       "4                  1                       2                  9.15  "
      ]
     },
     "execution_count": 151,
     "metadata": {},
     "output_type": "execute_result"
    }
   ],
   "source": [
    "cust_df_kmeans.head(5)"
   ]
  },
  {
   "cell_type": "code",
   "execution_count": 152,
   "metadata": {},
   "outputs": [
    {
     "data": {
      "text/plain": [
       "(5000, 7)"
      ]
     },
     "execution_count": 152,
     "metadata": {},
     "output_type": "execute_result"
    }
   ],
   "source": [
    "cust_df_kmeans.shape"
   ]
  },
  {
   "cell_type": "code",
   "execution_count": 153,
   "metadata": {},
   "outputs": [
    {
     "name": "stdout",
     "output_type": "stream",
     "text": [
      "<class 'pandas.core.frame.DataFrame'>\n",
      "Int64Index: 5000 entries, 0 to 4999\n",
      "Data columns (total 7 columns):\n",
      " #   Column                  Non-Null Count  Dtype   \n",
      "---  ------                  --------------  -----   \n",
      " 0   Age_Recoded             5000 non-null   category\n",
      " 1   LoanDefault_num         5000 non-null   int64   \n",
      " 2   WirelessData            5000 non-null   int64   \n",
      " 3   PhoneCoTenure_Coded     5000 non-null   category\n",
      " 4   CardSpendMonth_cat      5000 non-null   category\n",
      " 5   OwnsMobileDevice_Coded  5000 non-null   int64   \n",
      " 6   VoiceLastMonth_Coded    5000 non-null   float64 \n",
      "dtypes: category(3), float64(1), int64(3)\n",
      "memory usage: 210.6 KB\n"
     ]
    }
   ],
   "source": [
    "cust_df_kmeans.info()"
   ]
  },
  {
   "cell_type": "code",
   "execution_count": 154,
   "metadata": {},
   "outputs": [],
   "source": [
    "#test = ufo.loc[~ufo.index.isin(train.index), :]"
   ]
  },
  {
   "cell_type": "code",
   "execution_count": 155,
   "metadata": {},
   "outputs": [
    {
     "data": {
      "text/html": [
       "<div>\n",
       "<style scoped>\n",
       "    .dataframe tbody tr th:only-of-type {\n",
       "        vertical-align: middle;\n",
       "    }\n",
       "\n",
       "    .dataframe tbody tr th {\n",
       "        vertical-align: top;\n",
       "    }\n",
       "\n",
       "    .dataframe thead th {\n",
       "        text-align: right;\n",
       "    }\n",
       "</style>\n",
       "<table border=\"1\" class=\"dataframe\">\n",
       "  <thead>\n",
       "    <tr style=\"text-align: right;\">\n",
       "      <th></th>\n",
       "      <th>0</th>\n",
       "      <th>1</th>\n",
       "      <th>2</th>\n",
       "      <th>3</th>\n",
       "      <th>4</th>\n",
       "      <th>5</th>\n",
       "      <th>6</th>\n",
       "    </tr>\n",
       "  </thead>\n",
       "  <tbody>\n",
       "    <tr>\n",
       "      <th>0</th>\n",
       "      <td>-1.327627</td>\n",
       "      <td>-1.808274</td>\n",
       "      <td>0.606313</td>\n",
       "      <td>-1.317908</td>\n",
       "      <td>-0.155168</td>\n",
       "      <td>-1.042502</td>\n",
       "      <td>-0.545834</td>\n",
       "    </tr>\n",
       "    <tr>\n",
       "      <th>1</th>\n",
       "      <td>-1.327627</td>\n",
       "      <td>-1.808274</td>\n",
       "      <td>-1.649314</td>\n",
       "      <td>0.457530</td>\n",
       "      <td>-0.155168</td>\n",
       "      <td>-1.042502</td>\n",
       "      <td>-0.357925</td>\n",
       "    </tr>\n",
       "    <tr>\n",
       "      <th>2</th>\n",
       "      <td>1.359877</td>\n",
       "      <td>0.553014</td>\n",
       "      <td>0.606313</td>\n",
       "      <td>1.345249</td>\n",
       "      <td>-0.155168</td>\n",
       "      <td>0.959230</td>\n",
       "      <td>1.168840</td>\n",
       "    </tr>\n",
       "    <tr>\n",
       "      <th>3</th>\n",
       "      <td>-1.327627</td>\n",
       "      <td>-1.808274</td>\n",
       "      <td>0.606313</td>\n",
       "      <td>-0.430189</td>\n",
       "      <td>-0.155168</td>\n",
       "      <td>-1.042502</td>\n",
       "      <td>-0.584982</td>\n",
       "    </tr>\n",
       "    <tr>\n",
       "      <th>4</th>\n",
       "      <td>-1.327627</td>\n",
       "      <td>0.553014</td>\n",
       "      <td>-1.649314</td>\n",
       "      <td>-0.430189</td>\n",
       "      <td>-0.155168</td>\n",
       "      <td>0.959230</td>\n",
       "      <td>-0.815954</td>\n",
       "    </tr>\n",
       "  </tbody>\n",
       "</table>\n",
       "</div>"
      ],
      "text/plain": [
       "          0         1         2         3         4         5         6\n",
       "0 -1.327627 -1.808274  0.606313 -1.317908 -0.155168 -1.042502 -0.545834\n",
       "1 -1.327627 -1.808274 -1.649314  0.457530 -0.155168 -1.042502 -0.357925\n",
       "2  1.359877  0.553014  0.606313  1.345249 -0.155168  0.959230  1.168840\n",
       "3 -1.327627 -1.808274  0.606313 -0.430189 -0.155168 -1.042502 -0.584982\n",
       "4 -1.327627  0.553014 -1.649314 -0.430189 -0.155168  0.959230 -0.815954"
      ]
     },
     "execution_count": 155,
     "metadata": {},
     "output_type": "execute_result"
    }
   ],
   "source": [
    "# standardizing the data\n",
    "from sklearn.preprocessing import StandardScaler\n",
    "scaler = StandardScaler()\n",
    "cust_kmeans_scaled = scaler.fit_transform(cust_df_kmeans)\n",
    "#Assign the scaled data to a DataFrame using the index keyword arguments\n",
    "cust_kmeans_scaled_df = pd.DataFrame(cust_kmeans_scaled, index = cust_df_kmeans.index)\n",
    "cust_kmeans_scaled_df.head()"
   ]
  },
  {
   "cell_type": "code",
   "execution_count": 156,
   "metadata": {},
   "outputs": [
    {
     "data": {
      "text/html": [
       "<div>\n",
       "<style scoped>\n",
       "    .dataframe tbody tr th:only-of-type {\n",
       "        vertical-align: middle;\n",
       "    }\n",
       "\n",
       "    .dataframe tbody tr th {\n",
       "        vertical-align: top;\n",
       "    }\n",
       "\n",
       "    .dataframe thead th {\n",
       "        text-align: right;\n",
       "    }\n",
       "</style>\n",
       "<table border=\"1\" class=\"dataframe\">\n",
       "  <thead>\n",
       "    <tr style=\"text-align: right;\">\n",
       "      <th></th>\n",
       "      <th>0</th>\n",
       "      <th>1</th>\n",
       "      <th>2</th>\n",
       "      <th>3</th>\n",
       "      <th>4</th>\n",
       "      <th>5</th>\n",
       "      <th>6</th>\n",
       "    </tr>\n",
       "  </thead>\n",
       "  <tbody>\n",
       "    <tr>\n",
       "      <th>count</th>\n",
       "      <td>5.000000e+03</td>\n",
       "      <td>5.000000e+03</td>\n",
       "      <td>5.000000e+03</td>\n",
       "      <td>5.000000e+03</td>\n",
       "      <td>5.000000e+03</td>\n",
       "      <td>5.000000e+03</td>\n",
       "      <td>5.000000e+03</td>\n",
       "    </tr>\n",
       "    <tr>\n",
       "      <th>mean</th>\n",
       "      <td>-1.676881e-16</td>\n",
       "      <td>-5.115908e-17</td>\n",
       "      <td>-1.080025e-16</td>\n",
       "      <td>7.105427e-17</td>\n",
       "      <td>-3.783640e-16</td>\n",
       "      <td>7.744916e-17</td>\n",
       "      <td>3.126388e-17</td>\n",
       "    </tr>\n",
       "    <tr>\n",
       "      <th>std</th>\n",
       "      <td>1.000100e+00</td>\n",
       "      <td>1.000100e+00</td>\n",
       "      <td>1.000100e+00</td>\n",
       "      <td>1.000100e+00</td>\n",
       "      <td>1.000100e+00</td>\n",
       "      <td>1.000100e+00</td>\n",
       "      <td>1.000100e+00</td>\n",
       "    </tr>\n",
       "    <tr>\n",
       "      <th>min</th>\n",
       "      <td>-1.327627e+00</td>\n",
       "      <td>-1.808274e+00</td>\n",
       "      <td>-1.649314e+00</td>\n",
       "      <td>-1.317908e+00</td>\n",
       "      <td>-1.551683e-01</td>\n",
       "      <td>-1.042502e+00</td>\n",
       "      <td>-9.842897e-01</td>\n",
       "    </tr>\n",
       "    <tr>\n",
       "      <th>25%</th>\n",
       "      <td>-1.327627e+00</td>\n",
       "      <td>5.530135e-01</td>\n",
       "      <td>-1.649314e+00</td>\n",
       "      <td>-1.317908e+00</td>\n",
       "      <td>-1.551683e-01</td>\n",
       "      <td>-1.042502e+00</td>\n",
       "      <td>-6.084706e-01</td>\n",
       "    </tr>\n",
       "    <tr>\n",
       "      <th>50%</th>\n",
       "      <td>-4.317922e-01</td>\n",
       "      <td>5.530135e-01</td>\n",
       "      <td>6.063125e-01</td>\n",
       "      <td>-4.301887e-01</td>\n",
       "      <td>-1.551683e-01</td>\n",
       "      <td>9.592304e-01</td>\n",
       "      <td>-3.070324e-01</td>\n",
       "    </tr>\n",
       "    <tr>\n",
       "      <th>75%</th>\n",
       "      <td>4.640422e-01</td>\n",
       "      <td>5.530135e-01</td>\n",
       "      <td>6.063125e-01</td>\n",
       "      <td>4.575304e-01</td>\n",
       "      <td>-1.551683e-01</td>\n",
       "      <td>9.592304e-01</td>\n",
       "      <td>2.410370e-01</td>\n",
       "    </tr>\n",
       "    <tr>\n",
       "      <th>max</th>\n",
       "      <td>1.359877e+00</td>\n",
       "      <td>5.530135e-01</td>\n",
       "      <td>6.063125e-01</td>\n",
       "      <td>1.345249e+00</td>\n",
       "      <td>1.671095e+01</td>\n",
       "      <td>9.592304e-01</td>\n",
       "      <td>1.302671e+01</td>\n",
       "    </tr>\n",
       "  </tbody>\n",
       "</table>\n",
       "</div>"
      ],
      "text/plain": [
       "                  0             1             2             3             4  \\\n",
       "count  5.000000e+03  5.000000e+03  5.000000e+03  5.000000e+03  5.000000e+03   \n",
       "mean  -1.676881e-16 -5.115908e-17 -1.080025e-16  7.105427e-17 -3.783640e-16   \n",
       "std    1.000100e+00  1.000100e+00  1.000100e+00  1.000100e+00  1.000100e+00   \n",
       "min   -1.327627e+00 -1.808274e+00 -1.649314e+00 -1.317908e+00 -1.551683e-01   \n",
       "25%   -1.327627e+00  5.530135e-01 -1.649314e+00 -1.317908e+00 -1.551683e-01   \n",
       "50%   -4.317922e-01  5.530135e-01  6.063125e-01 -4.301887e-01 -1.551683e-01   \n",
       "75%    4.640422e-01  5.530135e-01  6.063125e-01  4.575304e-01 -1.551683e-01   \n",
       "max    1.359877e+00  5.530135e-01  6.063125e-01  1.345249e+00  1.671095e+01   \n",
       "\n",
       "                  5             6  \n",
       "count  5.000000e+03  5.000000e+03  \n",
       "mean   7.744916e-17  3.126388e-17  \n",
       "std    1.000100e+00  1.000100e+00  \n",
       "min   -1.042502e+00 -9.842897e-01  \n",
       "25%   -1.042502e+00 -6.084706e-01  \n",
       "50%    9.592304e-01 -3.070324e-01  \n",
       "75%    9.592304e-01  2.410370e-01  \n",
       "max    9.592304e-01  1.302671e+01  "
      ]
     },
     "execution_count": 156,
     "metadata": {},
     "output_type": "execute_result"
    }
   ],
   "source": [
    "# statistics of scaled data\n",
    "pd.DataFrame(cust_kmeans_scaled_df).describe()"
   ]
  },
  {
   "cell_type": "code",
   "execution_count": 157,
   "metadata": {},
   "outputs": [
    {
     "data": {
      "text/plain": [
       "KMeans(n_clusters=2)"
      ]
     },
     "execution_count": 157,
     "metadata": {},
     "output_type": "execute_result"
    },
    {
     "data": {
      "text/plain": [
       "KMeans(n_clusters=3)"
      ]
     },
     "execution_count": 157,
     "metadata": {},
     "output_type": "execute_result"
    },
    {
     "data": {
      "text/plain": [
       "KMeans(n_clusters=4)"
      ]
     },
     "execution_count": 157,
     "metadata": {},
     "output_type": "execute_result"
    },
    {
     "data": {
      "text/plain": [
       "KMeans(n_clusters=5)"
      ]
     },
     "execution_count": 157,
     "metadata": {},
     "output_type": "execute_result"
    },
    {
     "data": {
      "text/plain": [
       "KMeans(n_clusters=6)"
      ]
     },
     "execution_count": 157,
     "metadata": {},
     "output_type": "execute_result"
    },
    {
     "data": {
      "text/plain": [
       "KMeans(n_clusters=7)"
      ]
     },
     "execution_count": 157,
     "metadata": {},
     "output_type": "execute_result"
    },
    {
     "data": {
      "text/plain": [
       "KMeans()"
      ]
     },
     "execution_count": 157,
     "metadata": {},
     "output_type": "execute_result"
    },
    {
     "data": {
      "text/plain": [
       "KMeans(n_clusters=9)"
      ]
     },
     "execution_count": 157,
     "metadata": {},
     "output_type": "execute_result"
    },
    {
     "data": {
      "text/plain": [
       "<Figure size 864x432 with 0 Axes>"
      ]
     },
     "execution_count": 157,
     "metadata": {},
     "output_type": "execute_result"
    },
    {
     "data": {
      "text/plain": [
       "[<matplotlib.lines.Line2D at 0x260313450d0>]"
      ]
     },
     "execution_count": 157,
     "metadata": {},
     "output_type": "execute_result"
    },
    {
     "data": {
      "text/plain": [
       "Text(0.5, 0, 'Number of clusters')"
      ]
     },
     "execution_count": 157,
     "metadata": {},
     "output_type": "execute_result"
    },
    {
     "data": {
      "text/plain": [
       "Text(0, 0.5, 'Inertia')"
      ]
     },
     "execution_count": 157,
     "metadata": {},
     "output_type": "execute_result"
    },
    {
     "data": {
      "image/png": "[encoded data removed]",
      "text/plain": [
       "<Figure size 864x432 with 1 Axes>"
      ]
     },
     "metadata": {
      "needs_background": "light"
     },
     "output_type": "display_data"
    }
   ],
   "source": [
    "# Plot inertia for multiple cluster solutions against the number of clusters\n",
    "# fitting multiple k-means algorithms and storing the values in an empty list\n",
    "SSE = []\n",
    "for cluster in range(2,10):\n",
    "    kmeans = KMeans(n_clusters = cluster, init='k-means++')\n",
    "    kmeans.fit(cust_kmeans_scaled_df)\n",
    "    SSE.append(kmeans.inertia_)\n",
    "\n",
    "# converting the results into a dataframe and plotting them\n",
    "cust_df_frame = pd.DataFrame({'Cluster':range(2,10), 'SSE':SSE})\n",
    "plt.figure(figsize=(12,6))\n",
    "plt.plot(cust_df_frame['Cluster'], cust_df_frame['SSE'], marker='o')\n",
    "plt.xlabel('Number of clusters')\n",
    "plt.ylabel('Inertia')"
   ]
  },
  {
   "cell_type": "code",
   "execution_count": 158,
   "metadata": {},
   "outputs": [
    {
     "data": {
      "text/plain": [
       "KMeans(n_clusters=5)"
      ]
     },
     "execution_count": 158,
     "metadata": {},
     "output_type": "execute_result"
    }
   ],
   "source": [
    "# Defining the kmeans function with initialization as k-means++; # You want to cluster into 5 segments\n",
    "kmeans_5 = KMeans(n_clusters = 5, init='k-means++')\n",
    "\n",
    "# fitting the k means algorithm on scaled data\n",
    "kmeans_5.fit(cust_kmeans_scaled_df)"
   ]
  },
  {
   "cell_type": "code",
   "execution_count": 159,
   "metadata": {},
   "outputs": [
    {
     "data": {
      "text/plain": [
       "15796.879337400043"
      ]
     },
     "execution_count": 159,
     "metadata": {},
     "output_type": "execute_result"
    }
   ],
   "source": [
    "# Inertia calculates the sum of all the points within a cluster from the centroid of that cluster.\n",
    "# Determine inertia on the fitted data\n",
    "kmeans_5.inertia_"
   ]
  },
  {
   "cell_type": "code",
   "execution_count": 160,
   "metadata": {},
   "outputs": [],
   "source": [
    "pred_clus5 = kmeans_5.predict(cust_kmeans_scaled_df)"
   ]
  },
  {
   "cell_type": "code",
   "execution_count": 161,
   "metadata": {},
   "outputs": [
    {
     "data": {
      "text/plain": [
       "1    1471\n",
       "0    1435\n",
       "4    1047\n",
       "2     918\n",
       "3     129\n",
       "Name: cluster, dtype: int64"
      ]
     },
     "execution_count": 161,
     "metadata": {},
     "output_type": "execute_result"
    }
   ],
   "source": [
    "cust_df_frame_2 = pd.DataFrame(cust_kmeans_scaled_df)\n",
    "cust_df_frame_2['cluster'] = pred_clus5\n",
    "cust_df_frame_2['cluster'].value_counts()"
   ]
  },
  {
   "cell_type": "code",
   "execution_count": 162,
   "metadata": {},
   "outputs": [
    {
     "data": {
      "text/html": [
       "<div>\n",
       "<style scoped>\n",
       "    .dataframe tbody tr th:only-of-type {\n",
       "        vertical-align: middle;\n",
       "    }\n",
       "\n",
       "    .dataframe tbody tr th {\n",
       "        vertical-align: top;\n",
       "    }\n",
       "\n",
       "    .dataframe thead th {\n",
       "        text-align: right;\n",
       "    }\n",
       "</style>\n",
       "<table border=\"1\" class=\"dataframe\">\n",
       "  <thead>\n",
       "    <tr style=\"text-align: right;\">\n",
       "      <th></th>\n",
       "      <th>0</th>\n",
       "      <th>1</th>\n",
       "      <th>2</th>\n",
       "      <th>3</th>\n",
       "      <th>4</th>\n",
       "      <th>5</th>\n",
       "      <th>6</th>\n",
       "      <th>cluster</th>\n",
       "    </tr>\n",
       "  </thead>\n",
       "  <tbody>\n",
       "    <tr>\n",
       "      <th>0</th>\n",
       "      <td>-1.327627</td>\n",
       "      <td>-1.808274</td>\n",
       "      <td>0.606313</td>\n",
       "      <td>-1.317908</td>\n",
       "      <td>-0.155168</td>\n",
       "      <td>-1.042502</td>\n",
       "      <td>-0.545834</td>\n",
       "      <td>4</td>\n",
       "    </tr>\n",
       "    <tr>\n",
       "      <th>1</th>\n",
       "      <td>-1.327627</td>\n",
       "      <td>-1.808274</td>\n",
       "      <td>-1.649314</td>\n",
       "      <td>0.457530</td>\n",
       "      <td>-0.155168</td>\n",
       "      <td>-1.042502</td>\n",
       "      <td>-0.357925</td>\n",
       "      <td>4</td>\n",
       "    </tr>\n",
       "    <tr>\n",
       "      <th>2</th>\n",
       "      <td>1.359877</td>\n",
       "      <td>0.553014</td>\n",
       "      <td>0.606313</td>\n",
       "      <td>1.345249</td>\n",
       "      <td>-0.155168</td>\n",
       "      <td>0.959230</td>\n",
       "      <td>1.168840</td>\n",
       "      <td>0</td>\n",
       "    </tr>\n",
       "    <tr>\n",
       "      <th>3</th>\n",
       "      <td>-1.327627</td>\n",
       "      <td>-1.808274</td>\n",
       "      <td>0.606313</td>\n",
       "      <td>-0.430189</td>\n",
       "      <td>-0.155168</td>\n",
       "      <td>-1.042502</td>\n",
       "      <td>-0.584982</td>\n",
       "      <td>4</td>\n",
       "    </tr>\n",
       "    <tr>\n",
       "      <th>4</th>\n",
       "      <td>-1.327627</td>\n",
       "      <td>0.553014</td>\n",
       "      <td>-1.649314</td>\n",
       "      <td>-0.430189</td>\n",
       "      <td>-0.155168</td>\n",
       "      <td>0.959230</td>\n",
       "      <td>-0.815954</td>\n",
       "      <td>2</td>\n",
       "    </tr>\n",
       "  </tbody>\n",
       "</table>\n",
       "</div>"
      ],
      "text/plain": [
       "          0         1         2         3         4         5         6  \\\n",
       "0 -1.327627 -1.808274  0.606313 -1.317908 -0.155168 -1.042502 -0.545834   \n",
       "1 -1.327627 -1.808274 -1.649314  0.457530 -0.155168 -1.042502 -0.357925   \n",
       "2  1.359877  0.553014  0.606313  1.345249 -0.155168  0.959230  1.168840   \n",
       "3 -1.327627 -1.808274  0.606313 -0.430189 -0.155168 -1.042502 -0.584982   \n",
       "4 -1.327627  0.553014 -1.649314 -0.430189 -0.155168  0.959230 -0.815954   \n",
       "\n",
       "   cluster  \n",
       "0        4  \n",
       "1        4  \n",
       "2        0  \n",
       "3        4  \n",
       "4        2  "
      ]
     },
     "execution_count": 162,
     "metadata": {},
     "output_type": "execute_result"
    }
   ],
   "source": [
    "# Using head shows the data structure of the resulting data frame\n",
    "# There are 10 variables used for clustering and their scaled values are shown\n",
    "# The last column is the cluster solution and shows the cluster to which obsevation belongs\n",
    "# There are five segments starting from 0 to 4\n",
    "cust_df_frame_2.head(5)"
   ]
  },
  {
   "cell_type": "code",
   "execution_count": 163,
   "metadata": {},
   "outputs": [
    {
     "name": "stdout",
     "output_type": "stream",
     "text": [
      "[[ 0.94215258  0.46768557  0.48404783  1.04852058 -0.15516827  0.43897458\n",
      "   0.87780527]\n",
      " [-0.34568949  0.55301354  0.60631253 -0.55847526 -0.15516827  0.04773921\n",
      "  -0.4653636 ]\n",
      " [-0.00729549  0.45526961 -1.64931443 -0.02114164 -0.15516827 -0.50827092\n",
      "  -0.15640714]\n",
      " [ 0.14459739 -0.06934131 -0.19801957  0.20979485  5.85910584 -0.11146393\n",
      "   0.20877802]\n",
      " [-0.82195501 -1.80827399 -0.04430767 -0.6658963  -0.15516827 -0.21083695\n",
      "  -0.44300286]]\n"
     ]
    }
   ],
   "source": [
    "# Get the cluster centroids\n",
    "print(kmeans_5.cluster_centers_)"
   ]
  },
  {
   "cell_type": "code",
   "execution_count": 164,
   "metadata": {},
   "outputs": [
    {
     "data": {
      "text/html": [
       "<div>\n",
       "<style scoped>\n",
       "    .dataframe tbody tr th:only-of-type {\n",
       "        vertical-align: middle;\n",
       "    }\n",
       "\n",
       "    .dataframe tbody tr th {\n",
       "        vertical-align: top;\n",
       "    }\n",
       "\n",
       "    .dataframe thead th {\n",
       "        text-align: right;\n",
       "    }\n",
       "</style>\n",
       "<table border=\"1\" class=\"dataframe\">\n",
       "  <thead>\n",
       "    <tr style=\"text-align: right;\">\n",
       "      <th></th>\n",
       "      <th>0</th>\n",
       "      <th>1</th>\n",
       "      <th>2</th>\n",
       "      <th>3</th>\n",
       "      <th>4</th>\n",
       "      <th>5</th>\n",
       "      <th>6</th>\n",
       "      <th>cluster</th>\n",
       "      <th>cluster5_2</th>\n",
       "    </tr>\n",
       "  </thead>\n",
       "  <tbody>\n",
       "    <tr>\n",
       "      <th>0</th>\n",
       "      <td>-1.327627</td>\n",
       "      <td>-1.808274</td>\n",
       "      <td>0.606313</td>\n",
       "      <td>-1.317908</td>\n",
       "      <td>-0.155168</td>\n",
       "      <td>-1.042502</td>\n",
       "      <td>-0.545834</td>\n",
       "      <td>4</td>\n",
       "      <td>5</td>\n",
       "    </tr>\n",
       "    <tr>\n",
       "      <th>1</th>\n",
       "      <td>-1.327627</td>\n",
       "      <td>-1.808274</td>\n",
       "      <td>-1.649314</td>\n",
       "      <td>0.457530</td>\n",
       "      <td>-0.155168</td>\n",
       "      <td>-1.042502</td>\n",
       "      <td>-0.357925</td>\n",
       "      <td>4</td>\n",
       "      <td>5</td>\n",
       "    </tr>\n",
       "    <tr>\n",
       "      <th>2</th>\n",
       "      <td>1.359877</td>\n",
       "      <td>0.553014</td>\n",
       "      <td>0.606313</td>\n",
       "      <td>1.345249</td>\n",
       "      <td>-0.155168</td>\n",
       "      <td>0.959230</td>\n",
       "      <td>1.168840</td>\n",
       "      <td>0</td>\n",
       "      <td>1</td>\n",
       "    </tr>\n",
       "    <tr>\n",
       "      <th>3</th>\n",
       "      <td>-1.327627</td>\n",
       "      <td>-1.808274</td>\n",
       "      <td>0.606313</td>\n",
       "      <td>-0.430189</td>\n",
       "      <td>-0.155168</td>\n",
       "      <td>-1.042502</td>\n",
       "      <td>-0.584982</td>\n",
       "      <td>4</td>\n",
       "      <td>5</td>\n",
       "    </tr>\n",
       "    <tr>\n",
       "      <th>4</th>\n",
       "      <td>-1.327627</td>\n",
       "      <td>0.553014</td>\n",
       "      <td>-1.649314</td>\n",
       "      <td>-0.430189</td>\n",
       "      <td>-0.155168</td>\n",
       "      <td>0.959230</td>\n",
       "      <td>-0.815954</td>\n",
       "      <td>2</td>\n",
       "      <td>3</td>\n",
       "    </tr>\n",
       "  </tbody>\n",
       "</table>\n",
       "</div>"
      ],
      "text/plain": [
       "          0         1         2         3         4         5         6  \\\n",
       "0 -1.327627 -1.808274  0.606313 -1.317908 -0.155168 -1.042502 -0.545834   \n",
       "1 -1.327627 -1.808274 -1.649314  0.457530 -0.155168 -1.042502 -0.357925   \n",
       "2  1.359877  0.553014  0.606313  1.345249 -0.155168  0.959230  1.168840   \n",
       "3 -1.327627 -1.808274  0.606313 -0.430189 -0.155168 -1.042502 -0.584982   \n",
       "4 -1.327627  0.553014 -1.649314 -0.430189 -0.155168  0.959230 -0.815954   \n",
       "\n",
       "   cluster  cluster5_2  \n",
       "0        4           5  \n",
       "1        4           5  \n",
       "2        0           1  \n",
       "3        4           5  \n",
       "4        2           3  "
      ]
     },
     "execution_count": 164,
     "metadata": {},
     "output_type": "execute_result"
    }
   ],
   "source": [
    "# Create a new data column cluster5_2 to incorporate a cluster indicator variable running from 1 to 5\n",
    "cust_df_frame_2['cluster5_2'] = cust_df_frame_2['cluster'] + 1\n",
    "cust_df_frame_2.head(5)"
   ]
  },
  {
   "cell_type": "code",
   "execution_count": 165,
   "metadata": {},
   "outputs": [
    {
     "name": "stdout",
     "output_type": "stream",
     "text": [
      "[4 4 0 ... 0 4 1]\n"
     ]
    }
   ],
   "source": [
    "# Get the cluster labels\n",
    "print(kmeans_5.labels_)"
   ]
  },
  {
   "cell_type": "code",
   "execution_count": 166,
   "metadata": {},
   "outputs": [
    {
     "data": {
      "text/plain": [
       "2    1471\n",
       "1    1435\n",
       "5    1047\n",
       "3     918\n",
       "4     129\n",
       "Name: cluster5_2, dtype: int64"
      ]
     },
     "execution_count": 166,
     "metadata": {},
     "output_type": "execute_result"
    }
   ],
   "source": [
    "cust_df_frame_2['cluster5_2'].value_counts()"
   ]
  },
  {
   "cell_type": "code",
   "execution_count": 167,
   "metadata": {},
   "outputs": [
    {
     "data": {
      "text/html": [
       "<div>\n",
       "<style scoped>\n",
       "    .dataframe tbody tr th:only-of-type {\n",
       "        vertical-align: middle;\n",
       "    }\n",
       "\n",
       "    .dataframe tbody tr th {\n",
       "        vertical-align: top;\n",
       "    }\n",
       "\n",
       "    .dataframe thead th {\n",
       "        text-align: right;\n",
       "    }\n",
       "</style>\n",
       "<table border=\"1\" class=\"dataframe\">\n",
       "  <thead>\n",
       "    <tr style=\"text-align: right;\">\n",
       "      <th></th>\n",
       "      <th>0</th>\n",
       "      <th>1</th>\n",
       "      <th>2</th>\n",
       "      <th>3</th>\n",
       "      <th>4</th>\n",
       "      <th>5</th>\n",
       "      <th>6</th>\n",
       "      <th>cluster</th>\n",
       "      <th>cluster5_2</th>\n",
       "    </tr>\n",
       "  </thead>\n",
       "  <tbody>\n",
       "    <tr>\n",
       "      <th>0</th>\n",
       "      <td>-1.327627</td>\n",
       "      <td>-1.808274</td>\n",
       "      <td>0.606313</td>\n",
       "      <td>-1.317908</td>\n",
       "      <td>-0.155168</td>\n",
       "      <td>-1.042502</td>\n",
       "      <td>-0.545834</td>\n",
       "      <td>4</td>\n",
       "      <td>5</td>\n",
       "    </tr>\n",
       "    <tr>\n",
       "      <th>1</th>\n",
       "      <td>-1.327627</td>\n",
       "      <td>-1.808274</td>\n",
       "      <td>-1.649314</td>\n",
       "      <td>0.457530</td>\n",
       "      <td>-0.155168</td>\n",
       "      <td>-1.042502</td>\n",
       "      <td>-0.357925</td>\n",
       "      <td>4</td>\n",
       "      <td>5</td>\n",
       "    </tr>\n",
       "    <tr>\n",
       "      <th>2</th>\n",
       "      <td>1.359877</td>\n",
       "      <td>0.553014</td>\n",
       "      <td>0.606313</td>\n",
       "      <td>1.345249</td>\n",
       "      <td>-0.155168</td>\n",
       "      <td>0.959230</td>\n",
       "      <td>1.168840</td>\n",
       "      <td>0</td>\n",
       "      <td>1</td>\n",
       "    </tr>\n",
       "    <tr>\n",
       "      <th>3</th>\n",
       "      <td>-1.327627</td>\n",
       "      <td>-1.808274</td>\n",
       "      <td>0.606313</td>\n",
       "      <td>-0.430189</td>\n",
       "      <td>-0.155168</td>\n",
       "      <td>-1.042502</td>\n",
       "      <td>-0.584982</td>\n",
       "      <td>4</td>\n",
       "      <td>5</td>\n",
       "    </tr>\n",
       "    <tr>\n",
       "      <th>4</th>\n",
       "      <td>-1.327627</td>\n",
       "      <td>0.553014</td>\n",
       "      <td>-1.649314</td>\n",
       "      <td>-0.430189</td>\n",
       "      <td>-0.155168</td>\n",
       "      <td>0.959230</td>\n",
       "      <td>-0.815954</td>\n",
       "      <td>2</td>\n",
       "      <td>3</td>\n",
       "    </tr>\n",
       "    <tr>\n",
       "      <th>...</th>\n",
       "      <td>...</td>\n",
       "      <td>...</td>\n",
       "      <td>...</td>\n",
       "      <td>...</td>\n",
       "      <td>...</td>\n",
       "      <td>...</td>\n",
       "      <td>...</td>\n",
       "      <td>...</td>\n",
       "      <td>...</td>\n",
       "    </tr>\n",
       "    <tr>\n",
       "      <th>4995</th>\n",
       "      <td>1.359877</td>\n",
       "      <td>0.553014</td>\n",
       "      <td>0.606313</td>\n",
       "      <td>1.345249</td>\n",
       "      <td>-0.155168</td>\n",
       "      <td>0.959230</td>\n",
       "      <td>1.615125</td>\n",
       "      <td>0</td>\n",
       "      <td>1</td>\n",
       "    </tr>\n",
       "    <tr>\n",
       "      <th>4996</th>\n",
       "      <td>0.464042</td>\n",
       "      <td>-1.808274</td>\n",
       "      <td>-1.649314</td>\n",
       "      <td>-0.430189</td>\n",
       "      <td>-0.155168</td>\n",
       "      <td>0.959230</td>\n",
       "      <td>-0.240481</td>\n",
       "      <td>4</td>\n",
       "      <td>5</td>\n",
       "    </tr>\n",
       "    <tr>\n",
       "      <th>4997</th>\n",
       "      <td>1.359877</td>\n",
       "      <td>0.553014</td>\n",
       "      <td>0.606313</td>\n",
       "      <td>1.345249</td>\n",
       "      <td>-0.155168</td>\n",
       "      <td>0.959230</td>\n",
       "      <td>1.247136</td>\n",
       "      <td>0</td>\n",
       "      <td>1</td>\n",
       "    </tr>\n",
       "    <tr>\n",
       "      <th>4998</th>\n",
       "      <td>-0.431792</td>\n",
       "      <td>-1.808274</td>\n",
       "      <td>0.606313</td>\n",
       "      <td>-0.430189</td>\n",
       "      <td>-0.155168</td>\n",
       "      <td>-1.042502</td>\n",
       "      <td>-0.432305</td>\n",
       "      <td>4</td>\n",
       "      <td>5</td>\n",
       "    </tr>\n",
       "    <tr>\n",
       "      <th>4999</th>\n",
       "      <td>-0.431792</td>\n",
       "      <td>0.553014</td>\n",
       "      <td>0.606313</td>\n",
       "      <td>-0.430189</td>\n",
       "      <td>-0.155168</td>\n",
       "      <td>0.959230</td>\n",
       "      <td>-0.424476</td>\n",
       "      <td>1</td>\n",
       "      <td>2</td>\n",
       "    </tr>\n",
       "  </tbody>\n",
       "</table>\n",
       "<p>5000 rows × 9 columns</p>\n",
       "</div>"
      ],
      "text/plain": [
       "             0         1         2         3         4         5         6  \\\n",
       "0    -1.327627 -1.808274  0.606313 -1.317908 -0.155168 -1.042502 -0.545834   \n",
       "1    -1.327627 -1.808274 -1.649314  0.457530 -0.155168 -1.042502 -0.357925   \n",
       "2     1.359877  0.553014  0.606313  1.345249 -0.155168  0.959230  1.168840   \n",
       "3    -1.327627 -1.808274  0.606313 -0.430189 -0.155168 -1.042502 -0.584982   \n",
       "4    -1.327627  0.553014 -1.649314 -0.430189 -0.155168  0.959230 -0.815954   \n",
       "...        ...       ...       ...       ...       ...       ...       ...   \n",
       "4995  1.359877  0.553014  0.606313  1.345249 -0.155168  0.959230  1.615125   \n",
       "4996  0.464042 -1.808274 -1.649314 -0.430189 -0.155168  0.959230 -0.240481   \n",
       "4997  1.359877  0.553014  0.606313  1.345249 -0.155168  0.959230  1.247136   \n",
       "4998 -0.431792 -1.808274  0.606313 -0.430189 -0.155168 -1.042502 -0.432305   \n",
       "4999 -0.431792  0.553014  0.606313 -0.430189 -0.155168  0.959230 -0.424476   \n",
       "\n",
       "      cluster  cluster5_2  \n",
       "0           4           5  \n",
       "1           4           5  \n",
       "2           0           1  \n",
       "3           4           5  \n",
       "4           2           3  \n",
       "...       ...         ...  \n",
       "4995        0           1  \n",
       "4996        4           5  \n",
       "4997        0           1  \n",
       "4998        4           5  \n",
       "4999        1           2  \n",
       "\n",
       "[5000 rows x 9 columns]"
      ]
     },
     "execution_count": 167,
     "metadata": {},
     "output_type": "execute_result"
    }
   ],
   "source": [
    "cust_df_frame_2"
   ]
  },
  {
   "cell_type": "code",
   "execution_count": 168,
   "metadata": {},
   "outputs": [],
   "source": [
    "# Plotting the cluster centers and the data points on a 2D plane; Need to think through this\n",
    "#plt.scatter(cust_df_frame_2[\"cluster\"], cust_df_frame_2[\"cluster5_2\"])"
   ]
  },
  {
   "cell_type": "code",
   "execution_count": 169,
   "metadata": {},
   "outputs": [
    {
     "data": {
      "text/plain": [
       "<matplotlib.collections.PathCollection at 0x26044e8d1f0>"
      ]
     },
     "execution_count": 169,
     "metadata": {},
     "output_type": "execute_result"
    },
    {
     "data": {
      "image/png": "[encoded data removed]",
      "text/plain": [
       "<Figure size 432x288 with 1 Axes>"
      ]
     },
     "metadata": {
      "needs_background": "light"
     },
     "output_type": "display_data"
    }
   ],
   "source": [
    "plt.scatter(kmeans_5.cluster_centers_[:, 0], kmeans_5.cluster_centers_[:, 1], c='red', marker='x')"
   ]
  },
  {
   "cell_type": "code",
   "execution_count": 170,
   "metadata": {},
   "outputs": [
    {
     "name": "stdout",
     "output_type": "stream",
     "text": [
      "0.35538001096525323\n"
     ]
    }
   ],
   "source": [
    "# Calculate silhouette_score\n",
    "from sklearn.metrics import silhouette_score\n",
    "print(silhouette_score(cust_df_frame_2, kmeans.labels_))"
   ]
  },
  {
   "cell_type": "code",
   "execution_count": 171,
   "metadata": {},
   "outputs": [
    {
     "name": "stderr",
     "output_type": "stream",
     "text": [
      "C:\\Users\\HP\\.conda\\envs\\EAI6010\\lib\\site-packages\\yellowbrick\\utils\\kneed.py:182: YellowbrickWarning: No \"knee\" or \"elbow point\" detected This could be due to bad clustering, no actual clusters being formed etc.\n",
      "  warnings.warn(warning_message, YellowbrickWarning)\n",
      "C:\\Users\\HP\\.conda\\envs\\EAI6010\\lib\\site-packages\\yellowbrick\\utils\\kneed.py:140: YellowbrickWarning: No 'knee' or 'elbow point' detected This could be due to bad clustering, no actual clusters being formed etc.\n",
      "  warnings.warn(warning_message, YellowbrickWarning)\n",
      "C:\\Users\\HP\\.conda\\envs\\EAI6010\\lib\\site-packages\\yellowbrick\\cluster\\elbow.py:343: YellowbrickWarning: No 'knee' or 'elbow' point detected, pass `locate_elbow=False` to remove the warning\n",
      "  warnings.warn(warning_message, YellowbrickWarning)\n",
      "C:\\Users\\HP\\.conda\\envs\\EAI6010\\lib\\site-packages\\sklearn\\base.py:209: FutureWarning: From version 0.24, get_params will raise an AttributeError if a parameter cannot be retrieved as an instance attribute. Previously it would return None.\n",
      "  warnings.warn('From version 0.24, get_params will raise an '\n"
     ]
    },
    {
     "data": {
      "text/plain": [
       "KElbowVisualizer(ax=<AxesSubplot:>, k=None, metric='silhouette', model=None,\n",
       "                 timings=False)"
      ]
     },
     "execution_count": 171,
     "metadata": {},
     "output_type": "execute_result"
    },
    {
     "data": {
      "image/png": "[encoded data removed]",
      "text/plain": [
       "<Figure size 432x288 with 1 Axes>"
      ]
     },
     "metadata": {
      "needs_background": "light"
     },
     "output_type": "display_data"
    },
    {
     "data": {
      "text/plain": [
       "<AxesSubplot:title={'center':'Silhouette Score Elbow for KMeans Clustering'}, xlabel='k', ylabel='silhouette score'>"
      ]
     },
     "execution_count": 171,
     "metadata": {},
     "output_type": "execute_result"
    }
   ],
   "source": [
    "# Import the KElbowVisualizer method \n",
    "from yellowbrick.cluster import KElbowVisualizer\n",
    "from sklearn.cluster import KMeans\n",
    "from sklearn.datasets import make_blobs\n",
    "\n",
    "# Instantiate a scikit-learn K-Means model\n",
    "model = KMeans(random_state=0)\n",
    "\n",
    "# Instantiate the KElbowVisualizer with the number of clusters and the metric \n",
    "visualizer = KElbowVisualizer(model, k=(2,6), metric='silhouette', timings=False)\n",
    "\n",
    "# Fit the data and visualize\n",
    "visualizer.fit(cust_df_frame_2)    \n",
    "visualizer.poof()  "
   ]
  },
  {
   "cell_type": "code",
   "execution_count": 172,
   "metadata": {},
   "outputs": [
    {
     "data": {
      "text/plain": [
       "(5000, 80)"
      ]
     },
     "execution_count": 172,
     "metadata": {},
     "output_type": "execute_result"
    }
   ],
   "source": [
    "# Joining the clusters from kmeans to the original data used for clustering\n",
    "cust_df_clus5_ALL = pd.DataFrame(pd.concat([cust_df_frame_2, cust_df], axis = 1))\n",
    "cust_df_clus5_ALL.shape"
   ]
  },
  {
   "cell_type": "code",
   "execution_count": 173,
   "metadata": {},
   "outputs": [
    {
     "name": "stdout",
     "output_type": "stream",
     "text": [
      "<class 'pandas.core.frame.DataFrame'>\n",
      "Int64Index: 5000 entries, 0 to 4999\n",
      "Data columns (total 80 columns):\n",
      " #   Column                     Non-Null Count  Dtype   \n",
      "---  ------                     --------------  -----   \n",
      " 0   0                          5000 non-null   float64 \n",
      " 1   1                          5000 non-null   float64 \n",
      " 2   2                          5000 non-null   float64 \n",
      " 3   3                          5000 non-null   float64 \n",
      " 4   4                          5000 non-null   float64 \n",
      " 5   5                          5000 non-null   float64 \n",
      " 6   6                          5000 non-null   float64 \n",
      " 7   cluster                    5000 non-null   int32   \n",
      " 8   cluster5_2                 5000 non-null   int32   \n",
      " 9   CustomerID                 5000 non-null   object  \n",
      " 10  Region                     5000 non-null   int64   \n",
      " 11  TownSize                   5000 non-null   object  \n",
      " 12  Gender                     4967 non-null   object  \n",
      " 13  Age                        5000 non-null   int64   \n",
      " 14  EducationYears             5000 non-null   int64   \n",
      " 15  JobCategory                5000 non-null   object  \n",
      " 16  UnionMember                5000 non-null   object  \n",
      " 17  EmploymentLength           5000 non-null   int64   \n",
      " 18  Retired                    5000 non-null   object  \n",
      " 19  HHIncome                   5000 non-null   float64 \n",
      " 20  DebtToIncomeRatio          5000 non-null   float64 \n",
      " 21  CreditDebt                 5000 non-null   float64 \n",
      " 22  OtherDebt                  5000 non-null   float64 \n",
      " 23  LoanDefault                5000 non-null   int64   \n",
      " 24  MaritalStatus              5000 non-null   int64   \n",
      " 25  HouseholdSize              5000 non-null   float64 \n",
      " 26  NumberPets                 4994 non-null   float64 \n",
      " 27  NumberCats                 4993 non-null   float64 \n",
      " 28  NumberDogs                 4992 non-null   float64 \n",
      " 29  NumberBirds                4966 non-null   float64 \n",
      " 30  HomeOwner                  4987 non-null   float64 \n",
      " 31  CarsOwned                  5000 non-null   int64   \n",
      " 32  CarOwnership               5000 non-null   object  \n",
      " 33  CarBrand                   5000 non-null   object  \n",
      " 34  CarValue                   5000 non-null   float64 \n",
      " 35  CommuteTime                5000 non-null   object  \n",
      " 36  PoliticalPartyMem          5000 non-null   object  \n",
      " 37  Votes                      5000 non-null   object  \n",
      " 38  CreditCard                 5000 non-null   object  \n",
      " 39  CardTenure                 5000 non-null   int64   \n",
      " 40  CardItemsMonthly           5000 non-null   int64   \n",
      " 41  CardSpendMonth             5000 non-null   float64 \n",
      " 42  ActiveLifestyle            5000 non-null   object  \n",
      " 43  PhoneCoTenure              5000 non-null   int64   \n",
      " 44  VoiceLastMonth             5000 non-null   object  \n",
      " 45  VoiceOverTenure            5000 non-null   object  \n",
      " 46  EquipmentRental            5000 non-null   object  \n",
      " 47  EquipmentLastMonth         5000 non-null   object  \n",
      " 48  EquipmentOverTenure        5000 non-null   float64 \n",
      " 49  CallingCard                5000 non-null   object  \n",
      " 50  WirelessData               5000 non-null   int64   \n",
      " 51  DataLastMonth              5000 non-null   object  \n",
      " 52  DataOverTenure             5000 non-null   float64 \n",
      " 53  Multiline                  5000 non-null   object  \n",
      " 54  VM                         5000 non-null   object  \n",
      " 55  Pager                      5000 non-null   object  \n",
      " 56  Internet                   5000 non-null   object  \n",
      " 57  CallerID                   5000 non-null   object  \n",
      " 58  CallWait                   5000 non-null   object  \n",
      " 59  CallForward                5000 non-null   object  \n",
      " 60  ThreeWayCalling            5000 non-null   object  \n",
      " 61  EBilling                   5000 non-null   object  \n",
      " 62  TVWatchingHours            5000 non-null   int64   \n",
      " 63  OwnsPC                     5000 non-null   object  \n",
      " 64  OwnsMobileDevice           5000 non-null   object  \n",
      " 65  OwnsGameSystem             5000 non-null   object  \n",
      " 66  OwnsFax                    5000 non-null   object  \n",
      " 67  NewsSubscriber             5000 non-null   object  \n",
      " 68  Gender_num                 4967 non-null   float64 \n",
      " 69  LoanDefault_num            5000 non-null   int64   \n",
      " 70  DebtToIncomeRatio_Recoded  5000 non-null   category\n",
      " 71  Age_Recoded                5000 non-null   category\n",
      " 72  PhoneCoTenure_Coded        5000 non-null   category\n",
      " 73  OwnsMobileDevice_Coded     5000 non-null   int64   \n",
      " 74  HomeOwner2                 4987 non-null   float64 \n",
      " 75  VoiceLastMonth_Coded       5000 non-null   float64 \n",
      " 76  CardSpendMonth_cat         5000 non-null   category\n",
      " 77  EquipmentOverTenure_cat    5000 non-null   category\n",
      " 78  CarValue_cat               5000 non-null   category\n",
      " 79  DataOverTenure_coded       5000 non-null   category\n",
      "dtypes: category(7), float64(24), int32(2), int64(14), object(33)\n",
      "memory usage: 2.8+ MB\n"
     ]
    }
   ],
   "source": [
    "cust_df_clus5_ALL.info()"
   ]
  },
  {
   "cell_type": "code",
   "execution_count": 174,
   "metadata": {},
   "outputs": [
    {
     "data": {
      "text/html": [
       "<div>\n",
       "<style scoped>\n",
       "    .dataframe tbody tr th:only-of-type {\n",
       "        vertical-align: middle;\n",
       "    }\n",
       "\n",
       "    .dataframe tbody tr th {\n",
       "        vertical-align: top;\n",
       "    }\n",
       "\n",
       "    .dataframe thead th {\n",
       "        text-align: right;\n",
       "    }\n",
       "</style>\n",
       "<table border=\"1\" class=\"dataframe\">\n",
       "  <thead>\n",
       "    <tr style=\"text-align: right;\">\n",
       "      <th>LoanDefault</th>\n",
       "      <th>1</th>\n",
       "      <th>2</th>\n",
       "      <th>All</th>\n",
       "    </tr>\n",
       "    <tr>\n",
       "      <th>cluster5_2</th>\n",
       "      <th></th>\n",
       "      <th></th>\n",
       "      <th></th>\n",
       "    </tr>\n",
       "  </thead>\n",
       "  <tbody>\n",
       "    <tr>\n",
       "      <th>1</th>\n",
       "      <td>0.044406</td>\n",
       "      <td>0.361191</td>\n",
       "      <td>0.2870</td>\n",
       "    </tr>\n",
       "    <tr>\n",
       "      <th>2</th>\n",
       "      <td>0.000000</td>\n",
       "      <td>0.384173</td>\n",
       "      <td>0.2942</td>\n",
       "    </tr>\n",
       "    <tr>\n",
       "      <th>3</th>\n",
       "      <td>0.032451</td>\n",
       "      <td>0.229825</td>\n",
       "      <td>0.1836</td>\n",
       "    </tr>\n",
       "    <tr>\n",
       "      <th>4</th>\n",
       "      <td>0.029035</td>\n",
       "      <td>0.024811</td>\n",
       "      <td>0.0258</td>\n",
       "    </tr>\n",
       "    <tr>\n",
       "      <th>5</th>\n",
       "      <td>0.894108</td>\n",
       "      <td>0.000000</td>\n",
       "      <td>0.2094</td>\n",
       "    </tr>\n",
       "  </tbody>\n",
       "</table>\n",
       "</div>"
      ],
      "text/plain": [
       "LoanDefault         1         2     All\n",
       "cluster5_2                             \n",
       "1            0.044406  0.361191  0.2870\n",
       "2            0.000000  0.384173  0.2942\n",
       "3            0.032451  0.229825  0.1836\n",
       "4            0.029035  0.024811  0.0258\n",
       "5            0.894108  0.000000  0.2094"
      ]
     },
     "execution_count": 174,
     "metadata": {},
     "output_type": "execute_result"
    }
   ],
   "source": [
    "# Using pandas crosstabs to create a cross tab of clusters by loan defaults\n",
    "pd.crosstab(cust_df_clus5_ALL['cluster5_2'],cust_df_clus5_ALL['LoanDefault'],margins=True, normalize = 'columns')"
   ]
  },
  {
   "cell_type": "code",
   "execution_count": 175,
   "metadata": {},
   "outputs": [
    {
     "data": {
      "text/html": [
       "<div>\n",
       "<style scoped>\n",
       "    .dataframe tbody tr th:only-of-type {\n",
       "        vertical-align: middle;\n",
       "    }\n",
       "\n",
       "    .dataframe tbody tr th {\n",
       "        vertical-align: top;\n",
       "    }\n",
       "\n",
       "    .dataframe thead th {\n",
       "        text-align: right;\n",
       "    }\n",
       "</style>\n",
       "<table border=\"1\" class=\"dataframe\">\n",
       "  <thead>\n",
       "    <tr style=\"text-align: right;\">\n",
       "      <th>WirelessData</th>\n",
       "      <th>1</th>\n",
       "      <th>2</th>\n",
       "      <th>All</th>\n",
       "    </tr>\n",
       "    <tr>\n",
       "      <th>cluster5_2</th>\n",
       "      <th></th>\n",
       "      <th></th>\n",
       "      <th></th>\n",
       "    </tr>\n",
       "  </thead>\n",
       "  <tbody>\n",
       "    <tr>\n",
       "      <th>1</th>\n",
       "      <td>0.058036</td>\n",
       "      <td>0.371171</td>\n",
       "      <td>0.2870</td>\n",
       "    </tr>\n",
       "    <tr>\n",
       "      <th>2</th>\n",
       "      <td>0.000000</td>\n",
       "      <td>0.402352</td>\n",
       "      <td>0.2942</td>\n",
       "    </tr>\n",
       "    <tr>\n",
       "      <th>3</th>\n",
       "      <td>0.683036</td>\n",
       "      <td>0.000000</td>\n",
       "      <td>0.1836</td>\n",
       "    </tr>\n",
       "    <tr>\n",
       "      <th>4</th>\n",
       "      <td>0.034226</td>\n",
       "      <td>0.022702</td>\n",
       "      <td>0.0258</td>\n",
       "    </tr>\n",
       "    <tr>\n",
       "      <th>5</th>\n",
       "      <td>0.224702</td>\n",
       "      <td>0.203775</td>\n",
       "      <td>0.2094</td>\n",
       "    </tr>\n",
       "  </tbody>\n",
       "</table>\n",
       "</div>"
      ],
      "text/plain": [
       "WirelessData         1         2     All\n",
       "cluster5_2                              \n",
       "1             0.058036  0.371171  0.2870\n",
       "2             0.000000  0.402352  0.2942\n",
       "3             0.683036  0.000000  0.1836\n",
       "4             0.034226  0.022702  0.0258\n",
       "5             0.224702  0.203775  0.2094"
      ]
     },
     "execution_count": 175,
     "metadata": {},
     "output_type": "execute_result"
    }
   ],
   "source": [
    "pd.crosstab(cust_df_clus5_ALL['cluster5_2'],cust_df_clus5_ALL['WirelessData'],margins=True, normalize = 'columns')"
   ]
  },
  {
   "cell_type": "code",
   "execution_count": 201,
   "metadata": {},
   "outputs": [
    {
     "data": {
      "text/html": [
       "<div>\n",
       "<style scoped>\n",
       "    .dataframe tbody tr th:only-of-type {\n",
       "        vertical-align: middle;\n",
       "    }\n",
       "\n",
       "    .dataframe tbody tr th {\n",
       "        vertical-align: top;\n",
       "    }\n",
       "\n",
       "    .dataframe thead th {\n",
       "        text-align: right;\n",
       "    }\n",
       "</style>\n",
       "<table border=\"1\" class=\"dataframe\">\n",
       "  <thead>\n",
       "    <tr style=\"text-align: right;\">\n",
       "      <th>PhoneCoTenure_Coded</th>\n",
       "      <th>1</th>\n",
       "      <th>2</th>\n",
       "      <th>3</th>\n",
       "      <th>4</th>\n",
       "      <th>All</th>\n",
       "    </tr>\n",
       "    <tr>\n",
       "      <th>cluster5_2</th>\n",
       "      <th></th>\n",
       "      <th></th>\n",
       "      <th></th>\n",
       "      <th></th>\n",
       "      <th></th>\n",
       "    </tr>\n",
       "  </thead>\n",
       "  <tbody>\n",
       "    <tr>\n",
       "      <th>1</th>\n",
       "      <td>0.000000</td>\n",
       "      <td>0.020610</td>\n",
       "      <td>0.343826</td>\n",
       "      <td>0.790997</td>\n",
       "      <td>0.2870</td>\n",
       "    </tr>\n",
       "    <tr>\n",
       "      <th>2</th>\n",
       "      <td>0.425613</td>\n",
       "      <td>0.478978</td>\n",
       "      <td>0.261501</td>\n",
       "      <td>0.008842</td>\n",
       "      <td>0.2942</td>\n",
       "    </tr>\n",
       "    <tr>\n",
       "      <th>3</th>\n",
       "      <td>0.159509</td>\n",
       "      <td>0.209398</td>\n",
       "      <td>0.226796</td>\n",
       "      <td>0.140675</td>\n",
       "      <td>0.1836</td>\n",
       "    </tr>\n",
       "    <tr>\n",
       "      <th>4</th>\n",
       "      <td>0.016871</td>\n",
       "      <td>0.024732</td>\n",
       "      <td>0.031477</td>\n",
       "      <td>0.030547</td>\n",
       "      <td>0.0258</td>\n",
       "    </tr>\n",
       "    <tr>\n",
       "      <th>5</th>\n",
       "      <td>0.398006</td>\n",
       "      <td>0.266282</td>\n",
       "      <td>0.136400</td>\n",
       "      <td>0.028939</td>\n",
       "      <td>0.2094</td>\n",
       "    </tr>\n",
       "  </tbody>\n",
       "</table>\n",
       "</div>"
      ],
      "text/plain": [
       "PhoneCoTenure_Coded         1         2         3         4     All\n",
       "cluster5_2                                                         \n",
       "1                    0.000000  0.020610  0.343826  0.790997  0.2870\n",
       "2                    0.425613  0.478978  0.261501  0.008842  0.2942\n",
       "3                    0.159509  0.209398  0.226796  0.140675  0.1836\n",
       "4                    0.016871  0.024732  0.031477  0.030547  0.0258\n",
       "5                    0.398006  0.266282  0.136400  0.028939  0.2094"
      ]
     },
     "execution_count": 201,
     "metadata": {},
     "output_type": "execute_result"
    }
   ],
   "source": [
    "pd.crosstab(cust_df_clus5_ALL['cluster5_2'],cust_df_clus5_ALL['PhoneCoTenure_Coded'],margins=True, normalize = 'columns')"
   ]
  },
  {
   "cell_type": "code",
   "execution_count": 177,
   "metadata": {},
   "outputs": [
    {
     "data": {
      "text/plain": [
       "cluster5_2\n",
       "1    74.173589\n",
       "2    22.601360\n",
       "3    34.421405\n",
       "4    48.413953\n",
       "5    23.440115\n",
       "Name: VoiceLastMonth_Coded, dtype: float64"
      ]
     },
     "execution_count": 177,
     "metadata": {},
     "output_type": "execute_result"
    }
   ],
   "source": [
    "cust_df_clus5_ALL.groupby(by = \"cluster5_2\").mean()[\"VoiceLastMonth_Coded\"]"
   ]
  },
  {
   "cell_type": "code",
   "execution_count": 178,
   "metadata": {},
   "outputs": [
    {
     "data": {
      "text/plain": [
       "cluster5_2\n",
       "1    1.740767\n",
       "2    1.544528\n",
       "3    1.266885\n",
       "4    1.465116\n",
       "5    1.415473\n",
       "Name: OwnsMobileDevice_Coded, dtype: float64"
      ]
     },
     "execution_count": 178,
     "metadata": {},
     "output_type": "execute_result"
    }
   ],
   "source": [
    "cust_df_clus5_ALL.groupby(by = \"cluster5_2\").mean()[\"OwnsMobileDevice_Coded\"]"
   ]
  },
  {
   "cell_type": "code",
   "execution_count": 202,
   "metadata": {},
   "outputs": [
    {
     "data": {
      "text/plain": [
       "cluster5_2\n",
       "1    62.025784\n",
       "2    25.855201\n",
       "3    37.732026\n",
       "4    42.759690\n",
       "5    22.760267\n",
       "Name: PhoneCoTenure, dtype: float64"
      ]
     },
     "execution_count": 202,
     "metadata": {},
     "output_type": "execute_result"
    }
   ],
   "source": [
    "cust_df_clus5_ALL.groupby(by = \"cluster5_2\").mean()[\"PhoneCoTenure\"]"
   ]
  },
  {
   "cell_type": "code",
   "execution_count": 179,
   "metadata": {},
   "outputs": [
    {
     "data": {
      "text/html": [
       "<div>\n",
       "<style scoped>\n",
       "    .dataframe tbody tr th:only-of-type {\n",
       "        vertical-align: middle;\n",
       "    }\n",
       "\n",
       "    .dataframe tbody tr th {\n",
       "        vertical-align: top;\n",
       "    }\n",
       "\n",
       "    .dataframe thead th {\n",
       "        text-align: right;\n",
       "    }\n",
       "</style>\n",
       "<table border=\"1\" class=\"dataframe\">\n",
       "  <thead>\n",
       "    <tr style=\"text-align: right;\">\n",
       "      <th></th>\n",
       "      <th></th>\n",
       "      <th></th>\n",
       "      <th></th>\n",
       "      <th>DebtToIncomeRatio</th>\n",
       "    </tr>\n",
       "    <tr>\n",
       "      <th>cluster5_2</th>\n",
       "      <th>WirelessData</th>\n",
       "      <th>LoanDefault</th>\n",
       "      <th>Age_Recoded</th>\n",
       "      <th></th>\n",
       "    </tr>\n",
       "  </thead>\n",
       "  <tbody>\n",
       "    <tr>\n",
       "      <th rowspan=\"12\" valign=\"top\">1</th>\n",
       "      <th rowspan=\"5\" valign=\"top\">1</th>\n",
       "      <th rowspan=\"2\" valign=\"top\">1</th>\n",
       "      <th>3</th>\n",
       "      <td>20.850000</td>\n",
       "    </tr>\n",
       "    <tr>\n",
       "      <th>4</th>\n",
       "      <td>13.666667</td>\n",
       "    </tr>\n",
       "    <tr>\n",
       "      <th rowspan=\"3\" valign=\"top\">2</th>\n",
       "      <th>2</th>\n",
       "      <td>5.800000</td>\n",
       "    </tr>\n",
       "    <tr>\n",
       "      <th>3</th>\n",
       "      <td>9.529412</td>\n",
       "    </tr>\n",
       "    <tr>\n",
       "      <th>4</th>\n",
       "      <td>9.396226</td>\n",
       "    </tr>\n",
       "    <tr>\n",
       "      <th rowspan=\"7\" valign=\"top\">2</th>\n",
       "      <th rowspan=\"3\" valign=\"top\">1</th>\n",
       "      <th>2</th>\n",
       "      <td>16.600000</td>\n",
       "    </tr>\n",
       "    <tr>\n",
       "      <th>3</th>\n",
       "      <td>18.070833</td>\n",
       "    </tr>\n",
       "    <tr>\n",
       "      <th>4</th>\n",
       "      <td>19.247368</td>\n",
       "    </tr>\n",
       "    <tr>\n",
       "      <th rowspan=\"4\" valign=\"top\">2</th>\n",
       "      <th>1</th>\n",
       "      <td>8.028571</td>\n",
       "    </tr>\n",
       "    <tr>\n",
       "      <th>2</th>\n",
       "      <td>9.224272</td>\n",
       "    </tr>\n",
       "    <tr>\n",
       "      <th>3</th>\n",
       "      <td>9.443223</td>\n",
       "    </tr>\n",
       "    <tr>\n",
       "      <th>4</th>\n",
       "      <td>9.887423</td>\n",
       "    </tr>\n",
       "    <tr>\n",
       "      <th rowspan=\"4\" valign=\"top\">2</th>\n",
       "      <th rowspan=\"4\" valign=\"top\">2</th>\n",
       "      <th rowspan=\"4\" valign=\"top\">2</th>\n",
       "      <th>1</th>\n",
       "      <td>7.546469</td>\n",
       "    </tr>\n",
       "    <tr>\n",
       "      <th>2</th>\n",
       "      <td>8.379029</td>\n",
       "    </tr>\n",
       "    <tr>\n",
       "      <th>3</th>\n",
       "      <td>9.115432</td>\n",
       "    </tr>\n",
       "    <tr>\n",
       "      <th>4</th>\n",
       "      <td>9.643511</td>\n",
       "    </tr>\n",
       "    <tr>\n",
       "      <th rowspan=\"7\" valign=\"top\">3</th>\n",
       "      <th rowspan=\"7\" valign=\"top\">1</th>\n",
       "      <th rowspan=\"3\" valign=\"top\">1</th>\n",
       "      <th>2</th>\n",
       "      <td>13.544444</td>\n",
       "    </tr>\n",
       "    <tr>\n",
       "      <th>3</th>\n",
       "      <td>17.219048</td>\n",
       "    </tr>\n",
       "    <tr>\n",
       "      <th>4</th>\n",
       "      <td>24.800000</td>\n",
       "    </tr>\n",
       "    <tr>\n",
       "      <th rowspan=\"4\" valign=\"top\">2</th>\n",
       "      <th>1</th>\n",
       "      <td>7.726705</td>\n",
       "    </tr>\n",
       "    <tr>\n",
       "      <th>2</th>\n",
       "      <td>8.273540</td>\n",
       "    </tr>\n",
       "    <tr>\n",
       "      <th>3</th>\n",
       "      <td>8.957143</td>\n",
       "    </tr>\n",
       "    <tr>\n",
       "      <th>4</th>\n",
       "      <td>9.260248</td>\n",
       "    </tr>\n",
       "    <tr>\n",
       "      <th rowspan=\"16\" valign=\"top\">4</th>\n",
       "      <th rowspan=\"8\" valign=\"top\">1</th>\n",
       "      <th rowspan=\"4\" valign=\"top\">1</th>\n",
       "      <th>1</th>\n",
       "      <td>10.300000</td>\n",
       "    </tr>\n",
       "    <tr>\n",
       "      <th>2</th>\n",
       "      <td>12.200000</td>\n",
       "    </tr>\n",
       "    <tr>\n",
       "      <th>3</th>\n",
       "      <td>14.081818</td>\n",
       "    </tr>\n",
       "    <tr>\n",
       "      <th>4</th>\n",
       "      <td>17.600000</td>\n",
       "    </tr>\n",
       "    <tr>\n",
       "      <th rowspan=\"4\" valign=\"top\">2</th>\n",
       "      <th>1</th>\n",
       "      <td>3.940000</td>\n",
       "    </tr>\n",
       "    <tr>\n",
       "      <th>2</th>\n",
       "      <td>8.600000</td>\n",
       "    </tr>\n",
       "    <tr>\n",
       "      <th>3</th>\n",
       "      <td>7.666667</td>\n",
       "    </tr>\n",
       "    <tr>\n",
       "      <th>4</th>\n",
       "      <td>13.133333</td>\n",
       "    </tr>\n",
       "    <tr>\n",
       "      <th rowspan=\"8\" valign=\"top\">2</th>\n",
       "      <th rowspan=\"4\" valign=\"top\">1</th>\n",
       "      <th>1</th>\n",
       "      <td>12.875000</td>\n",
       "    </tr>\n",
       "    <tr>\n",
       "      <th>2</th>\n",
       "      <td>11.100000</td>\n",
       "    </tr>\n",
       "    <tr>\n",
       "      <th>3</th>\n",
       "      <td>18.050000</td>\n",
       "    </tr>\n",
       "    <tr>\n",
       "      <th>4</th>\n",
       "      <td>8.400000</td>\n",
       "    </tr>\n",
       "    <tr>\n",
       "      <th rowspan=\"4\" valign=\"top\">2</th>\n",
       "      <th>1</th>\n",
       "      <td>5.540000</td>\n",
       "    </tr>\n",
       "    <tr>\n",
       "      <th>2</th>\n",
       "      <td>7.863158</td>\n",
       "    </tr>\n",
       "    <tr>\n",
       "      <th>3</th>\n",
       "      <td>10.466667</td>\n",
       "    </tr>\n",
       "    <tr>\n",
       "      <th>4</th>\n",
       "      <td>10.360000</td>\n",
       "    </tr>\n",
       "    <tr>\n",
       "      <th rowspan=\"8\" valign=\"top\">5</th>\n",
       "      <th rowspan=\"4\" valign=\"top\">1</th>\n",
       "      <th rowspan=\"4\" valign=\"top\">1</th>\n",
       "      <th>1</th>\n",
       "      <td>12.136723</td>\n",
       "    </tr>\n",
       "    <tr>\n",
       "      <th>2</th>\n",
       "      <td>13.066000</td>\n",
       "    </tr>\n",
       "    <tr>\n",
       "      <th>3</th>\n",
       "      <td>17.471429</td>\n",
       "    </tr>\n",
       "    <tr>\n",
       "      <th>4</th>\n",
       "      <td>10.575000</td>\n",
       "    </tr>\n",
       "    <tr>\n",
       "      <th rowspan=\"4\" valign=\"top\">2</th>\n",
       "      <th rowspan=\"4\" valign=\"top\">1</th>\n",
       "      <th>1</th>\n",
       "      <td>11.657011</td>\n",
       "    </tr>\n",
       "    <tr>\n",
       "      <th>2</th>\n",
       "      <td>14.268599</td>\n",
       "    </tr>\n",
       "    <tr>\n",
       "      <th>3</th>\n",
       "      <td>15.967089</td>\n",
       "    </tr>\n",
       "    <tr>\n",
       "      <th>4</th>\n",
       "      <td>16.537500</td>\n",
       "    </tr>\n",
       "  </tbody>\n",
       "</table>\n",
       "</div>"
      ],
      "text/plain": [
       "                                                 DebtToIncomeRatio\n",
       "cluster5_2 WirelessData LoanDefault Age_Recoded                   \n",
       "1          1            1           3                    20.850000\n",
       "                                    4                    13.666667\n",
       "                        2           2                     5.800000\n",
       "                                    3                     9.529412\n",
       "                                    4                     9.396226\n",
       "           2            1           2                    16.600000\n",
       "                                    3                    18.070833\n",
       "                                    4                    19.247368\n",
       "                        2           1                     8.028571\n",
       "                                    2                     9.224272\n",
       "                                    3                     9.443223\n",
       "                                    4                     9.887423\n",
       "2          2            2           1                     7.546469\n",
       "                                    2                     8.379029\n",
       "                                    3                     9.115432\n",
       "                                    4                     9.643511\n",
       "3          1            1           2                    13.544444\n",
       "                                    3                    17.219048\n",
       "                                    4                    24.800000\n",
       "                        2           1                     7.726705\n",
       "                                    2                     8.273540\n",
       "                                    3                     8.957143\n",
       "                                    4                     9.260248\n",
       "4          1            1           1                    10.300000\n",
       "                                    2                    12.200000\n",
       "                                    3                    14.081818\n",
       "                                    4                    17.600000\n",
       "                        2           1                     3.940000\n",
       "                                    2                     8.600000\n",
       "                                    3                     7.666667\n",
       "                                    4                    13.133333\n",
       "           2            1           1                    12.875000\n",
       "                                    2                    11.100000\n",
       "                                    3                    18.050000\n",
       "                                    4                     8.400000\n",
       "                        2           1                     5.540000\n",
       "                                    2                     7.863158\n",
       "                                    3                    10.466667\n",
       "                                    4                    10.360000\n",
       "5          1            1           1                    12.136723\n",
       "                                    2                    13.066000\n",
       "                                    3                    17.471429\n",
       "                                    4                    10.575000\n",
       "           2            1           1                    11.657011\n",
       "                                    2                    14.268599\n",
       "                                    3                    15.967089\n",
       "                                    4                    16.537500"
      ]
     },
     "metadata": {},
     "output_type": "display_data"
    }
   ],
   "source": [
    "# Using pandas pivot tables to create a cross tab of DebtToIncomeRatio by clusters by loan defaults by Age\n",
    "\n",
    "Cluster_Grps = cust_df_clus5_ALL.pivot_table(values=[\"DebtToIncomeRatio\"], index=['cluster5_2','WirelessData',\n",
    "                                                                                  'LoanDefault',\n",
    "                                                                                  'Age_Recoded'], aggfunc=np.mean)\n",
    "display (Cluster_Grps)"
   ]
  },
  {
   "cell_type": "code",
   "execution_count": 180,
   "metadata": {},
   "outputs": [
    {
     "data": {
      "text/html": [
       "<div>\n",
       "<style scoped>\n",
       "    .dataframe tbody tr th:only-of-type {\n",
       "        vertical-align: middle;\n",
       "    }\n",
       "\n",
       "    .dataframe tbody tr th {\n",
       "        vertical-align: top;\n",
       "    }\n",
       "\n",
       "    .dataframe thead th {\n",
       "        text-align: right;\n",
       "    }\n",
       "</style>\n",
       "<table border=\"1\" class=\"dataframe\">\n",
       "  <thead>\n",
       "    <tr style=\"text-align: right;\">\n",
       "      <th></th>\n",
       "      <th>cluster5_2</th>\n",
       "    </tr>\n",
       "  </thead>\n",
       "  <tbody>\n",
       "    <tr>\n",
       "      <th>0</th>\n",
       "      <td>5</td>\n",
       "    </tr>\n",
       "    <tr>\n",
       "      <th>1</th>\n",
       "      <td>5</td>\n",
       "    </tr>\n",
       "    <tr>\n",
       "      <th>2</th>\n",
       "      <td>1</td>\n",
       "    </tr>\n",
       "    <tr>\n",
       "      <th>3</th>\n",
       "      <td>5</td>\n",
       "    </tr>\n",
       "    <tr>\n",
       "      <th>4</th>\n",
       "      <td>3</td>\n",
       "    </tr>\n",
       "  </tbody>\n",
       "</table>\n",
       "</div>"
      ],
      "text/plain": [
       "   cluster5_2\n",
       "0           5\n",
       "1           5\n",
       "2           1\n",
       "3           5\n",
       "4           3"
      ]
     },
     "execution_count": 180,
     "metadata": {},
     "output_type": "execute_result"
    }
   ],
   "source": [
    "#Extracting the cluster data from the original cluster solution and saving it as a DataFrame with an index\n",
    "cust_df_kmeans_cluster5_2 = pd.DataFrame(cust_df_frame_2['cluster5_2'])\n",
    "cust_df_kmeans_cluster5_2.head()"
   ]
  },
  {
   "cell_type": "code",
   "execution_count": 181,
   "metadata": {},
   "outputs": [
    {
     "data": {
      "text/plain": [
       "(5000, 1)"
      ]
     },
     "execution_count": 181,
     "metadata": {},
     "output_type": "execute_result"
    }
   ],
   "source": [
    "# Checking on the size and shape of the DataFrame\n",
    "cust_df_kmeans_cluster5_2.shape"
   ]
  },
  {
   "cell_type": "code",
   "execution_count": 182,
   "metadata": {},
   "outputs": [
    {
     "data": {
      "text/html": [
       "<div>\n",
       "<style scoped>\n",
       "    .dataframe tbody tr th:only-of-type {\n",
       "        vertical-align: middle;\n",
       "    }\n",
       "\n",
       "    .dataframe tbody tr th {\n",
       "        vertical-align: top;\n",
       "    }\n",
       "\n",
       "    .dataframe thead th {\n",
       "        text-align: right;\n",
       "    }\n",
       "</style>\n",
       "<table border=\"1\" class=\"dataframe\">\n",
       "  <thead>\n",
       "    <tr style=\"text-align: right;\">\n",
       "      <th></th>\n",
       "      <th>Age_Recoded</th>\n",
       "      <th>LoanDefault_num</th>\n",
       "      <th>WirelessData</th>\n",
       "      <th>PhoneCoTenure_Coded</th>\n",
       "      <th>CardSpendMonth_cat</th>\n",
       "      <th>OwnsMobileDevice_Coded</th>\n",
       "      <th>VoiceLastMonth_Coded</th>\n",
       "    </tr>\n",
       "  </thead>\n",
       "  <tbody>\n",
       "    <tr>\n",
       "      <th>0</th>\n",
       "      <td>1</td>\n",
       "      <td>1</td>\n",
       "      <td>2</td>\n",
       "      <td>1</td>\n",
       "      <td>1</td>\n",
       "      <td>1</td>\n",
       "      <td>19.50</td>\n",
       "    </tr>\n",
       "    <tr>\n",
       "      <th>1</th>\n",
       "      <td>1</td>\n",
       "      <td>1</td>\n",
       "      <td>1</td>\n",
       "      <td>3</td>\n",
       "      <td>1</td>\n",
       "      <td>1</td>\n",
       "      <td>26.70</td>\n",
       "    </tr>\n",
       "    <tr>\n",
       "      <th>2</th>\n",
       "      <td>4</td>\n",
       "      <td>2</td>\n",
       "      <td>2</td>\n",
       "      <td>4</td>\n",
       "      <td>1</td>\n",
       "      <td>2</td>\n",
       "      <td>85.20</td>\n",
       "    </tr>\n",
       "    <tr>\n",
       "      <th>3</th>\n",
       "      <td>1</td>\n",
       "      <td>1</td>\n",
       "      <td>2</td>\n",
       "      <td>2</td>\n",
       "      <td>1</td>\n",
       "      <td>1</td>\n",
       "      <td>18.00</td>\n",
       "    </tr>\n",
       "    <tr>\n",
       "      <th>4</th>\n",
       "      <td>1</td>\n",
       "      <td>2</td>\n",
       "      <td>1</td>\n",
       "      <td>2</td>\n",
       "      <td>1</td>\n",
       "      <td>2</td>\n",
       "      <td>9.15</td>\n",
       "    </tr>\n",
       "  </tbody>\n",
       "</table>\n",
       "</div>"
      ],
      "text/plain": [
       "  Age_Recoded  LoanDefault_num  WirelessData PhoneCoTenure_Coded  \\\n",
       "0           1                1             2                   1   \n",
       "1           1                1             1                   3   \n",
       "2           4                2             2                   4   \n",
       "3           1                1             2                   2   \n",
       "4           1                2             1                   2   \n",
       "\n",
       "  CardSpendMonth_cat  OwnsMobileDevice_Coded  VoiceLastMonth_Coded  \n",
       "0                  1                       1                 19.50  \n",
       "1                  1                       1                 26.70  \n",
       "2                  1                       2                 85.20  \n",
       "3                  1                       1                 18.00  \n",
       "4                  1                       2                  9.15  "
      ]
     },
     "execution_count": 182,
     "metadata": {},
     "output_type": "execute_result"
    }
   ],
   "source": [
    "cust_df_kmeans.head(5)"
   ]
  },
  {
   "cell_type": "code",
   "execution_count": 183,
   "metadata": {},
   "outputs": [],
   "source": [
    "# Joining the clusters from kmeans to the original data used for clustering\n",
    "cust_df_clus5_rf = pd.DataFrame(pd.concat([cust_df_kmeans_cluster5_2, cust_df_kmeans], axis = 1))"
   ]
  },
  {
   "cell_type": "code",
   "execution_count": 184,
   "metadata": {},
   "outputs": [
    {
     "data": {
      "text/html": [
       "<div>\n",
       "<style scoped>\n",
       "    .dataframe tbody tr th:only-of-type {\n",
       "        vertical-align: middle;\n",
       "    }\n",
       "\n",
       "    .dataframe tbody tr th {\n",
       "        vertical-align: top;\n",
       "    }\n",
       "\n",
       "    .dataframe thead th {\n",
       "        text-align: right;\n",
       "    }\n",
       "</style>\n",
       "<table border=\"1\" class=\"dataframe\">\n",
       "  <thead>\n",
       "    <tr style=\"text-align: right;\">\n",
       "      <th></th>\n",
       "      <th>cluster5_2</th>\n",
       "      <th>Age_Recoded</th>\n",
       "      <th>LoanDefault_num</th>\n",
       "      <th>WirelessData</th>\n",
       "      <th>PhoneCoTenure_Coded</th>\n",
       "      <th>CardSpendMonth_cat</th>\n",
       "      <th>OwnsMobileDevice_Coded</th>\n",
       "      <th>VoiceLastMonth_Coded</th>\n",
       "    </tr>\n",
       "  </thead>\n",
       "  <tbody>\n",
       "    <tr>\n",
       "      <th>0</th>\n",
       "      <td>5</td>\n",
       "      <td>1</td>\n",
       "      <td>1</td>\n",
       "      <td>2</td>\n",
       "      <td>1</td>\n",
       "      <td>1</td>\n",
       "      <td>1</td>\n",
       "      <td>19.50</td>\n",
       "    </tr>\n",
       "    <tr>\n",
       "      <th>1</th>\n",
       "      <td>5</td>\n",
       "      <td>1</td>\n",
       "      <td>1</td>\n",
       "      <td>1</td>\n",
       "      <td>3</td>\n",
       "      <td>1</td>\n",
       "      <td>1</td>\n",
       "      <td>26.70</td>\n",
       "    </tr>\n",
       "    <tr>\n",
       "      <th>2</th>\n",
       "      <td>1</td>\n",
       "      <td>4</td>\n",
       "      <td>2</td>\n",
       "      <td>2</td>\n",
       "      <td>4</td>\n",
       "      <td>1</td>\n",
       "      <td>2</td>\n",
       "      <td>85.20</td>\n",
       "    </tr>\n",
       "    <tr>\n",
       "      <th>3</th>\n",
       "      <td>5</td>\n",
       "      <td>1</td>\n",
       "      <td>1</td>\n",
       "      <td>2</td>\n",
       "      <td>2</td>\n",
       "      <td>1</td>\n",
       "      <td>1</td>\n",
       "      <td>18.00</td>\n",
       "    </tr>\n",
       "    <tr>\n",
       "      <th>4</th>\n",
       "      <td>3</td>\n",
       "      <td>1</td>\n",
       "      <td>2</td>\n",
       "      <td>1</td>\n",
       "      <td>2</td>\n",
       "      <td>1</td>\n",
       "      <td>2</td>\n",
       "      <td>9.15</td>\n",
       "    </tr>\n",
       "  </tbody>\n",
       "</table>\n",
       "</div>"
      ],
      "text/plain": [
       "   cluster5_2 Age_Recoded  LoanDefault_num  WirelessData PhoneCoTenure_Coded  \\\n",
       "0           5           1                1             2                   1   \n",
       "1           5           1                1             1                   3   \n",
       "2           1           4                2             2                   4   \n",
       "3           5           1                1             2                   2   \n",
       "4           3           1                2             1                   2   \n",
       "\n",
       "  CardSpendMonth_cat  OwnsMobileDevice_Coded  VoiceLastMonth_Coded  \n",
       "0                  1                       1                 19.50  \n",
       "1                  1                       1                 26.70  \n",
       "2                  1                       2                 85.20  \n",
       "3                  1                       1                 18.00  \n",
       "4                  1                       2                  9.15  "
      ]
     },
     "execution_count": 184,
     "metadata": {},
     "output_type": "execute_result"
    }
   ],
   "source": [
    "cust_df_clus5_rf.head()"
   ]
  },
  {
   "cell_type": "code",
   "execution_count": 185,
   "metadata": {},
   "outputs": [
    {
     "data": {
      "text/plain": [
       "(5000, 8)"
      ]
     },
     "execution_count": 185,
     "metadata": {},
     "output_type": "execute_result"
    }
   ],
   "source": [
    "cust_df_clus5_rf.shape"
   ]
  },
  {
   "cell_type": "code",
   "execution_count": 186,
   "metadata": {},
   "outputs": [
    {
     "data": {
      "text/plain": [
       "2    1471\n",
       "1    1435\n",
       "5    1047\n",
       "3     918\n",
       "4     129\n",
       "Name: cluster5_2, dtype: int64"
      ]
     },
     "execution_count": 186,
     "metadata": {},
     "output_type": "execute_result"
    }
   ],
   "source": [
    "# Check on the cluster distribution after extraction and concatenating\n",
    "cust_df_clus5_rf['cluster5_2'].value_counts()"
   ]
  },
  {
   "cell_type": "markdown",
   "metadata": {},
   "source": [
    "### END OF SEGMENTATION EXAMPLE CODE "
   ]
  },
  {
   "cell_type": "markdown",
   "metadata": {},
   "source": [
    "#For those intersting in exploring a Random Forest Model\n",
    "def split_data(df, train_perc = 0.8):\n",
    "    df['train'] = np.random.rand(len(df)) < train_perc\n",
    "    train = df[df.train == 1]\n",
    "    test = df[df.train == 0]\n",
    "    split_data ={'train': train, 'test': test}\n",
    "    return split_data"
   ]
  },
  {
   "cell_type": "code",
   "execution_count": 187,
   "metadata": {
    "scrolled": true
   },
   "outputs": [],
   "source": [
    "#split_data(cust_df_kmeans,0.8)"
   ]
  },
  {
   "cell_type": "code",
   "execution_count": 188,
   "metadata": {},
   "outputs": [],
   "source": [
    "probs = np.random.rand(len(cust_df_clus5_rf))\n",
    "training_set = probs < 0.8\n",
    "test_set = (probs>=0.8)\n",
    "\n",
    "cust_df_kmeans_clus_5_trg = cust_df_clus5_rf[training_set]\n",
    "cust_df_kmeans_clus_5_tst = cust_df_clus5_rf[test_set]"
   ]
  },
  {
   "cell_type": "code",
   "execution_count": 189,
   "metadata": {},
   "outputs": [
    {
     "data": {
      "text/html": [
       "<div>\n",
       "<style scoped>\n",
       "    .dataframe tbody tr th:only-of-type {\n",
       "        vertical-align: middle;\n",
       "    }\n",
       "\n",
       "    .dataframe tbody tr th {\n",
       "        vertical-align: top;\n",
       "    }\n",
       "\n",
       "    .dataframe thead th {\n",
       "        text-align: right;\n",
       "    }\n",
       "</style>\n",
       "<table border=\"1\" class=\"dataframe\">\n",
       "  <thead>\n",
       "    <tr style=\"text-align: right;\">\n",
       "      <th></th>\n",
       "      <th>Age_Recoded</th>\n",
       "      <th>LoanDefault_num</th>\n",
       "      <th>WirelessData</th>\n",
       "      <th>PhoneCoTenure_Coded</th>\n",
       "      <th>CardSpendMonth_cat</th>\n",
       "      <th>OwnsMobileDevice_Coded</th>\n",
       "      <th>VoiceLastMonth_Coded</th>\n",
       "    </tr>\n",
       "  </thead>\n",
       "  <tbody>\n",
       "    <tr>\n",
       "      <th>0</th>\n",
       "      <td>1</td>\n",
       "      <td>1</td>\n",
       "      <td>2</td>\n",
       "      <td>1</td>\n",
       "      <td>1</td>\n",
       "      <td>1</td>\n",
       "      <td>19.5</td>\n",
       "    </tr>\n",
       "    <tr>\n",
       "      <th>1</th>\n",
       "      <td>1</td>\n",
       "      <td>1</td>\n",
       "      <td>1</td>\n",
       "      <td>3</td>\n",
       "      <td>1</td>\n",
       "      <td>1</td>\n",
       "      <td>26.7</td>\n",
       "    </tr>\n",
       "    <tr>\n",
       "      <th>2</th>\n",
       "      <td>4</td>\n",
       "      <td>2</td>\n",
       "      <td>2</td>\n",
       "      <td>4</td>\n",
       "      <td>1</td>\n",
       "      <td>2</td>\n",
       "      <td>85.2</td>\n",
       "    </tr>\n",
       "    <tr>\n",
       "      <th>5</th>\n",
       "      <td>4</td>\n",
       "      <td>2</td>\n",
       "      <td>2</td>\n",
       "      <td>2</td>\n",
       "      <td>1</td>\n",
       "      <td>2</td>\n",
       "      <td>24.3</td>\n",
       "    </tr>\n",
       "    <tr>\n",
       "      <th>6</th>\n",
       "      <td>3</td>\n",
       "      <td>2</td>\n",
       "      <td>2</td>\n",
       "      <td>1</td>\n",
       "      <td>1</td>\n",
       "      <td>1</td>\n",
       "      <td>11.4</td>\n",
       "    </tr>\n",
       "  </tbody>\n",
       "</table>\n",
       "</div>"
      ],
      "text/plain": [
       "  Age_Recoded  LoanDefault_num  WirelessData PhoneCoTenure_Coded  \\\n",
       "0           1                1             2                   1   \n",
       "1           1                1             1                   3   \n",
       "2           4                2             2                   4   \n",
       "5           4                2             2                   2   \n",
       "6           3                2             2                   1   \n",
       "\n",
       "  CardSpendMonth_cat  OwnsMobileDevice_Coded  VoiceLastMonth_Coded  \n",
       "0                  1                       1                  19.5  \n",
       "1                  1                       1                  26.7  \n",
       "2                  1                       2                  85.2  \n",
       "5                  1                       2                  24.3  \n",
       "6                  1                       1                  11.4  "
      ]
     },
     "execution_count": 189,
     "metadata": {},
     "output_type": "execute_result"
    }
   ],
   "source": [
    "# Removing the y variable - cluster5_2 from the training data set\n",
    "cust_df_kmeans_clus_5_trg2 = cust_df_kmeans_clus_5_trg.drop('cluster5_2', 1)\n",
    "cust_df_kmeans_clu_5_Y = pd.DataFrame(cust_df_kmeans_clus_5_trg['cluster5_2'])\n",
    "cust_df_kmeans_clus_5_trg2.head()"
   ]
  },
  {
   "cell_type": "code",
   "execution_count": 190,
   "metadata": {},
   "outputs": [
    {
     "data": {
      "text/html": [
       "<div>\n",
       "<style scoped>\n",
       "    .dataframe tbody tr th:only-of-type {\n",
       "        vertical-align: middle;\n",
       "    }\n",
       "\n",
       "    .dataframe tbody tr th {\n",
       "        vertical-align: top;\n",
       "    }\n",
       "\n",
       "    .dataframe thead th {\n",
       "        text-align: right;\n",
       "    }\n",
       "</style>\n",
       "<table border=\"1\" class=\"dataframe\">\n",
       "  <thead>\n",
       "    <tr style=\"text-align: right;\">\n",
       "      <th></th>\n",
       "      <th>Age_Recoded</th>\n",
       "      <th>LoanDefault_num</th>\n",
       "      <th>WirelessData</th>\n",
       "      <th>PhoneCoTenure_Coded</th>\n",
       "      <th>CardSpendMonth_cat</th>\n",
       "      <th>OwnsMobileDevice_Coded</th>\n",
       "      <th>VoiceLastMonth_Coded</th>\n",
       "    </tr>\n",
       "  </thead>\n",
       "  <tbody>\n",
       "    <tr>\n",
       "      <th>3</th>\n",
       "      <td>1</td>\n",
       "      <td>1</td>\n",
       "      <td>2</td>\n",
       "      <td>2</td>\n",
       "      <td>1</td>\n",
       "      <td>1</td>\n",
       "      <td>18.00</td>\n",
       "    </tr>\n",
       "    <tr>\n",
       "      <th>4</th>\n",
       "      <td>1</td>\n",
       "      <td>2</td>\n",
       "      <td>1</td>\n",
       "      <td>2</td>\n",
       "      <td>1</td>\n",
       "      <td>2</td>\n",
       "      <td>9.15</td>\n",
       "    </tr>\n",
       "    <tr>\n",
       "      <th>13</th>\n",
       "      <td>3</td>\n",
       "      <td>2</td>\n",
       "      <td>2</td>\n",
       "      <td>3</td>\n",
       "      <td>1</td>\n",
       "      <td>2</td>\n",
       "      <td>36.30</td>\n",
       "    </tr>\n",
       "    <tr>\n",
       "      <th>14</th>\n",
       "      <td>4</td>\n",
       "      <td>2</td>\n",
       "      <td>2</td>\n",
       "      <td>4</td>\n",
       "      <td>1</td>\n",
       "      <td>2</td>\n",
       "      <td>41.70</td>\n",
       "    </tr>\n",
       "    <tr>\n",
       "      <th>18</th>\n",
       "      <td>1</td>\n",
       "      <td>2</td>\n",
       "      <td>2</td>\n",
       "      <td>2</td>\n",
       "      <td>1</td>\n",
       "      <td>2</td>\n",
       "      <td>10.35</td>\n",
       "    </tr>\n",
       "  </tbody>\n",
       "</table>\n",
       "</div>"
      ],
      "text/plain": [
       "   Age_Recoded  LoanDefault_num  WirelessData PhoneCoTenure_Coded  \\\n",
       "3            1                1             2                   2   \n",
       "4            1                2             1                   2   \n",
       "13           3                2             2                   3   \n",
       "14           4                2             2                   4   \n",
       "18           1                2             2                   2   \n",
       "\n",
       "   CardSpendMonth_cat  OwnsMobileDevice_Coded  VoiceLastMonth_Coded  \n",
       "3                   1                       1                 18.00  \n",
       "4                   1                       2                  9.15  \n",
       "13                  1                       2                 36.30  \n",
       "14                  1                       2                 41.70  \n",
       "18                  1                       2                 10.35  "
      ]
     },
     "execution_count": 190,
     "metadata": {},
     "output_type": "execute_result"
    }
   ],
   "source": [
    "# Removing the y variable - cluster5_2 from the testing data set\n",
    "cust_df_kmeans_clus_5_tst2 = cust_df_kmeans_clus_5_tst.drop('cluster5_2', 1)\n",
    "cust_df_kmeans_clu_5_Y_tst = pd.DataFrame(cust_df_kmeans_clus_5_tst['cluster5_2'])\n",
    "cust_df_kmeans_clus_5_tst2.head()"
   ]
  },
  {
   "cell_type": "code",
   "execution_count": 191,
   "metadata": {},
   "outputs": [
    {
     "data": {
      "text/html": [
       "<div>\n",
       "<style scoped>\n",
       "    .dataframe tbody tr th:only-of-type {\n",
       "        vertical-align: middle;\n",
       "    }\n",
       "\n",
       "    .dataframe tbody tr th {\n",
       "        vertical-align: top;\n",
       "    }\n",
       "\n",
       "    .dataframe thead th {\n",
       "        text-align: right;\n",
       "    }\n",
       "</style>\n",
       "<table border=\"1\" class=\"dataframe\">\n",
       "  <thead>\n",
       "    <tr style=\"text-align: right;\">\n",
       "      <th></th>\n",
       "      <th>cluster5_2</th>\n",
       "    </tr>\n",
       "  </thead>\n",
       "  <tbody>\n",
       "    <tr>\n",
       "      <th>0</th>\n",
       "      <td>5</td>\n",
       "    </tr>\n",
       "    <tr>\n",
       "      <th>1</th>\n",
       "      <td>5</td>\n",
       "    </tr>\n",
       "    <tr>\n",
       "      <th>2</th>\n",
       "      <td>1</td>\n",
       "    </tr>\n",
       "    <tr>\n",
       "      <th>5</th>\n",
       "      <td>2</td>\n",
       "    </tr>\n",
       "    <tr>\n",
       "      <th>6</th>\n",
       "      <td>2</td>\n",
       "    </tr>\n",
       "  </tbody>\n",
       "</table>\n",
       "</div>"
      ],
      "text/plain": [
       "   cluster5_2\n",
       "0           5\n",
       "1           5\n",
       "2           1\n",
       "5           2\n",
       "6           2"
      ]
     },
     "execution_count": 191,
     "metadata": {},
     "output_type": "execute_result"
    }
   ],
   "source": [
    "cust_df_kmeans_clu_5_Y.head()"
   ]
  },
  {
   "cell_type": "code",
   "execution_count": 192,
   "metadata": {},
   "outputs": [
    {
     "data": {
      "text/plain": [
       "(4002, 7)"
      ]
     },
     "execution_count": 192,
     "metadata": {},
     "output_type": "execute_result"
    }
   ],
   "source": [
    "cust_df_kmeans_clus_5_trg2.shape"
   ]
  },
  {
   "cell_type": "code",
   "execution_count": 193,
   "metadata": {},
   "outputs": [
    {
     "data": {
      "text/plain": [
       "(998, 8)"
      ]
     },
     "execution_count": 193,
     "metadata": {},
     "output_type": "execute_result"
    }
   ],
   "source": [
    "cust_df_kmeans_clus_5_tst.shape"
   ]
  },
  {
   "cell_type": "code",
   "execution_count": 194,
   "metadata": {},
   "outputs": [
    {
     "name": "stderr",
     "output_type": "stream",
     "text": [
      "C:\\Users\\HP\\AppData\\Local\\Temp/ipykernel_10652/4126461758.py:8: DataConversionWarning: A column-vector y was passed when a 1d array was expected. Please change the shape of y to (n_samples,), for example using ravel().\n",
      "  clf_5.fit(cust_df_kmeans_clus_5_trg2, cust_df_kmeans_clu_5_Y)\n"
     ]
    },
    {
     "data": {
      "text/plain": [
       "RandomForestClassifier()"
      ]
     },
     "execution_count": 194,
     "metadata": {},
     "output_type": "execute_result"
    }
   ],
   "source": [
    "#Import Random Forest Model\n",
    "from sklearn.ensemble import RandomForestClassifier\n",
    "\n",
    "#Create a Gaussian Classifier\n",
    "clf_5 = RandomForestClassifier(n_estimators=100)\n",
    "\n",
    "#Train the model using the training sets y_pred=clf.predict(X_test)\n",
    "clf_5.fit(cust_df_kmeans_clus_5_trg2, cust_df_kmeans_clu_5_Y)\n",
    "\n",
    "cust_df_kmeans_clu_5_Y_pred = clf_5.predict(cust_df_kmeans_clus_5_tst2)"
   ]
  },
  {
   "cell_type": "code",
   "execution_count": 195,
   "metadata": {},
   "outputs": [
    {
     "name": "stdout",
     "output_type": "stream",
     "text": [
      "Accuracy: 0.9949899799599199\n"
     ]
    }
   ],
   "source": [
    "#Import scikit-learn metrics module for accuracy calculation\n",
    "from sklearn import metrics\n",
    "# Model Accuracy, how often is the classifier correct?\n",
    "print(\"Accuracy:\",metrics.accuracy_score(cust_df_kmeans_clu_5_Y_tst, cust_df_kmeans_clu_5_Y_pred))"
   ]
  },
  {
   "cell_type": "code",
   "execution_count": 196,
   "metadata": {},
   "outputs": [],
   "source": [
    "# Create a list of feature names\n",
    "feature_names = list(cust_df_kmeans_clus_5_trg2.columns)"
   ]
  },
  {
   "cell_type": "code",
   "execution_count": 197,
   "metadata": {},
   "outputs": [
    {
     "data": {
      "text/plain": [
       "LoanDefault_num           0.294500\n",
       "WirelessData              0.236717\n",
       "VoiceLastMonth_Coded      0.153386\n",
       "PhoneCoTenure_Coded       0.132652\n",
       "Age_Recoded               0.106961\n",
       "CardSpendMonth_cat        0.049469\n",
       "OwnsMobileDevice_Coded    0.026315\n",
       "dtype: float64"
      ]
     },
     "execution_count": 197,
     "metadata": {},
     "output_type": "execute_result"
    }
   ],
   "source": [
    "# Compute feature importances for the features used in the RF model\n",
    "feature_imp = pd.Series(clf_5.feature_importances_,index = feature_names).sort_values(ascending=False)\n",
    "feature_imp"
   ]
  },
  {
   "cell_type": "code",
   "execution_count": 198,
   "metadata": {},
   "outputs": [
    {
     "data": {
      "text/plain": [
       "<AxesSubplot:>"
      ]
     },
     "execution_count": 198,
     "metadata": {},
     "output_type": "execute_result"
    },
    {
     "data": {
      "text/plain": [
       "Text(0.5, 0, 'Feature Importance Score')"
      ]
     },
     "execution_count": 198,
     "metadata": {},
     "output_type": "execute_result"
    },
    {
     "data": {
      "text/plain": [
       "Text(0, 0.5, 'Features')"
      ]
     },
     "execution_count": 198,
     "metadata": {},
     "output_type": "execute_result"
    },
    {
     "data": {
      "text/plain": [
       "Text(0.5, 1.0, 'Visualizing Important Features')"
      ]
     },
     "execution_count": 198,
     "metadata": {},
     "output_type": "execute_result"
    },
    {
     "name": "stderr",
     "output_type": "stream",
     "text": [
      "No artists with labels found to put in legend.  Note that artists whose label start with an underscore are ignored when legend() is called with no argument.\n"
     ]
    },
    {
     "data": {
      "text/plain": [
       "<matplotlib.legend.Legend at 0x26044b64130>"
      ]
     },
     "execution_count": 198,
     "metadata": {},
     "output_type": "execute_result"
    },
    {
     "data": {
      "image/png": "[encoded data removed]",
      "text/plain": [
       "<Figure size 432x288 with 1 Axes>"
      ]
     },
     "metadata": {
      "needs_background": "light"
     },
     "output_type": "display_data"
    }
   ],
   "source": [
    "import matplotlib.pyplot as plt\n",
    "import seaborn as sns\n",
    "%matplotlib inline\n",
    "# Creating a bar plot\n",
    "sns.barplot(x=feature_imp, y=feature_imp.index)\n",
    "# Add labels to your graph\n",
    "plt.xlabel('Feature Importance Score')\n",
    "plt.ylabel('Features')\n",
    "plt.title(\"Visualizing Important Features\")\n",
    "plt.legend()\n",
    "plt.show()"
   ]
  }
 ],
 "metadata": {
  "kernelspec": {
   "display_name": "Python [conda env:.conda-EAI6010]",
   "language": "python",
   "name": "conda-env-.conda-EAI6010-py"
  },
  "language_info": {
   "codemirror_mode": {
    "name": "ipython",
    "version": 3
   },
   "file_extension": ".py",
   "mimetype": "text/x-python",
   "name": "python",
   "nbconvert_exporter": "python",
   "pygments_lexer": "ipython3",
   "version": "3.8.12"
  },
  "toc": {
   "nav_menu": {},
   "number_sections": true,
   "sideBar": true,
   "skip_h1_title": false,
   "toc_cell": false,
   "toc_position": {},
   "toc_section_display": "block",
   "toc_window_display": false
  }
 },
 "nbformat": 4,
 "nbformat_minor": 2
}
